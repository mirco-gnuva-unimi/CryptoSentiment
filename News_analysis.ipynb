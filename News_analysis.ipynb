{
 "cells": [
  {
   "cell_type": "markdown",
   "id": "addressed-marble",
   "metadata": {},
   "source": [
    "# News analysis"
   ]
  },
  {
   "cell_type": "markdown",
   "id": "bulgarian-witness",
   "metadata": {},
   "source": [
    "### Notebook description\n",
    "\n",
    "This notebook aims to analyze the correlation between news about Bitcoin and Bitcoin price over years."
   ]
  },
  {
   "cell_type": "markdown",
   "id": "appreciated-accreditation",
   "metadata": {},
   "source": [
    "### Data overview\n",
    "\n",
    "The dataset used in the notebook's charts is the result of a merge of numerous public datasets and automated crawling, those datasets' sources are listed in the README file.\n",
    "\n",
    "Each post has been classified using fast-classifier from Flair framework (read the README for details about the license)."
   ]
  },
  {
   "cell_type": "markdown",
   "id": "judicial-whale",
   "metadata": {},
   "source": [
    "## Basic Analysis"
   ]
  },
  {
   "cell_type": "markdown",
   "id": "unique-lancaster",
   "metadata": {},
   "source": [
    "To achieve uniformity between charts, a project-wise colors palette has been used"
   ]
  },
  {
   "cell_type": "code",
   "execution_count": 1,
   "id": "complex-victoria",
   "metadata": {},
   "outputs": [],
   "source": [
    "from palette import palette\n",
    "base_path = '/mnt/hgfs/VMs_Shared/datasets/filtered/'"
   ]
  },
  {
   "cell_type": "markdown",
   "id": "computational-alexandria",
   "metadata": {},
   "source": [
    "For consistency with twitter analysis, posts' info has been grouped by date (view <nome notebook> for grouping details)"
   ]
  },
  {
   "cell_type": "code",
   "execution_count": 2,
   "id": "conservative-coral",
   "metadata": {},
   "outputs": [],
   "source": [
    "daily_csv = base_path + 'news_daily_info.csv'"
   ]
  },
  {
   "cell_type": "code",
   "execution_count": 3,
   "id": "talented-celtic",
   "metadata": {},
   "outputs": [],
   "source": [
    "import pandas as pd\n",
    "\n",
    "raw_df = pd.read_csv(daily_csv).dropna()"
   ]
  },
  {
   "cell_type": "code",
   "execution_count": 4,
   "id": "floral-indicator",
   "metadata": {},
   "outputs": [],
   "source": [
    "def avg_sentiment(group) -> float:\n",
    "    total = sum(group['count'])\n",
    "    sentiment = sum(group['count'] * group['signed_score'])/total\n",
    "    return sentiment\n",
    "\n",
    "def score_to_label(score) -> str:\n",
    "    if score == 0:\n",
    "        return 'NEUTRAL'\n",
    "    return 'POSITIVE' if score > 0 else 'NEGATIVE'\n",
    "\n",
    "def normalize(value: float, range_min: float, range_max: float) -> float:\n",
    "    return (value-range_min)/(range_max-range_min)\n",
    "\n",
    "def normalize_series(series, series_min=None, series_max=None) -> pd.Series:\n",
    "    if series_min is None:\n",
    "        series_min = min(series)\n",
    "        \n",
    "    if series_max is None:\n",
    "        series_max = max(series)\n",
    "    return series.apply(lambda x: normalize(x, series_min, series_max))"
   ]
  },
  {
   "cell_type": "code",
   "execution_count": 5,
   "id": "retained-scholar",
   "metadata": {},
   "outputs": [],
   "source": [
    "raw_df['label'] = raw_df['label'].apply(lambda x: x.replace('\"', ''))\n",
    "raw_df['signed_score'] = raw_df['conf'] * raw_df['label'].apply(lambda x: 1 if x == 'POSITIVE' else -1)"
   ]
  },
  {
   "cell_type": "markdown",
   "id": "catholic-elements",
   "metadata": {},
   "source": [
    "Common dates range is calculated intersecting the market dataframe with news one"
   ]
  },
  {
   "cell_type": "code",
   "execution_count": 6,
   "id": "prospective-classroom",
   "metadata": {},
   "outputs": [],
   "source": [
    "market_daily_csv = base_path + '/market_daily_info.csv'\n",
    "market_dates = pd.read_csv(market_daily_csv).dropna()['date']\n",
    "\n",
    "dates_min = max([min(market_dates), min(raw_df['date'])])\n",
    "dates_max = min([max(market_dates), max(raw_df['date'])])\n",
    "\n",
    "dates = pd.concat([market_dates, raw_df['date']])\n",
    "    \n",
    "dates = dates.drop_duplicates().sort_values()\n",
    "dates = dates[(dates_min <= dates) & (dates <= dates_max)]"
   ]
  },
  {
   "cell_type": "code",
   "execution_count": 7,
   "id": "informal-bookmark",
   "metadata": {},
   "outputs": [],
   "source": [
    "raw_df = raw_df[(raw_df['date'] >= dates_min) & (raw_df['date'] <= dates_max)]"
   ]
  },
  {
   "cell_type": "code",
   "execution_count": 8,
   "id": "parental-relief",
   "metadata": {},
   "outputs": [],
   "source": [
    "date_grouped = raw_df.groupby('date')\n",
    "daily_df = pd.DataFrame(index=raw_df['date'].drop_duplicates())\n",
    "daily_df['sentiment'] = date_grouped.apply(avg_sentiment)\n",
    "daily_df['norm_sent'] = normalize_series(daily_df['sentiment'], -1, 1)\n",
    "daily_df['label'] = daily_df['sentiment'].apply(score_to_label)\n",
    "daily_df['count'] = date_grouped.apply(lambda x: sum(x['count']))\n",
    "daily_df['norm_count'] = normalize_series(daily_df['count'], 0)\n",
    "negatives = raw_df[raw_df['label'] == 'NEGATIVE'][['date', 'count']]\n",
    "negatives.columns= ['date', 'negatives']\n",
    "positives = raw_df[raw_df['label'] == 'POSITIVE'][['date', 'count']]\n",
    "positives.columns= ['date', 'positives']\n",
    "daily_df = daily_df.merge(negatives, on='date')\n",
    "daily_df = daily_df.merge(positives, on='date')\n",
    "daily_df = daily_df.drop_duplicates(subset=['date'])"
   ]
  },
  {
   "cell_type": "code",
   "execution_count": 9,
   "id": "expensive-thumbnail",
   "metadata": {},
   "outputs": [],
   "source": [
    "daily_df = daily_df[(daily_df['date'] >= dates_min) & (daily_df['date'] <= dates_max)]\n",
    "daily_df['norm_sent'] = normalize_series(daily_df['sentiment'], -1, 1)"
   ]
  },
  {
   "cell_type": "markdown",
   "id": "ultimate-toilet",
   "metadata": {},
   "source": [
    "As for news, the market info are day grained"
   ]
  },
  {
   "cell_type": "code",
   "execution_count": 10,
   "id": "attempted-array",
   "metadata": {},
   "outputs": [],
   "source": [
    "market_daily_csv = base_path+ 'market_daily_info.csv'\n",
    "market_raw_df = pd.read_csv(market_daily_csv)\n",
    "market_raw_df = market_raw_df.dropna()\n",
    "market_df = pd.DataFrame(dates, columns=['date'])\n",
    "market_df = market_df.merge(market_raw_df, on='date')\n",
    "market_df['mid_price'] = (market_df['high'] + market_df['low'])/2\n",
    "market_df['norm_mid_price'] = normalize_series(market_df['mid_price'])\n",
    "market_df = market_df[(dates_min <= market_df['date']) & (market_df['date']<= dates_max)]"
   ]
  },
  {
   "cell_type": "code",
   "execution_count": 11,
   "id": "affected-federal",
   "metadata": {},
   "outputs": [
    {
     "data": {
      "text/plain": [
       "DataTransformerRegistry.enable('json')"
      ]
     },
     "execution_count": 11,
     "metadata": {},
     "output_type": "execute_result"
    }
   ],
   "source": [
    "import altair as alt\n",
    "\n",
    "alt.data_transformers.enable('json')"
   ]
  },
  {
   "cell_type": "markdown",
   "id": "oriental-window",
   "metadata": {},
   "source": [
    "### Weekly volume"
   ]
  },
  {
   "cell_type": "code",
   "execution_count": 12,
   "id": "fifteen-gross",
   "metadata": {},
   "outputs": [
    {
     "data": {
      "text/html": [
       "\n",
       "<div id=\"altair-viz-0ff25f4507fd49289f088b04b6ef0516\"></div>\n",
       "<script type=\"text/javascript\">\n",
       "  (function(spec, embedOpt){\n",
       "    let outputDiv = document.currentScript.previousElementSibling;\n",
       "    if (outputDiv.id !== \"altair-viz-0ff25f4507fd49289f088b04b6ef0516\") {\n",
       "      outputDiv = document.getElementById(\"altair-viz-0ff25f4507fd49289f088b04b6ef0516\");\n",
       "    }\n",
       "    const paths = {\n",
       "      \"vega\": \"https://cdn.jsdelivr.net/npm//vega@5?noext\",\n",
       "      \"vega-lib\": \"https://cdn.jsdelivr.net/npm//vega-lib?noext\",\n",
       "      \"vega-lite\": \"https://cdn.jsdelivr.net/npm//vega-lite@4.8.1?noext\",\n",
       "      \"vega-embed\": \"https://cdn.jsdelivr.net/npm//vega-embed@6?noext\",\n",
       "    };\n",
       "\n",
       "    function loadScript(lib) {\n",
       "      return new Promise(function(resolve, reject) {\n",
       "        var s = document.createElement('script');\n",
       "        s.src = paths[lib];\n",
       "        s.async = true;\n",
       "        s.onload = () => resolve(paths[lib]);\n",
       "        s.onerror = () => reject(`Error loading script: ${paths[lib]}`);\n",
       "        document.getElementsByTagName(\"head\")[0].appendChild(s);\n",
       "      });\n",
       "    }\n",
       "\n",
       "    function showError(err) {\n",
       "      outputDiv.innerHTML = `<div class=\"error\" style=\"color:red;\">${err}</div>`;\n",
       "      throw err;\n",
       "    }\n",
       "\n",
       "    function displayChart(vegaEmbed) {\n",
       "      vegaEmbed(outputDiv, spec, embedOpt)\n",
       "        .catch(err => showError(`Javascript Error: ${err.message}<br>This usually means there's a typo in your chart specification. See the javascript console for the full traceback.`));\n",
       "    }\n",
       "\n",
       "    if(typeof define === \"function\" && define.amd) {\n",
       "      requirejs.config({paths});\n",
       "      require([\"vega-embed\"], displayChart, err => showError(`Error loading script: ${err.message}`));\n",
       "    } else if (typeof vegaEmbed === \"function\") {\n",
       "      displayChart(vegaEmbed);\n",
       "    } else {\n",
       "      loadScript(\"vega\")\n",
       "        .then(() => loadScript(\"vega-lite\"))\n",
       "        .then(() => loadScript(\"vega-embed\"))\n",
       "        .catch(showError)\n",
       "        .then(() => displayChart(vegaEmbed));\n",
       "    }\n",
       "  })({\"config\": {\"view\": {\"continuousWidth\": 400, \"continuousHeight\": 300}}, \"data\": {\"url\": \"altair-data-cb1ca6a31bf8cf7a1eca09c6234dd2d5.json\", \"format\": {\"type\": \"json\"}}, \"mark\": \"area\", \"encoding\": {\"color\": {\"value\": \"#f58518\"}, \"x\": {\"type\": \"temporal\", \"field\": \"month\", \"timeUnit\": \"yearmonth\", \"title\": \"Date\"}, \"y\": {\"type\": \"quantitative\", \"field\": \"count\", \"title\": \"Volume\"}}, \"title\": {\"text\": \"Weekly volume\", \"subtitle\": \"Average volume per week\"}, \"$schema\": \"https://vega.github.io/schema/vega-lite/v4.8.1.json\"}, {\"mode\": \"vega-lite\"});\n",
       "</script>"
      ],
      "text/plain": [
       "alt.Chart(...)"
      ]
     },
     "execution_count": 12,
     "metadata": {},
     "output_type": "execute_result"
    }
   ],
   "source": [
    "daily_df['month'] = daily_df['date'].apply(lambda x: x[:-3])\n",
    "\n",
    "weekly_volume = daily_df[['month', 'count']].groupby(by='month', as_index=False).mean()\n",
    "\n",
    "plot_title = alt.TitleParams('Weekly volume', subtitle='Average volume per week')\n",
    "volume_chart = alt.Chart(weekly_volume, title=plot_title).mark_area().encode(alt.X('yearmonth(month):T', title='Date'),\n",
    "                                                                                 alt.Y('count', title='Volume'),\n",
    "                                                                                 color=alt.value(palette['news']))\n",
    "\n",
    "volume_chart"
   ]
  },
  {
   "cell_type": "markdown",
   "id": "mighty-staff",
   "metadata": {},
   "source": [
    "There is a pattern in the volume per day: there are under 40 news per day (excluded 2021) and in August news is under 10 per day. This reflects the crawling method and the nature of news; for each day has been crawled only the first google news page and, normally, in August, when people are on holidays, the interest related to financial things drops."
   ]
  },
  {
   "cell_type": "markdown",
   "id": "gorgeous-withdrawal",
   "metadata": {},
   "source": [
    "### Basic data exploration"
   ]
  },
  {
   "cell_type": "markdown",
   "id": "marked-keeping",
   "metadata": {},
   "source": [
    "#### Sentiment"
   ]
  },
  {
   "cell_type": "code",
   "execution_count": 13,
   "id": "reverse-blanket",
   "metadata": {},
   "outputs": [
    {
     "data": {
      "text/html": [
       "\n",
       "<div id=\"altair-viz-bc026c442dc74abebdce594a02fcee94\"></div>\n",
       "<script type=\"text/javascript\">\n",
       "  (function(spec, embedOpt){\n",
       "    let outputDiv = document.currentScript.previousElementSibling;\n",
       "    if (outputDiv.id !== \"altair-viz-bc026c442dc74abebdce594a02fcee94\") {\n",
       "      outputDiv = document.getElementById(\"altair-viz-bc026c442dc74abebdce594a02fcee94\");\n",
       "    }\n",
       "    const paths = {\n",
       "      \"vega\": \"https://cdn.jsdelivr.net/npm//vega@5?noext\",\n",
       "      \"vega-lib\": \"https://cdn.jsdelivr.net/npm//vega-lib?noext\",\n",
       "      \"vega-lite\": \"https://cdn.jsdelivr.net/npm//vega-lite@4.8.1?noext\",\n",
       "      \"vega-embed\": \"https://cdn.jsdelivr.net/npm//vega-embed@6?noext\",\n",
       "    };\n",
       "\n",
       "    function loadScript(lib) {\n",
       "      return new Promise(function(resolve, reject) {\n",
       "        var s = document.createElement('script');\n",
       "        s.src = paths[lib];\n",
       "        s.async = true;\n",
       "        s.onload = () => resolve(paths[lib]);\n",
       "        s.onerror = () => reject(`Error loading script: ${paths[lib]}`);\n",
       "        document.getElementsByTagName(\"head\")[0].appendChild(s);\n",
       "      });\n",
       "    }\n",
       "\n",
       "    function showError(err) {\n",
       "      outputDiv.innerHTML = `<div class=\"error\" style=\"color:red;\">${err}</div>`;\n",
       "      throw err;\n",
       "    }\n",
       "\n",
       "    function displayChart(vegaEmbed) {\n",
       "      vegaEmbed(outputDiv, spec, embedOpt)\n",
       "        .catch(err => showError(`Javascript Error: ${err.message}<br>This usually means there's a typo in your chart specification. See the javascript console for the full traceback.`));\n",
       "    }\n",
       "\n",
       "    if(typeof define === \"function\" && define.amd) {\n",
       "      requirejs.config({paths});\n",
       "      require([\"vega-embed\"], displayChart, err => showError(`Error loading script: ${err.message}`));\n",
       "    } else if (typeof vegaEmbed === \"function\") {\n",
       "      displayChart(vegaEmbed);\n",
       "    } else {\n",
       "      loadScript(\"vega\")\n",
       "        .then(() => loadScript(\"vega-lite\"))\n",
       "        .then(() => loadScript(\"vega-embed\"))\n",
       "        .catch(showError)\n",
       "        .then(() => displayChart(vegaEmbed));\n",
       "    }\n",
       "  })({\"config\": {\"view\": {\"continuousWidth\": 400, \"continuousHeight\": 300}}, \"data\": {\"url\": \"altair-data-79500652d40eabb1a87f9e99b7af237b.json\", \"format\": {\"type\": \"json\"}}, \"mark\": {\"type\": \"boxplot\", \"color\": \"#f58518\"}, \"encoding\": {\"x\": {\"type\": \"quantitative\", \"field\": \"norm_sent\", \"title\": \"Normalized sentiment\"}}, \"height\": 200, \"title\": \"Sentiment dispersion\", \"$schema\": \"https://vega.github.io/schema/vega-lite/v4.8.1.json\"}, {\"mode\": \"vega-lite\"});\n",
       "</script>"
      ],
      "text/plain": [
       "alt.Chart(...)"
      ]
     },
     "execution_count": 13,
     "metadata": {},
     "output_type": "execute_result"
    }
   ],
   "source": [
    "sent_rounded = daily_df[['norm_sent']].copy()\n",
    "sent_rounded['norm_sent'] = sent_rounded['norm_sent'].apply(lambda x: round(x, 2))\n",
    "\n",
    "alt.Chart(sent_rounded, title='Sentiment dispersion').mark_boxplot(color=palette['news']).encode(alt.X('norm_sent', title='Normalized sentiment')).properties(height=200)"
   ]
  },
  {
   "cell_type": "markdown",
   "id": "popular-reset",
   "metadata": {},
   "source": [
    "IQR shows that the used classifier had some problem classifying news or that they are simply impartial (for experience, Bitcoin-related news are not impartial). Contrary to what happens for other media, the news sentiment range is on the whole classification range."
   ]
  },
  {
   "cell_type": "code",
   "execution_count": 14,
   "id": "indie-suite",
   "metadata": {},
   "outputs": [
    {
     "data": {
      "text/html": [
       "\n",
       "<div id=\"altair-viz-1900885f365743fca27a36dd6045e5ff\"></div>\n",
       "<script type=\"text/javascript\">\n",
       "  (function(spec, embedOpt){\n",
       "    let outputDiv = document.currentScript.previousElementSibling;\n",
       "    if (outputDiv.id !== \"altair-viz-1900885f365743fca27a36dd6045e5ff\") {\n",
       "      outputDiv = document.getElementById(\"altair-viz-1900885f365743fca27a36dd6045e5ff\");\n",
       "    }\n",
       "    const paths = {\n",
       "      \"vega\": \"https://cdn.jsdelivr.net/npm//vega@5?noext\",\n",
       "      \"vega-lib\": \"https://cdn.jsdelivr.net/npm//vega-lib?noext\",\n",
       "      \"vega-lite\": \"https://cdn.jsdelivr.net/npm//vega-lite@4.8.1?noext\",\n",
       "      \"vega-embed\": \"https://cdn.jsdelivr.net/npm//vega-embed@6?noext\",\n",
       "    };\n",
       "\n",
       "    function loadScript(lib) {\n",
       "      return new Promise(function(resolve, reject) {\n",
       "        var s = document.createElement('script');\n",
       "        s.src = paths[lib];\n",
       "        s.async = true;\n",
       "        s.onload = () => resolve(paths[lib]);\n",
       "        s.onerror = () => reject(`Error loading script: ${paths[lib]}`);\n",
       "        document.getElementsByTagName(\"head\")[0].appendChild(s);\n",
       "      });\n",
       "    }\n",
       "\n",
       "    function showError(err) {\n",
       "      outputDiv.innerHTML = `<div class=\"error\" style=\"color:red;\">${err}</div>`;\n",
       "      throw err;\n",
       "    }\n",
       "\n",
       "    function displayChart(vegaEmbed) {\n",
       "      vegaEmbed(outputDiv, spec, embedOpt)\n",
       "        .catch(err => showError(`Javascript Error: ${err.message}<br>This usually means there's a typo in your chart specification. See the javascript console for the full traceback.`));\n",
       "    }\n",
       "\n",
       "    if(typeof define === \"function\" && define.amd) {\n",
       "      requirejs.config({paths});\n",
       "      require([\"vega-embed\"], displayChart, err => showError(`Error loading script: ${err.message}`));\n",
       "    } else if (typeof vegaEmbed === \"function\") {\n",
       "      displayChart(vegaEmbed);\n",
       "    } else {\n",
       "      loadScript(\"vega\")\n",
       "        .then(() => loadScript(\"vega-lite\"))\n",
       "        .then(() => loadScript(\"vega-embed\"))\n",
       "        .catch(showError)\n",
       "        .then(() => displayChart(vegaEmbed));\n",
       "    }\n",
       "  })({\"config\": {\"view\": {\"continuousWidth\": 400, \"continuousHeight\": 300}}, \"data\": {\"url\": \"altair-data-1d7493ab4f110b51edd205bd83621a54.json\", \"format\": {\"type\": \"json\"}}, \"mark\": \"area\", \"encoding\": {\"color\": {\"value\": \"#f58518\"}, \"x\": {\"type\": \"quantitative\", \"field\": \"norm_sent\", \"title\": \"Normalized sentiment\"}, \"y\": {\"type\": \"quantitative\", \"field\": \"count\", \"title\": \"Count\"}}, \"title\": \"Sentiment distribution\", \"$schema\": \"https://vega.github.io/schema/vega-lite/v4.8.1.json\"}, {\"mode\": \"vega-lite\"});\n",
       "</script>"
      ],
      "text/plain": [
       "alt.Chart(...)"
      ]
     },
     "execution_count": 14,
     "metadata": {},
     "output_type": "execute_result"
    }
   ],
   "source": [
    "sent_dist = sent_rounded.groupby('norm_sent', as_index=False).size()\n",
    "sent_dist.columns = ['norm_sent', 'count']\n",
    "\n",
    "alt.Chart(sent_dist, title='Sentiment distribution').mark_area().encode(alt.X('norm_sent', title='Normalized sentiment'), alt.Y('count', title='Count'), color=alt.value(palette['news']))"
   ]
  },
  {
   "cell_type": "markdown",
   "id": "smart-flexibility",
   "metadata": {},
   "source": [
    "The sentiment distribution is similar to a normal distribution but wider, so the Pearson correlation could be useful."
   ]
  },
  {
   "cell_type": "markdown",
   "id": "killing-static",
   "metadata": {},
   "source": [
    "#### Volume"
   ]
  },
  {
   "cell_type": "code",
   "execution_count": 25,
   "id": "distinguished-realtor",
   "metadata": {},
   "outputs": [
    {
     "data": {
      "text/html": [
       "\n",
       "<div id=\"altair-viz-2e4cf61cd70f4be996f58d1ff79c64c8\"></div>\n",
       "<script type=\"text/javascript\">\n",
       "  (function(spec, embedOpt){\n",
       "    let outputDiv = document.currentScript.previousElementSibling;\n",
       "    if (outputDiv.id !== \"altair-viz-2e4cf61cd70f4be996f58d1ff79c64c8\") {\n",
       "      outputDiv = document.getElementById(\"altair-viz-2e4cf61cd70f4be996f58d1ff79c64c8\");\n",
       "    }\n",
       "    const paths = {\n",
       "      \"vega\": \"https://cdn.jsdelivr.net/npm//vega@5?noext\",\n",
       "      \"vega-lib\": \"https://cdn.jsdelivr.net/npm//vega-lib?noext\",\n",
       "      \"vega-lite\": \"https://cdn.jsdelivr.net/npm//vega-lite@4.8.1?noext\",\n",
       "      \"vega-embed\": \"https://cdn.jsdelivr.net/npm//vega-embed@6?noext\",\n",
       "    };\n",
       "\n",
       "    function loadScript(lib) {\n",
       "      return new Promise(function(resolve, reject) {\n",
       "        var s = document.createElement('script');\n",
       "        s.src = paths[lib];\n",
       "        s.async = true;\n",
       "        s.onload = () => resolve(paths[lib]);\n",
       "        s.onerror = () => reject(`Error loading script: ${paths[lib]}`);\n",
       "        document.getElementsByTagName(\"head\")[0].appendChild(s);\n",
       "      });\n",
       "    }\n",
       "\n",
       "    function showError(err) {\n",
       "      outputDiv.innerHTML = `<div class=\"error\" style=\"color:red;\">${err}</div>`;\n",
       "      throw err;\n",
       "    }\n",
       "\n",
       "    function displayChart(vegaEmbed) {\n",
       "      vegaEmbed(outputDiv, spec, embedOpt)\n",
       "        .catch(err => showError(`Javascript Error: ${err.message}<br>This usually means there's a typo in your chart specification. See the javascript console for the full traceback.`));\n",
       "    }\n",
       "\n",
       "    if(typeof define === \"function\" && define.amd) {\n",
       "      requirejs.config({paths});\n",
       "      require([\"vega-embed\"], displayChart, err => showError(`Error loading script: ${err.message}`));\n",
       "    } else if (typeof vegaEmbed === \"function\") {\n",
       "      displayChart(vegaEmbed);\n",
       "    } else {\n",
       "      loadScript(\"vega\")\n",
       "        .then(() => loadScript(\"vega-lite\"))\n",
       "        .then(() => loadScript(\"vega-embed\"))\n",
       "        .catch(showError)\n",
       "        .then(() => displayChart(vegaEmbed));\n",
       "    }\n",
       "  })({\"config\": {\"view\": {\"continuousWidth\": 400, \"continuousHeight\": 300}}, \"data\": {\"url\": \"altair-data-1de31d447d44b413bcad520c22a7f5de.json\", \"format\": {\"type\": \"json\"}}, \"mark\": {\"type\": \"boxplot\", \"color\": \"#f58518\"}, \"encoding\": {\"x\": {\"type\": \"quantitative\", \"field\": \"count\", \"title\": null}}, \"height\": 200, \"title\": \"Volume dispersion\", \"$schema\": \"https://vega.github.io/schema/vega-lite/v4.8.1.json\"}, {\"mode\": \"vega-lite\"});\n",
       "</script>"
      ],
      "text/plain": [
       "alt.Chart(...)"
      ]
     },
     "execution_count": 25,
     "metadata": {},
     "output_type": "execute_result"
    }
   ],
   "source": [
    "alt.Chart(daily_df, title='Volume dispersion').mark_boxplot(color=palette['news']).encode(alt.X('count', title=None)).properties(height=200)"
   ]
  },
  {
   "cell_type": "markdown",
   "id": "correct-mobility",
   "metadata": {},
   "source": [
    "As expected, there are few outliers (2021 news)"
   ]
  },
  {
   "cell_type": "code",
   "execution_count": 26,
   "id": "polish-current",
   "metadata": {},
   "outputs": [
    {
     "data": {
      "text/html": [
       "\n",
       "<div id=\"altair-viz-04de967aa07442fc90954773a0f5f25a\"></div>\n",
       "<script type=\"text/javascript\">\n",
       "  (function(spec, embedOpt){\n",
       "    let outputDiv = document.currentScript.previousElementSibling;\n",
       "    if (outputDiv.id !== \"altair-viz-04de967aa07442fc90954773a0f5f25a\") {\n",
       "      outputDiv = document.getElementById(\"altair-viz-04de967aa07442fc90954773a0f5f25a\");\n",
       "    }\n",
       "    const paths = {\n",
       "      \"vega\": \"https://cdn.jsdelivr.net/npm//vega@5?noext\",\n",
       "      \"vega-lib\": \"https://cdn.jsdelivr.net/npm//vega-lib?noext\",\n",
       "      \"vega-lite\": \"https://cdn.jsdelivr.net/npm//vega-lite@4.8.1?noext\",\n",
       "      \"vega-embed\": \"https://cdn.jsdelivr.net/npm//vega-embed@6?noext\",\n",
       "    };\n",
       "\n",
       "    function loadScript(lib) {\n",
       "      return new Promise(function(resolve, reject) {\n",
       "        var s = document.createElement('script');\n",
       "        s.src = paths[lib];\n",
       "        s.async = true;\n",
       "        s.onload = () => resolve(paths[lib]);\n",
       "        s.onerror = () => reject(`Error loading script: ${paths[lib]}`);\n",
       "        document.getElementsByTagName(\"head\")[0].appendChild(s);\n",
       "      });\n",
       "    }\n",
       "\n",
       "    function showError(err) {\n",
       "      outputDiv.innerHTML = `<div class=\"error\" style=\"color:red;\">${err}</div>`;\n",
       "      throw err;\n",
       "    }\n",
       "\n",
       "    function displayChart(vegaEmbed) {\n",
       "      vegaEmbed(outputDiv, spec, embedOpt)\n",
       "        .catch(err => showError(`Javascript Error: ${err.message}<br>This usually means there's a typo in your chart specification. See the javascript console for the full traceback.`));\n",
       "    }\n",
       "\n",
       "    if(typeof define === \"function\" && define.amd) {\n",
       "      requirejs.config({paths});\n",
       "      require([\"vega-embed\"], displayChart, err => showError(`Error loading script: ${err.message}`));\n",
       "    } else if (typeof vegaEmbed === \"function\") {\n",
       "      displayChart(vegaEmbed);\n",
       "    } else {\n",
       "      loadScript(\"vega\")\n",
       "        .then(() => loadScript(\"vega-lite\"))\n",
       "        .then(() => loadScript(\"vega-embed\"))\n",
       "        .catch(showError)\n",
       "        .then(() => displayChart(vegaEmbed));\n",
       "    }\n",
       "  })({\"config\": {\"view\": {\"continuousWidth\": 400, \"continuousHeight\": 300}}, \"data\": {\"url\": \"altair-data-ebfd5f62b92348252cf504ca6ed360cd.json\", \"format\": {\"type\": \"json\"}}, \"mark\": \"line\", \"encoding\": {\"color\": {\"value\": \"#f58518\"}, \"x\": {\"type\": \"quantitative\", \"field\": \"volume\", \"title\": \"Normalized sentiment\"}, \"y\": {\"type\": \"quantitative\", \"field\": \"count\", \"title\": \"Count\"}}, \"title\": \"Volume distribution\", \"$schema\": \"https://vega.github.io/schema/vega-lite/v4.8.1.json\"}, {\"mode\": \"vega-lite\"});\n",
       "</script>"
      ],
      "text/plain": [
       "alt.Chart(...)"
      ]
     },
     "execution_count": 26,
     "metadata": {},
     "output_type": "execute_result"
    }
   ],
   "source": [
    "volumes = daily_df[['count']]\n",
    "\n",
    "volumes_dist = volumes.groupby('count', as_index=False).size()\n",
    "volumes_dist.columns = ['volume', 'count']\n",
    "\n",
    "alt.Chart(volumes_dist, title='Volume distribution').mark_line().encode(alt.X('volume', title='Normalized sentiment'), alt.Y('count', title='Count'), color=alt.value(palette['news']))"
   ]
  },
  {
   "cell_type": "markdown",
   "id": "interpreted-silly",
   "metadata": {},
   "source": [
    "The volume distribution is clearly unbalanced on the left, so Pearson correlation can't be applied to evaluate volume correlation."
   ]
  },
  {
   "cell_type": "markdown",
   "id": "public-spirituality",
   "metadata": {},
   "source": [
    "## Sentiment analysis"
   ]
  },
  {
   "cell_type": "code",
   "execution_count": 17,
   "id": "official-bermuda",
   "metadata": {},
   "outputs": [
    {
     "data": {
      "text/html": [
       "\n",
       "<div id=\"altair-viz-67d2f6e30eb64c25b7b6eec6c1b97923\"></div>\n",
       "<script type=\"text/javascript\">\n",
       "  (function(spec, embedOpt){\n",
       "    let outputDiv = document.currentScript.previousElementSibling;\n",
       "    if (outputDiv.id !== \"altair-viz-67d2f6e30eb64c25b7b6eec6c1b97923\") {\n",
       "      outputDiv = document.getElementById(\"altair-viz-67d2f6e30eb64c25b7b6eec6c1b97923\");\n",
       "    }\n",
       "    const paths = {\n",
       "      \"vega\": \"https://cdn.jsdelivr.net/npm//vega@5?noext\",\n",
       "      \"vega-lib\": \"https://cdn.jsdelivr.net/npm//vega-lib?noext\",\n",
       "      \"vega-lite\": \"https://cdn.jsdelivr.net/npm//vega-lite@4.8.1?noext\",\n",
       "      \"vega-embed\": \"https://cdn.jsdelivr.net/npm//vega-embed@6?noext\",\n",
       "    };\n",
       "\n",
       "    function loadScript(lib) {\n",
       "      return new Promise(function(resolve, reject) {\n",
       "        var s = document.createElement('script');\n",
       "        s.src = paths[lib];\n",
       "        s.async = true;\n",
       "        s.onload = () => resolve(paths[lib]);\n",
       "        s.onerror = () => reject(`Error loading script: ${paths[lib]}`);\n",
       "        document.getElementsByTagName(\"head\")[0].appendChild(s);\n",
       "      });\n",
       "    }\n",
       "\n",
       "    function showError(err) {\n",
       "      outputDiv.innerHTML = `<div class=\"error\" style=\"color:red;\">${err}</div>`;\n",
       "      throw err;\n",
       "    }\n",
       "\n",
       "    function displayChart(vegaEmbed) {\n",
       "      vegaEmbed(outputDiv, spec, embedOpt)\n",
       "        .catch(err => showError(`Javascript Error: ${err.message}<br>This usually means there's a typo in your chart specification. See the javascript console for the full traceback.`));\n",
       "    }\n",
       "\n",
       "    if(typeof define === \"function\" && define.amd) {\n",
       "      requirejs.config({paths});\n",
       "      require([\"vega-embed\"], displayChart, err => showError(`Error loading script: ${err.message}`));\n",
       "    } else if (typeof vegaEmbed === \"function\") {\n",
       "      displayChart(vegaEmbed);\n",
       "    } else {\n",
       "      loadScript(\"vega\")\n",
       "        .then(() => loadScript(\"vega-lite\"))\n",
       "        .then(() => loadScript(\"vega-embed\"))\n",
       "        .catch(showError)\n",
       "        .then(() => displayChart(vegaEmbed));\n",
       "    }\n",
       "  })({\"config\": {\"view\": {\"continuousWidth\": 400, \"continuousHeight\": 300}}, \"vconcat\": [{\"layer\": [{\"data\": {\"url\": \"altair-data-1de31d447d44b413bcad520c22a7f5de.json\", \"format\": {\"type\": \"json\"}}, \"mark\": \"bar\", \"encoding\": {\"color\": {\"type\": \"quantitative\", \"field\": \"norm_sent\", \"scale\": {\"domain\": [0, 1], \"range\": [\"#e45756\", \"#54a24b\"]}, \"title\": \"Normalized sentiment\"}, \"x\": {\"type\": \"temporal\", \"axis\": {\"labelOverlap\": \"greedy\", \"labelSeparation\": 6}, \"bin\": {\"extent\": {\"selection\": \"selector001\"}, \"maxbins\": 100}, \"field\": \"date\", \"scale\": {\"domain\": {\"selection\": \"selector001\"}}, \"timeUnit\": \"yearmonthdate\"}, \"y\": {\"type\": \"quantitative\", \"field\": \"norm_sent\", \"scale\": {\"domain\": [0, 1]}, \"title\": \"Normalized sentiment\"}}, \"title\": {\"text\": \"Normalized sentiment vs Bitcoin price\", \"subtitle\": \"0:= negative, 1:= positive\"}}, {\"data\": {\"url\": \"altair-data-865b8d7c0905abc25a6282acbca33937.json\", \"format\": {\"type\": \"json\"}}, \"mark\": {\"type\": \"line\", \"color\": \"blue\"}, \"encoding\": {\"x\": {\"type\": \"temporal\", \"field\": \"date\", \"scale\": {\"domain\": {\"selection\": \"selector001\"}}, \"timeUnit\": \"yearmonthdate\", \"title\": null}, \"y\": {\"type\": \"quantitative\", \"field\": \"mid_price\"}}}], \"resolve\": {\"scale\": {\"y\": \"independent\"}}}, {\"data\": {\"url\": \"altair-data-1de31d447d44b413bcad520c22a7f5de.json\", \"format\": {\"type\": \"json\"}}, \"mark\": \"bar\", \"encoding\": {\"color\": {\"type\": \"quantitative\", \"field\": \"norm_sent\", \"scale\": {\"domain\": [0, 1], \"range\": [\"#e45756\", \"#54a24b\"]}, \"title\": \"Normalized sentiment\"}, \"x\": {\"type\": \"temporal\", \"axis\": {\"labelOverlap\": \"greedy\", \"labelSeparation\": 6}, \"bin\": {\"maxbins\": 100}, \"field\": \"date\", \"timeUnit\": \"yearmonthdate\", \"title\": \"Date\"}, \"y\": {\"type\": \"quantitative\", \"field\": \"norm_sent\", \"title\": null}}, \"height\": 50, \"selection\": {\"selector001\": {\"type\": \"interval\", \"encodings\": [\"x\"]}}}], \"$schema\": \"https://vega.github.io/schema/vega-lite/v4.8.1.json\"}, {\"mode\": \"vega-lite\"});\n",
       "</script>"
      ],
      "text/plain": [
       "alt.VConcatChart(...)"
      ]
     },
     "execution_count": 17,
     "metadata": {},
     "output_type": "execute_result"
    }
   ],
   "source": [
    "domain = [0, 1]\n",
    "color_range = [palette['negative'], palette['positive']]\n",
    "\n",
    "time_selector = alt.selection(type='interval', encodings=['x'])\n",
    "\n",
    "gradient = alt.Color('norm_sent', scale=alt.Scale(domain=domain, range=color_range), title='Normalized sentiment')\n",
    "\n",
    "price_chart = alt.Chart(market_df).mark_line(color=palette['strong_price']).encode(\n",
    "    x=alt.X('yearmonthdate(date):T',\n",
    "           scale=alt.Scale(domain=time_selector),\n",
    "           title=None),\n",
    "    y=alt.Y('mid_price')\n",
    ")\n",
    "        \n",
    "plot_title = alt.TitleParams('Normalized sentiment vs Bitcoin price', subtitle='0:= negative, 1:= positive')\n",
    "histogram = alt.Chart(daily_df, title=plot_title).mark_bar().encode(alt.X('yearmonthdate(date):T',\n",
    "                                                       bin=alt.Bin(maxbins=100, extent=time_selector),\n",
    "                                                       scale=alt.Scale(domain=time_selector),\n",
    "                                                       axis=alt.Axis(labelOverlap='greedy', labelSeparation=6)),\n",
    "                                                 alt.Y('norm_sent',\n",
    "                                                      scale=alt.Scale(domain=[0,1]),\n",
    "                                                      title='Normalized sentiment'),\n",
    "                                                 color=gradient)\n",
    "\n",
    "\n",
    "\n",
    "\n",
    "selection_plot = alt.Chart(daily_df).mark_bar().encode(alt.X('yearmonthdate(date):T',\n",
    "                                                       bin=alt.Bin(maxbins=100),\n",
    "                                                            title='Date',\n",
    "                                                            axis=alt.Axis(labelOverlap='greedy', labelSeparation=6)),\n",
    "                                                       alt.Y('norm_sent', title=None),\n",
    "                                                       color=gradient).add_selection(time_selector).properties(height=50)\n",
    "\n",
    "(histogram + price_chart).resolve_scale(y='independent') & selection_plot"
   ]
  },
  {
   "cell_type": "markdown",
   "id": "rental-magnitude",
   "metadata": {},
   "source": [
    "Bar binning has some problems plotting the sentiment if it's in [-1, 1], for that reason the interactive version uses normalized sentiment and the static one uses original sentiment values."
   ]
  },
  {
   "cell_type": "code",
   "execution_count": 18,
   "id": "heavy-floor",
   "metadata": {},
   "outputs": [
    {
     "data": {
      "text/html": [
       "\n",
       "<div id=\"altair-viz-3afce97acd0444d8b679b342270022ee\"></div>\n",
       "<script type=\"text/javascript\">\n",
       "  (function(spec, embedOpt){\n",
       "    let outputDiv = document.currentScript.previousElementSibling;\n",
       "    if (outputDiv.id !== \"altair-viz-3afce97acd0444d8b679b342270022ee\") {\n",
       "      outputDiv = document.getElementById(\"altair-viz-3afce97acd0444d8b679b342270022ee\");\n",
       "    }\n",
       "    const paths = {\n",
       "      \"vega\": \"https://cdn.jsdelivr.net/npm//vega@5?noext\",\n",
       "      \"vega-lib\": \"https://cdn.jsdelivr.net/npm//vega-lib?noext\",\n",
       "      \"vega-lite\": \"https://cdn.jsdelivr.net/npm//vega-lite@4.8.1?noext\",\n",
       "      \"vega-embed\": \"https://cdn.jsdelivr.net/npm//vega-embed@6?noext\",\n",
       "    };\n",
       "\n",
       "    function loadScript(lib) {\n",
       "      return new Promise(function(resolve, reject) {\n",
       "        var s = document.createElement('script');\n",
       "        s.src = paths[lib];\n",
       "        s.async = true;\n",
       "        s.onload = () => resolve(paths[lib]);\n",
       "        s.onerror = () => reject(`Error loading script: ${paths[lib]}`);\n",
       "        document.getElementsByTagName(\"head\")[0].appendChild(s);\n",
       "      });\n",
       "    }\n",
       "\n",
       "    function showError(err) {\n",
       "      outputDiv.innerHTML = `<div class=\"error\" style=\"color:red;\">${err}</div>`;\n",
       "      throw err;\n",
       "    }\n",
       "\n",
       "    function displayChart(vegaEmbed) {\n",
       "      vegaEmbed(outputDiv, spec, embedOpt)\n",
       "        .catch(err => showError(`Javascript Error: ${err.message}<br>This usually means there's a typo in your chart specification. See the javascript console for the full traceback.`));\n",
       "    }\n",
       "\n",
       "    if(typeof define === \"function\" && define.amd) {\n",
       "      requirejs.config({paths});\n",
       "      require([\"vega-embed\"], displayChart, err => showError(`Error loading script: ${err.message}`));\n",
       "    } else if (typeof vegaEmbed === \"function\") {\n",
       "      displayChart(vegaEmbed);\n",
       "    } else {\n",
       "      loadScript(\"vega\")\n",
       "        .then(() => loadScript(\"vega-lite\"))\n",
       "        .then(() => loadScript(\"vega-embed\"))\n",
       "        .catch(showError)\n",
       "        .then(() => displayChart(vegaEmbed));\n",
       "    }\n",
       "  })({\"config\": {\"view\": {\"continuousWidth\": 400, \"continuousHeight\": 300}}, \"layer\": [{\"data\": {\"url\": \"altair-data-1de31d447d44b413bcad520c22a7f5de.json\", \"format\": {\"type\": \"json\"}}, \"mark\": \"bar\", \"encoding\": {\"color\": {\"type\": \"quantitative\", \"field\": \"sentiment\", \"scale\": {\"domain\": [-1, 1], \"range\": [\"#e45756\", \"#54a24b\"]}, \"title\": \"Sentiment\"}, \"x\": {\"type\": \"temporal\", \"field\": \"date\", \"timeUnit\": \"yearmonthdate\", \"title\": \"Date\"}, \"y\": {\"type\": \"quantitative\", \"field\": \"sentiment\", \"scale\": {\"domain\": [-1, 1]}, \"title\": \"Sentiment\"}}, \"title\": {\"text\": \"Static sentiment vs Bitcoin price\", \"subtitle\": \"-1:= negative, 1:= positive\"}}, {\"data\": {\"url\": \"altair-data-865b8d7c0905abc25a6282acbca33937.json\", \"format\": {\"type\": \"json\"}}, \"mark\": {\"type\": \"line\", \"color\": \"blue\"}, \"encoding\": {\"x\": {\"type\": \"temporal\", \"field\": \"date\", \"timeUnit\": \"yearmonthdate\"}, \"y\": {\"type\": \"quantitative\", \"field\": \"mid_price\", \"title\": \"Mid price\"}}}], \"resolve\": {\"scale\": {\"y\": \"independent\"}}, \"$schema\": \"https://vega.github.io/schema/vega-lite/v4.8.1.json\"}, {\"mode\": \"vega-lite\"});\n",
       "</script>"
      ],
      "text/plain": [
       "alt.LayerChart(...)"
      ]
     },
     "execution_count": 18,
     "metadata": {},
     "output_type": "execute_result"
    }
   ],
   "source": [
    "domain = [-1, 1]\n",
    "\n",
    "gradient = alt.Color('sentiment', scale=alt.Scale(domain=domain, range=color_range), title='Sentiment')\n",
    "\n",
    "price_chart = alt.Chart(market_df).mark_line(color=palette['strong_price']).encode(\n",
    "    x=alt.X('yearmonthdate(date):T'),\n",
    "    y=alt.Y('mid_price', title='Mid price')\n",
    ")\n",
    "\n",
    "plot_title = alt.TitleParams('Static sentiment vs Bitcoin price', subtitle='-1:= negative, 1:= positive')\n",
    "histogram = alt.Chart(daily_df, title=plot_title).mark_bar().encode(alt.X('yearmonthdate(date):T', title='Date'),\n",
    "                                                 alt.Y('sentiment',\n",
    "                                                      scale=alt.Scale(domain=[-1,1]),\n",
    "                                                      title='Sentiment'),\n",
    "                                                 color=gradient)\n",
    "\n",
    "\n",
    "\n",
    "\n",
    "(histogram + price_chart).resolve_scale(y='independent')"
   ]
  },
  {
   "cell_type": "markdown",
   "id": "colored-columbia",
   "metadata": {},
   "source": [
    "Plotting sentiment in [-1, 1] permit to understand immediately if price direction is the same as the sentiment one.\n",
    "\n",
    "Is hard to view a pattern in news sentiment near days have opposite sentiments, this proves that the news are more similar to hypothesis than truth or facts."
   ]
  },
  {
   "cell_type": "markdown",
   "id": "purple-herald",
   "metadata": {},
   "source": [
    "#### Correlation\n",
    "\n",
    "To measure the correlation between sentiment and price, two approaches will be used:\n",
    "- TLCC (Time Lagged Cross-Correlation): a measure of the correlation of the whole time series given a list of time offsets\n",
    "- Windowed TLCC: the time series are lagged as in the first case, but the correlation is calculated for each window; this is useful to understand correlation \"direction\" (so the time series' roles) over time."
   ]
  },
  {
   "cell_type": "markdown",
   "id": "clinical-newport",
   "metadata": {},
   "source": [
    "##### TLCC"
   ]
  },
  {
   "cell_type": "code",
   "execution_count": 19,
   "id": "artistic-lodge",
   "metadata": {},
   "outputs": [
    {
     "data": {
      "text/html": [
       "\n",
       "<div id=\"altair-viz-b6b9e2022d2c45b2b8db3c04ca89197e\"></div>\n",
       "<script type=\"text/javascript\">\n",
       "  (function(spec, embedOpt){\n",
       "    let outputDiv = document.currentScript.previousElementSibling;\n",
       "    if (outputDiv.id !== \"altair-viz-b6b9e2022d2c45b2b8db3c04ca89197e\") {\n",
       "      outputDiv = document.getElementById(\"altair-viz-b6b9e2022d2c45b2b8db3c04ca89197e\");\n",
       "    }\n",
       "    const paths = {\n",
       "      \"vega\": \"https://cdn.jsdelivr.net/npm//vega@5?noext\",\n",
       "      \"vega-lib\": \"https://cdn.jsdelivr.net/npm//vega-lib?noext\",\n",
       "      \"vega-lite\": \"https://cdn.jsdelivr.net/npm//vega-lite@4.8.1?noext\",\n",
       "      \"vega-embed\": \"https://cdn.jsdelivr.net/npm//vega-embed@6?noext\",\n",
       "    };\n",
       "\n",
       "    function loadScript(lib) {\n",
       "      return new Promise(function(resolve, reject) {\n",
       "        var s = document.createElement('script');\n",
       "        s.src = paths[lib];\n",
       "        s.async = true;\n",
       "        s.onload = () => resolve(paths[lib]);\n",
       "        s.onerror = () => reject(`Error loading script: ${paths[lib]}`);\n",
       "        document.getElementsByTagName(\"head\")[0].appendChild(s);\n",
       "      });\n",
       "    }\n",
       "\n",
       "    function showError(err) {\n",
       "      outputDiv.innerHTML = `<div class=\"error\" style=\"color:red;\">${err}</div>`;\n",
       "      throw err;\n",
       "    }\n",
       "\n",
       "    function displayChart(vegaEmbed) {\n",
       "      vegaEmbed(outputDiv, spec, embedOpt)\n",
       "        .catch(err => showError(`Javascript Error: ${err.message}<br>This usually means there's a typo in your chart specification. See the javascript console for the full traceback.`));\n",
       "    }\n",
       "\n",
       "    if(typeof define === \"function\" && define.amd) {\n",
       "      requirejs.config({paths});\n",
       "      require([\"vega-embed\"], displayChart, err => showError(`Error loading script: ${err.message}`));\n",
       "    } else if (typeof vegaEmbed === \"function\") {\n",
       "      displayChart(vegaEmbed);\n",
       "    } else {\n",
       "      loadScript(\"vega\")\n",
       "        .then(() => loadScript(\"vega-lite\"))\n",
       "        .then(() => loadScript(\"vega-embed\"))\n",
       "        .catch(showError)\n",
       "        .then(() => displayChart(vegaEmbed));\n",
       "    }\n",
       "  })({\"config\": {\"view\": {\"continuousWidth\": 400, \"continuousHeight\": 300}}, \"data\": {\"url\": \"altair-data-edfb2cd0e263d201e85c343b885c3e5e.json\", \"format\": {\"type\": \"json\"}}, \"mark\": \"line\", \"encoding\": {\"color\": {\"type\": \"nominal\", \"field\": \"method\", \"title\": \"Method\"}, \"x\": {\"type\": \"quantitative\", \"field\": \"offset\", \"title\": \"Offset days\"}, \"y\": {\"type\": \"quantitative\", \"field\": \"correlation\", \"title\": \"Correlation\"}}, \"title\": {\"text\": \"Correlations\", \"subtitle\": [\"Max correlation (-0.161) with an offset of 150 days\", \"Min correlation (-0.276) with an offset of -142 days\"]}, \"$schema\": \"https://vega.github.io/schema/vega-lite/v4.8.1.json\"}, {\"mode\": \"vega-lite\"});\n",
       "</script>"
      ],
      "text/plain": [
       "alt.Chart(...)"
      ]
     },
     "execution_count": 19,
     "metadata": {},
     "output_type": "execute_result"
    }
   ],
   "source": [
    "methods = ['pearson', 'kendall', 'spearman']\n",
    "offsets = list(range(-150, 151)) # list of days offset to test\n",
    "\n",
    "correlations = []\n",
    "\n",
    "sent_vs_price = pd.DataFrame(daily_df['date'], columns=['date'])\n",
    "sent_vs_price['sent'] = daily_df['norm_sent']\n",
    "sent_vs_price = sent_vs_price.merge(market_df[['date', 'mid_price']], on='date')\n",
    "\n",
    "for method in methods:\n",
    "    method_correlations = [(method, offset, sent_vs_price['sent'].corr(sent_vs_price['mid_price'].shift(-offset), method=method))\n",
    "                           for offset in offsets]\n",
    "    correlations.extend(method_correlations)\n",
    "        \n",
    "correlations_df = pd.DataFrame(correlations, columns=['method', 'offset', 'correlation'])\n",
    "\n",
    "spearman_correlations = correlations_df[correlations_df['method'] == 'spearman']\n",
    "\n",
    "max_corr = max(spearman_correlations['correlation'])\n",
    "max_corr_offset = spearman_correlations[spearman_correlations['correlation'] == max_corr]['offset'].iloc[0]\n",
    "\n",
    "min_corr = min(spearman_correlations['correlation'])\n",
    "min_corr_offset = spearman_correlations[spearman_correlations['correlation'] == min_corr]['offset'].iloc[0]\n",
    "\n",
    "max_corr_text = f'Max correlation ({round(max_corr, 3)}) with an offset of {max_corr_offset} days'\n",
    "min_corr_text = f'Min correlation ({round(min_corr, 3)}) with an offset of {min_corr_offset} days'\n",
    "\n",
    "plot_title = alt.TitleParams('Correlations', subtitle=[max_corr_text, min_corr_text])\n",
    "corr_chart = alt.Chart(correlations_df, title=plot_title).mark_line().encode(alt.X('offset', title='Offset days'),\n",
    "                                                          alt.Y('correlation', title='Correlation'),\n",
    "                                                          alt.Color('method', title='Method'))\n",
    "\n",
    "corr_chart"
   ]
  },
  {
   "cell_type": "markdown",
   "id": "alert-marathon",
   "metadata": {},
   "source": [
    "In this case, Pearson correlation could be considered reliable, but its trend is similar to the others two.\n",
    "\n",
    "Correlation near 0 is the reflection of the inconsistency of sentiment over days."
   ]
  },
  {
   "cell_type": "markdown",
   "id": "promotional-creation",
   "metadata": {},
   "source": [
    "##### WTLCC\n",
    "\n",
    "For semplicity, the next chart will visualiza WTLCC using Spearman correlation only."
   ]
  },
  {
   "cell_type": "code",
   "execution_count": 20,
   "id": "offensive-partnership",
   "metadata": {},
   "outputs": [
    {
     "data": {
      "text/html": [
       "\n",
       "<div id=\"altair-viz-db0da9e26c084b549701d6b4fc860d39\"></div>\n",
       "<script type=\"text/javascript\">\n",
       "  (function(spec, embedOpt){\n",
       "    let outputDiv = document.currentScript.previousElementSibling;\n",
       "    if (outputDiv.id !== \"altair-viz-db0da9e26c084b549701d6b4fc860d39\") {\n",
       "      outputDiv = document.getElementById(\"altair-viz-db0da9e26c084b549701d6b4fc860d39\");\n",
       "    }\n",
       "    const paths = {\n",
       "      \"vega\": \"https://cdn.jsdelivr.net/npm//vega@5?noext\",\n",
       "      \"vega-lib\": \"https://cdn.jsdelivr.net/npm//vega-lib?noext\",\n",
       "      \"vega-lite\": \"https://cdn.jsdelivr.net/npm//vega-lite@4.8.1?noext\",\n",
       "      \"vega-embed\": \"https://cdn.jsdelivr.net/npm//vega-embed@6?noext\",\n",
       "    };\n",
       "\n",
       "    function loadScript(lib) {\n",
       "      return new Promise(function(resolve, reject) {\n",
       "        var s = document.createElement('script');\n",
       "        s.src = paths[lib];\n",
       "        s.async = true;\n",
       "        s.onload = () => resolve(paths[lib]);\n",
       "        s.onerror = () => reject(`Error loading script: ${paths[lib]}`);\n",
       "        document.getElementsByTagName(\"head\")[0].appendChild(s);\n",
       "      });\n",
       "    }\n",
       "\n",
       "    function showError(err) {\n",
       "      outputDiv.innerHTML = `<div class=\"error\" style=\"color:red;\">${err}</div>`;\n",
       "      throw err;\n",
       "    }\n",
       "\n",
       "    function displayChart(vegaEmbed) {\n",
       "      vegaEmbed(outputDiv, spec, embedOpt)\n",
       "        .catch(err => showError(`Javascript Error: ${err.message}<br>This usually means there's a typo in your chart specification. See the javascript console for the full traceback.`));\n",
       "    }\n",
       "\n",
       "    if(typeof define === \"function\" && define.amd) {\n",
       "      requirejs.config({paths});\n",
       "      require([\"vega-embed\"], displayChart, err => showError(`Error loading script: ${err.message}`));\n",
       "    } else if (typeof vegaEmbed === \"function\") {\n",
       "      displayChart(vegaEmbed);\n",
       "    } else {\n",
       "      loadScript(\"vega\")\n",
       "        .then(() => loadScript(\"vega-lite\"))\n",
       "        .then(() => loadScript(\"vega-embed\"))\n",
       "        .catch(showError)\n",
       "        .then(() => displayChart(vegaEmbed));\n",
       "    }\n",
       "  })({\"config\": {\"view\": {\"continuousWidth\": 400, \"continuousHeight\": 300}}, \"data\": {\"url\": \"altair-data-9814d5d8f113f9a11f2574eb8fc3d329.json\", \"format\": {\"type\": \"json\"}}, \"mark\": \"rect\", \"encoding\": {\"color\": {\"type\": \"quantitative\", \"field\": \"correlation\", \"scale\": {\"domain\": [-1, 1], \"range\": [\"#e45756\", \"#54a24b\"]}, \"title\": \"Correlation\"}, \"x\": {\"type\": \"ordinal\", \"field\": \"window\", \"title\": \"Window\"}, \"y\": {\"type\": \"ordinal\", \"field\": \"offset\", \"title\": \"Offset days\"}}, \"height\": 800, \"title\": {\"text\": \"Quarter lagged correlation sentiment/price\", \"subtitle\": \"-1:= price as master, 1:= sentiment as master\"}, \"width\": 800, \"$schema\": \"https://vega.github.io/schema/vega-lite/v4.8.1.json\"}, {\"mode\": \"vega-lite\"});\n",
       "</script>"
      ],
      "text/plain": [
       "alt.Chart(...)"
      ]
     },
     "execution_count": 20,
     "metadata": {},
     "output_type": "execute_result"
    }
   ],
   "source": [
    "from math import ceil\n",
    "\n",
    "def get_window(series: pd.Series, window) -> pd.Series:\n",
    "    return series.iloc[window[0]: window[1]]\n",
    "    \n",
    "\n",
    "def windowed_corr(first: pd.Series, second: pd.Series) -> list:\n",
    "    windows = [(window * window_size, (window * window_size)+window_size) for window in range(ceil(len(second)/window_size))]\n",
    "    windows_corr = [get_window(first, window).corr(get_window(second, window), method = 'spearman') for window in windows]\n",
    "    return windows_corr, windows\n",
    "\n",
    "offsets = list(range(-66, 67)) # reduced offsets for better visualization\n",
    "window_size = 120 # one window = one quarter\n",
    "\n",
    "windowed_correlations = []\n",
    "\n",
    "for offset in offsets:\n",
    "    windows_corr, windows = windowed_corr(sent_vs_price['sent'], sent_vs_price['mid_price'].shift(-offset))\n",
    "    for window, window_corr in enumerate(windows_corr):\n",
    "        windowed_correlations.append((window, window_corr, offset))\n",
    "    \n",
    "    \n",
    "windowed_correlations_df = pd.DataFrame(windowed_correlations, columns=['window', 'correlation', 'offset'])\n",
    "\n",
    "\n",
    "plot_title = alt.TitleParams('Quarter lagged correlation sentiment/price', subtitle='-1:= price as master, 1:= sentiment as master')\n",
    "color = alt.Color('correlation', scale=alt.Scale(domain=[-1, 1], range=[palette['negative'], palette['positive']]), title='Correlation')\n",
    "alt.Chart(windowed_correlations_df, height=800, width=800, title=plot_title).mark_rect().encode(alt.X('window:O', title='Window'), alt.Y('offset:O', title='Offset days'), color)\n"
   ]
  },
  {
   "cell_type": "code",
   "execution_count": 27,
   "id": "packed-motion",
   "metadata": {},
   "outputs": [
    {
     "data": {
      "text/html": [
       "\n",
       "<div id=\"altair-viz-4b19185e2c6b4360badd0c97f29c641b\"></div>\n",
       "<script type=\"text/javascript\">\n",
       "  (function(spec, embedOpt){\n",
       "    let outputDiv = document.currentScript.previousElementSibling;\n",
       "    if (outputDiv.id !== \"altair-viz-4b19185e2c6b4360badd0c97f29c641b\") {\n",
       "      outputDiv = document.getElementById(\"altair-viz-4b19185e2c6b4360badd0c97f29c641b\");\n",
       "    }\n",
       "    const paths = {\n",
       "      \"vega\": \"https://cdn.jsdelivr.net/npm//vega@5?noext\",\n",
       "      \"vega-lib\": \"https://cdn.jsdelivr.net/npm//vega-lib?noext\",\n",
       "      \"vega-lite\": \"https://cdn.jsdelivr.net/npm//vega-lite@4.8.1?noext\",\n",
       "      \"vega-embed\": \"https://cdn.jsdelivr.net/npm//vega-embed@6?noext\",\n",
       "    };\n",
       "\n",
       "    function loadScript(lib) {\n",
       "      return new Promise(function(resolve, reject) {\n",
       "        var s = document.createElement('script');\n",
       "        s.src = paths[lib];\n",
       "        s.async = true;\n",
       "        s.onload = () => resolve(paths[lib]);\n",
       "        s.onerror = () => reject(`Error loading script: ${paths[lib]}`);\n",
       "        document.getElementsByTagName(\"head\")[0].appendChild(s);\n",
       "      });\n",
       "    }\n",
       "\n",
       "    function showError(err) {\n",
       "      outputDiv.innerHTML = `<div class=\"error\" style=\"color:red;\">${err}</div>`;\n",
       "      throw err;\n",
       "    }\n",
       "\n",
       "    function displayChart(vegaEmbed) {\n",
       "      vegaEmbed(outputDiv, spec, embedOpt)\n",
       "        .catch(err => showError(`Javascript Error: ${err.message}<br>This usually means there's a typo in your chart specification. See the javascript console for the full traceback.`));\n",
       "    }\n",
       "\n",
       "    if(typeof define === \"function\" && define.amd) {\n",
       "      requirejs.config({paths});\n",
       "      require([\"vega-embed\"], displayChart, err => showError(`Error loading script: ${err.message}`));\n",
       "    } else if (typeof vegaEmbed === \"function\") {\n",
       "      displayChart(vegaEmbed);\n",
       "    } else {\n",
       "      loadScript(\"vega\")\n",
       "        .then(() => loadScript(\"vega-lite\"))\n",
       "        .then(() => loadScript(\"vega-embed\"))\n",
       "        .catch(showError)\n",
       "        .then(() => displayChart(vegaEmbed));\n",
       "    }\n",
       "  })({\"config\": {\"view\": {\"continuousWidth\": 400, \"continuousHeight\": 300}}, \"data\": {\"url\": \"altair-data-decd0ee46d24fe1b60d948ac3852d41c.json\", \"format\": {\"type\": \"json\"}}, \"mark\": \"rect\", \"encoding\": {\"color\": {\"type\": \"quantitative\", \"field\": \"correlation\", \"scale\": {\"domain\": [-1, 1], \"range\": [\"#e45756\", \"#54a24b\"]}, \"title\": \"Correlation\"}, \"x\": {\"type\": \"ordinal\", \"field\": \"window\", \"title\": \"Window\"}, \"y\": {\"type\": \"ordinal\", \"field\": \"offset\", \"title\": \"Offset days\"}}, \"height\": 800, \"title\": {\"text\": \"Quarter lagged correlation sentiment/price\", \"subtitle\": \"-1:= price as master, 1:= sentiment as master\"}, \"width\": 800, \"$schema\": \"https://vega.github.io/schema/vega-lite/v4.8.1.json\"}, {\"mode\": \"vega-lite\"});\n",
       "</script>"
      ],
      "text/plain": [
       "alt.Chart(...)"
      ]
     },
     "execution_count": 27,
     "metadata": {},
     "output_type": "execute_result"
    }
   ],
   "source": [
    "from math import ceil\n",
    "\n",
    "def get_window(series: pd.Series, window) -> pd.Series:\n",
    "    return series.iloc[window[0]: window[1]]\n",
    "    \n",
    "\n",
    "def windowed_corr(first: pd.Series, second: pd.Series) -> list:\n",
    "    windows = [(window * window_size, (window * window_size)+window_size) for window in range(ceil(len(second)/window_size))]\n",
    "    windows_corr = [get_window(first, window).corr(get_window(second, window), method = 'spearman') for window in windows]\n",
    "    return windows_corr, windows\n",
    "\n",
    "offsets = list(range(-66, 67)) # reduced offsets for better visualization\n",
    "window_size = 60 # one window = two months\n",
    "\n",
    "windowed_correlations = []\n",
    "\n",
    "for offset in offsets:\n",
    "    windows_corr, windows = windowed_corr(sent_vs_price['sent'], sent_vs_price['mid_price'].shift(-offset))\n",
    "    for window, window_corr in enumerate(windows_corr):\n",
    "        windowed_correlations.append((window, window_corr, offset))\n",
    "    \n",
    "    \n",
    "windowed_correlations_df = pd.DataFrame(windowed_correlations, columns=['window', 'correlation', 'offset'])\n",
    "\n",
    "\n",
    "plot_title = alt.TitleParams('Quarter lagged correlation sentiment/price', subtitle='-1:= price as master, 1:= sentiment as master')\n",
    "color = alt.Color('correlation', scale=alt.Scale(domain=[-1, 1], range=[palette['negative'], palette['positive']]), title='Correlation')\n",
    "alt.Chart(windowed_correlations_df, height=800, width=800, title=plot_title).mark_rect().encode(alt.X('window:O', title='Window'), alt.Y('offset:O', title='Offset days'), color)\n"
   ]
  },
  {
   "cell_type": "markdown",
   "id": "prerequisite-reality",
   "metadata": {},
   "source": [
    "The heatmaps show, again, that the sentiment is too volatile to be useful"
   ]
  },
  {
   "cell_type": "markdown",
   "id": "extensive-knight",
   "metadata": {},
   "source": [
    "## Volume analysis"
   ]
  },
  {
   "cell_type": "markdown",
   "id": "injured-broadcast",
   "metadata": {},
   "source": [
    "Another aspect of data is the volume, in other words: is relevant that the people speak well or bad about Bitcoin or it's enough that people speak?"
   ]
  },
  {
   "cell_type": "code",
   "execution_count": 21,
   "id": "grateful-casting",
   "metadata": {},
   "outputs": [
    {
     "data": {
      "text/html": [
       "\n",
       "<div id=\"altair-viz-8644b64b0dc0414bb52607120389c060\"></div>\n",
       "<script type=\"text/javascript\">\n",
       "  (function(spec, embedOpt){\n",
       "    let outputDiv = document.currentScript.previousElementSibling;\n",
       "    if (outputDiv.id !== \"altair-viz-8644b64b0dc0414bb52607120389c060\") {\n",
       "      outputDiv = document.getElementById(\"altair-viz-8644b64b0dc0414bb52607120389c060\");\n",
       "    }\n",
       "    const paths = {\n",
       "      \"vega\": \"https://cdn.jsdelivr.net/npm//vega@5?noext\",\n",
       "      \"vega-lib\": \"https://cdn.jsdelivr.net/npm//vega-lib?noext\",\n",
       "      \"vega-lite\": \"https://cdn.jsdelivr.net/npm//vega-lite@4.8.1?noext\",\n",
       "      \"vega-embed\": \"https://cdn.jsdelivr.net/npm//vega-embed@6?noext\",\n",
       "    };\n",
       "\n",
       "    function loadScript(lib) {\n",
       "      return new Promise(function(resolve, reject) {\n",
       "        var s = document.createElement('script');\n",
       "        s.src = paths[lib];\n",
       "        s.async = true;\n",
       "        s.onload = () => resolve(paths[lib]);\n",
       "        s.onerror = () => reject(`Error loading script: ${paths[lib]}`);\n",
       "        document.getElementsByTagName(\"head\")[0].appendChild(s);\n",
       "      });\n",
       "    }\n",
       "\n",
       "    function showError(err) {\n",
       "      outputDiv.innerHTML = `<div class=\"error\" style=\"color:red;\">${err}</div>`;\n",
       "      throw err;\n",
       "    }\n",
       "\n",
       "    function displayChart(vegaEmbed) {\n",
       "      vegaEmbed(outputDiv, spec, embedOpt)\n",
       "        .catch(err => showError(`Javascript Error: ${err.message}<br>This usually means there's a typo in your chart specification. See the javascript console for the full traceback.`));\n",
       "    }\n",
       "\n",
       "    if(typeof define === \"function\" && define.amd) {\n",
       "      requirejs.config({paths});\n",
       "      require([\"vega-embed\"], displayChart, err => showError(`Error loading script: ${err.message}`));\n",
       "    } else if (typeof vegaEmbed === \"function\") {\n",
       "      displayChart(vegaEmbed);\n",
       "    } else {\n",
       "      loadScript(\"vega\")\n",
       "        .then(() => loadScript(\"vega-lite\"))\n",
       "        .then(() => loadScript(\"vega-embed\"))\n",
       "        .catch(showError)\n",
       "        .then(() => displayChart(vegaEmbed));\n",
       "    }\n",
       "  })({\"config\": {\"view\": {\"continuousWidth\": 400, \"continuousHeight\": 300}}, \"vconcat\": [{\"layer\": [{\"layer\": [{\"data\": {\"url\": \"altair-data-1de31d447d44b413bcad520c22a7f5de.json\", \"format\": {\"type\": \"json\"}}, \"mark\": {\"type\": \"bar\", \"color\": \"#ffd445\"}, \"encoding\": {\"x\": {\"type\": \"temporal\", \"axis\": {\"labelOverlap\": \"greedy\", \"labelSeparation\": 6}, \"bin\": {\"extent\": {\"selection\": \"selector002\"}, \"maxbins\": 100}, \"field\": \"date\", \"scale\": {\"domain\": {\"selection\": \"selector002\"}}, \"timeUnit\": \"yearmonthdate\"}, \"y\": {\"type\": \"quantitative\", \"field\": \"count\", \"title\": \"Volume\"}}, \"title\": {\"text\": \"Volume vs Bitcoin price\"}}, {\"data\": {\"url\": \"altair-data-b4593d997520747dd5695408b438b8d9.json\", \"format\": {\"type\": \"json\"}}, \"mark\": {\"type\": \"line\", \"color\": \"grey\"}, \"encoding\": {\"x\": {\"type\": \"temporal\", \"field\": \"date\", \"timeUnit\": \"yearmonthdate\"}, \"y\": {\"type\": \"quantitative\", \"field\": \"count\"}}}]}, {\"data\": {\"url\": \"altair-data-865b8d7c0905abc25a6282acbca33937.json\", \"format\": {\"type\": \"json\"}}, \"mark\": {\"type\": \"line\", \"color\": \"#4c78a8\"}, \"encoding\": {\"x\": {\"type\": \"temporal\", \"field\": \"date\", \"scale\": {\"domain\": {\"selection\": \"selector002\"}}, \"timeUnit\": \"yearmonthdate\", \"title\": null}, \"y\": {\"type\": \"quantitative\", \"field\": \"mid_price\", \"title\": \"Mid price\"}}}], \"resolve\": {\"scale\": {\"y\": \"independent\"}}}, {\"data\": {\"url\": \"altair-data-1de31d447d44b413bcad520c22a7f5de.json\", \"format\": {\"type\": \"json\"}}, \"mark\": {\"type\": \"bar\", \"color\": \"#ffd445\"}, \"encoding\": {\"x\": {\"type\": \"temporal\", \"axis\": {\"labelOverlap\": \"greedy\", \"labelSeparation\": 6}, \"bin\": {\"maxbins\": 100}, \"field\": \"date\", \"timeUnit\": \"yearmonthdate\", \"title\": \"Date\"}, \"y\": {\"type\": \"quantitative\", \"field\": \"count\", \"title\": null}}, \"height\": 50, \"selection\": {\"selector002\": {\"type\": \"interval\", \"encodings\": [\"x\"]}}}], \"$schema\": \"https://vega.github.io/schema/vega-lite/v4.8.1.json\"}, {\"mode\": \"vega-lite\"});\n",
       "</script>"
      ],
      "text/plain": [
       "alt.VConcatChart(...)"
      ]
     },
     "execution_count": 21,
     "metadata": {},
     "output_type": "execute_result"
    }
   ],
   "source": [
    "time_selector = alt.selection(type='interval', encodings=['x'])\n",
    "\n",
    "dummy_df = pd.DataFrame({'date': [min(daily_df['date']), max(daily_df['date'])], 'count': [0, 0]})\n",
    "zero_line = alt.Chart(dummy_df).mark_line(color='grey').encode(x=alt.X('yearmonthdate(date):T'), y=alt.Y('count'))\n",
    "\n",
    "price = alt.Chart(market_df).mark_line(color=palette['price']).encode(\n",
    "    x=alt.X('yearmonthdate(date):T',\n",
    "           scale=alt.Scale(domain=time_selector),\n",
    "           title=None),\n",
    "    y=alt.Y('mid_price', title='Mid price')\n",
    ")\n",
    "        \n",
    "plot_title = alt.TitleParams('Volume vs Bitcoin price')\n",
    "\n",
    "histogram = alt.Chart(daily_df, title=plot_title).mark_bar(color=palette['neutral_1']).encode(alt.X('yearmonthdate(date):T',\n",
    "                                                       bin=alt.Bin(maxbins=100, extent=time_selector),\n",
    "                                                       scale=alt.Scale(domain=time_selector),\n",
    "                                                       axis=alt.Axis(labelOverlap='greedy', labelSeparation=6)),\n",
    "                                                 alt.Y('count',\n",
    "                                                      title='Volume'))\n",
    "\n",
    "histogram_reg = histogram.transform_regression('date', 'count', method='poly', order=9).mark_line(color=palette['strong_neutral_1'])\n",
    "\n",
    "volume_chart = histogram  + zero_line\n",
    "\n",
    "price_reg = price.transform_regression('date', 'mid_price', method='poly', order=9).mark_line(color=palette['strong_price'])\n",
    "\n",
    "\n",
    "price_chart = price\n",
    "\n",
    "selection_plot = alt.Chart(daily_df).mark_bar(color=palette['neutral_1']).encode(alt.X('yearmonthdate(date):T',\n",
    "                                                       bin=alt.Bin(maxbins=100),\n",
    "                                                            title='Date',\n",
    "                                                            axis=alt.Axis(labelOverlap='greedy', labelSeparation=6)),\n",
    "                                                       alt.Y('count', title=None)).add_selection(time_selector).properties(height=50)\n",
    "\n",
    "alt.layer(volume_chart, price_chart).resolve_scale(y='independent') & selection_plot"
   ]
  },
  {
   "cell_type": "markdown",
   "id": "sufficient-walker",
   "metadata": {},
   "source": [
    "The regularity of news crawling makes the volume analysis useless."
   ]
  },
  {
   "cell_type": "markdown",
   "id": "broadband-story",
   "metadata": {},
   "source": [
    "#### Correlation"
   ]
  },
  {
   "cell_type": "markdown",
   "id": "streaming-disclaimer",
   "metadata": {},
   "source": [
    "##### TLCC"
   ]
  },
  {
   "cell_type": "code",
   "execution_count": 22,
   "id": "inner-bullet",
   "metadata": {},
   "outputs": [
    {
     "data": {
      "text/html": [
       "\n",
       "<div id=\"altair-viz-b3a1334eeaa5402a8eda7cea1fe82d71\"></div>\n",
       "<script type=\"text/javascript\">\n",
       "  (function(spec, embedOpt){\n",
       "    let outputDiv = document.currentScript.previousElementSibling;\n",
       "    if (outputDiv.id !== \"altair-viz-b3a1334eeaa5402a8eda7cea1fe82d71\") {\n",
       "      outputDiv = document.getElementById(\"altair-viz-b3a1334eeaa5402a8eda7cea1fe82d71\");\n",
       "    }\n",
       "    const paths = {\n",
       "      \"vega\": \"https://cdn.jsdelivr.net/npm//vega@5?noext\",\n",
       "      \"vega-lib\": \"https://cdn.jsdelivr.net/npm//vega-lib?noext\",\n",
       "      \"vega-lite\": \"https://cdn.jsdelivr.net/npm//vega-lite@4.8.1?noext\",\n",
       "      \"vega-embed\": \"https://cdn.jsdelivr.net/npm//vega-embed@6?noext\",\n",
       "    };\n",
       "\n",
       "    function loadScript(lib) {\n",
       "      return new Promise(function(resolve, reject) {\n",
       "        var s = document.createElement('script');\n",
       "        s.src = paths[lib];\n",
       "        s.async = true;\n",
       "        s.onload = () => resolve(paths[lib]);\n",
       "        s.onerror = () => reject(`Error loading script: ${paths[lib]}`);\n",
       "        document.getElementsByTagName(\"head\")[0].appendChild(s);\n",
       "      });\n",
       "    }\n",
       "\n",
       "    function showError(err) {\n",
       "      outputDiv.innerHTML = `<div class=\"error\" style=\"color:red;\">${err}</div>`;\n",
       "      throw err;\n",
       "    }\n",
       "\n",
       "    function displayChart(vegaEmbed) {\n",
       "      vegaEmbed(outputDiv, spec, embedOpt)\n",
       "        .catch(err => showError(`Javascript Error: ${err.message}<br>This usually means there's a typo in your chart specification. See the javascript console for the full traceback.`));\n",
       "    }\n",
       "\n",
       "    if(typeof define === \"function\" && define.amd) {\n",
       "      requirejs.config({paths});\n",
       "      require([\"vega-embed\"], displayChart, err => showError(`Error loading script: ${err.message}`));\n",
       "    } else if (typeof vegaEmbed === \"function\") {\n",
       "      displayChart(vegaEmbed);\n",
       "    } else {\n",
       "      loadScript(\"vega\")\n",
       "        .then(() => loadScript(\"vega-lite\"))\n",
       "        .then(() => loadScript(\"vega-embed\"))\n",
       "        .catch(showError)\n",
       "        .then(() => displayChart(vegaEmbed));\n",
       "    }\n",
       "  })({\"config\": {\"view\": {\"continuousWidth\": 400, \"continuousHeight\": 300}}, \"data\": {\"url\": \"altair-data-39269c427d5cdd8c72fc055c73989c8e.json\", \"format\": {\"type\": \"json\"}}, \"mark\": \"line\", \"encoding\": {\"color\": {\"type\": \"nominal\", \"field\": \"method\", \"title\": \"Method\"}, \"x\": {\"type\": \"quantitative\", \"field\": \"offset\", \"title\": \"Offset days\"}, \"y\": {\"type\": \"quantitative\", \"field\": \"correlation\", \"title\": \"Correlation\"}}, \"title\": {\"text\": \"Correlations\", \"subtitle\": [\"Max correlation (0.236) with an offset of -136 days\", \"Min correlation (0.116) with an offset of 150 days\"]}, \"$schema\": \"https://vega.github.io/schema/vega-lite/v4.8.1.json\"}, {\"mode\": \"vega-lite\"});\n",
       "</script>"
      ],
      "text/plain": [
       "alt.Chart(...)"
      ]
     },
     "execution_count": 22,
     "metadata": {},
     "output_type": "execute_result"
    }
   ],
   "source": [
    "methods = ['pearson', 'kendall', 'spearman']\n",
    "offsets = list(range(-150, 151)) # list of days offset to test\n",
    "\n",
    "correlations = []\n",
    "\n",
    "volume_vs_price = pd.DataFrame(daily_df['date'], columns=['date'])\n",
    "volume_vs_price['volume'] = daily_df['count']\n",
    "volume_vs_price = volume_vs_price.merge(market_df[['date', 'mid_price']], on='date')\n",
    "\n",
    "for method in methods:\n",
    "    method_correlations = [(method, offset, volume_vs_price['volume'].corr(sent_vs_price['mid_price'].shift(-offset), method=method))\n",
    "                           for offset in offsets]\n",
    "    correlations.extend(method_correlations)\n",
    "        \n",
    "correlations_df = pd.DataFrame(correlations, columns=['method', 'offset', 'correlation'])\n",
    "\n",
    "spearman_correlations = correlations_df[correlations_df['method'] == 'spearman']\n",
    "\n",
    "max_corr = max(spearman_correlations['correlation'])\n",
    "max_corr_offset = spearman_correlations[spearman_correlations['correlation'] == max_corr]['offset'].iloc[0]\n",
    "\n",
    "min_corr = min(spearman_correlations['correlation'])\n",
    "min_corr_offset = spearman_correlations[spearman_correlations['correlation'] == min_corr]['offset'].iloc[0]\n",
    "\n",
    "max_corr_text = f'Max correlation ({round(max_corr, 3)}) with an offset of {max_corr_offset} days'\n",
    "min_corr_text = f'Min correlation ({round(min_corr, 3)}) with an offset of {min_corr_offset} days'\n",
    "\n",
    "plot_title = alt.TitleParams('Correlations', subtitle=[max_corr_text, min_corr_text])\n",
    "corr_chart = alt.Chart(correlations_df, title=plot_title).mark_line().encode(alt.X('offset', title='Offset days'),\n",
    "                                                          alt.Y('correlation', title='Correlation'),\n",
    "                                                          alt.Color('method', title='Method'))\n",
    "\n",
    "corr_chart"
   ]
  },
  {
   "cell_type": "markdown",
   "id": "danish-civilization",
   "metadata": {},
   "source": [
    "As anticipated, volume correlation is too near 0 to be considered informative."
   ]
  },
  {
   "cell_type": "markdown",
   "id": "specified-costa",
   "metadata": {},
   "source": [
    "#### WLTCC"
   ]
  },
  {
   "cell_type": "code",
   "execution_count": 23,
   "id": "photographic-consultancy",
   "metadata": {},
   "outputs": [
    {
     "data": {
      "text/html": [
       "\n",
       "<div id=\"altair-viz-fb9c656186ff4d6abd1940b79f29597f\"></div>\n",
       "<script type=\"text/javascript\">\n",
       "  (function(spec, embedOpt){\n",
       "    let outputDiv = document.currentScript.previousElementSibling;\n",
       "    if (outputDiv.id !== \"altair-viz-fb9c656186ff4d6abd1940b79f29597f\") {\n",
       "      outputDiv = document.getElementById(\"altair-viz-fb9c656186ff4d6abd1940b79f29597f\");\n",
       "    }\n",
       "    const paths = {\n",
       "      \"vega\": \"https://cdn.jsdelivr.net/npm//vega@5?noext\",\n",
       "      \"vega-lib\": \"https://cdn.jsdelivr.net/npm//vega-lib?noext\",\n",
       "      \"vega-lite\": \"https://cdn.jsdelivr.net/npm//vega-lite@4.8.1?noext\",\n",
       "      \"vega-embed\": \"https://cdn.jsdelivr.net/npm//vega-embed@6?noext\",\n",
       "    };\n",
       "\n",
       "    function loadScript(lib) {\n",
       "      return new Promise(function(resolve, reject) {\n",
       "        var s = document.createElement('script');\n",
       "        s.src = paths[lib];\n",
       "        s.async = true;\n",
       "        s.onload = () => resolve(paths[lib]);\n",
       "        s.onerror = () => reject(`Error loading script: ${paths[lib]}`);\n",
       "        document.getElementsByTagName(\"head\")[0].appendChild(s);\n",
       "      });\n",
       "    }\n",
       "\n",
       "    function showError(err) {\n",
       "      outputDiv.innerHTML = `<div class=\"error\" style=\"color:red;\">${err}</div>`;\n",
       "      throw err;\n",
       "    }\n",
       "\n",
       "    function displayChart(vegaEmbed) {\n",
       "      vegaEmbed(outputDiv, spec, embedOpt)\n",
       "        .catch(err => showError(`Javascript Error: ${err.message}<br>This usually means there's a typo in your chart specification. See the javascript console for the full traceback.`));\n",
       "    }\n",
       "\n",
       "    if(typeof define === \"function\" && define.amd) {\n",
       "      requirejs.config({paths});\n",
       "      require([\"vega-embed\"], displayChart, err => showError(`Error loading script: ${err.message}`));\n",
       "    } else if (typeof vegaEmbed === \"function\") {\n",
       "      displayChart(vegaEmbed);\n",
       "    } else {\n",
       "      loadScript(\"vega\")\n",
       "        .then(() => loadScript(\"vega-lite\"))\n",
       "        .then(() => loadScript(\"vega-embed\"))\n",
       "        .catch(showError)\n",
       "        .then(() => displayChart(vegaEmbed));\n",
       "    }\n",
       "  })({\"config\": {\"view\": {\"continuousWidth\": 400, \"continuousHeight\": 300}}, \"data\": {\"url\": \"altair-data-462ad2db2414a453d786f93359ee96fe.json\", \"format\": {\"type\": \"json\"}}, \"mark\": \"rect\", \"encoding\": {\"color\": {\"type\": \"quantitative\", \"field\": \"correlation\", \"scale\": {\"domain\": [-1, 1], \"range\": [\"#e45756\", \"#54a24b\"]}, \"title\": \"Correlation\"}, \"x\": {\"type\": \"ordinal\", \"field\": \"window\", \"title\": \"Window\"}, \"y\": {\"type\": \"ordinal\", \"field\": \"offset\", \"title\": \"Offset days\"}}, \"height\": 800, \"title\": {\"text\": \"120 days lagged correlation volume/price\", \"subtitle\": \"-1:= price as master, 1:= sentiment as master\"}, \"width\": 800, \"$schema\": \"https://vega.github.io/schema/vega-lite/v4.8.1.json\"}, {\"mode\": \"vega-lite\"});\n",
       "</script>"
      ],
      "text/plain": [
       "alt.Chart(...)"
      ]
     },
     "execution_count": 23,
     "metadata": {},
     "output_type": "execute_result"
    }
   ],
   "source": [
    "from math import ceil\n",
    "\n",
    "def get_window(series: pd.Series, window) -> pd.Series:\n",
    "    return series.iloc[window[0]: window[1]]\n",
    "    \n",
    "\n",
    "def windowed_corr(first: pd.Series, second: pd.Series) -> list:\n",
    "    windows = [(window * window_size, (window * window_size)+window_size) for window in range(ceil(len(second)/window_size))]\n",
    "    windows_corr = [get_window(first, window).corr(get_window(second, window), method = 'spearman') for window in windows]\n",
    "    return windows_corr, windows\n",
    "\n",
    "offsets = list(range(-66, 67)) # reduced offsets for better visualization\n",
    "window_size = 120 # one window = one quarter\n",
    "\n",
    "windowed_correlations = []\n",
    "\n",
    "for offset in offsets:\n",
    "    windows_corr, windows = windowed_corr(volume_vs_price['volume'], volume_vs_price['mid_price'].shift(-offset))\n",
    "    for window, window_corr in enumerate(windows_corr):\n",
    "        windowed_correlations.append((window, window_corr, offset))\n",
    "    \n",
    "    \n",
    "windowed_correlations_df = pd.DataFrame(windowed_correlations, columns=['window', 'correlation', 'offset'])\n",
    "\n",
    "\n",
    "plot_title = alt.TitleParams('120 days lagged correlation volume/price', subtitle='-1:= price as master, 1:= sentiment as master')\n",
    "color = alt.Color('correlation', scale=alt.Scale(domain=[-1, 1], range=[palette['negative'], palette['positive']]), title='Correlation')\n",
    "alt.Chart(windowed_correlations_df, height=800, width=800, title=plot_title).mark_rect().encode(alt.X('window:O', title='Window'), alt.Y('offset:O', title='Offset days'), color)\n"
   ]
  },
  {
   "cell_type": "markdown",
   "id": "lesser-microphone",
   "metadata": {},
   "source": [
    "For each offset, there are some windows positively correlated, but another negatively correlated; another demonstration that with this dataset, volume correlation analysis is useless."
   ]
  },
  {
   "cell_type": "markdown",
   "id": "complimentary-account",
   "metadata": {},
   "source": [
    "## Conclusions\n",
    "\n",
    "- The used crawling strategy makes the volume correlation analysis, useless\n",
    "- Taking into account the relevance of each news site, could help to find sentiment patterns and a better correlation."
   ]
  }
 ],
 "metadata": {
  "kernelspec": {
   "display_name": "Python 3",
   "language": "python",
   "name": "python3"
  },
  "language_info": {
   "codemirror_mode": {
    "name": "ipython",
    "version": 3
   },
   "file_extension": ".py",
   "mimetype": "text/x-python",
   "name": "python",
   "nbconvert_exporter": "python",
   "pygments_lexer": "ipython3",
   "version": "3.8.6"
  }
 },
 "nbformat": 4,
 "nbformat_minor": 5
}
