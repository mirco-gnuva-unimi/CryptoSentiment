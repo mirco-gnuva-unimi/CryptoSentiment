{
 "cells": [
  {
   "cell_type": "markdown",
   "id": "concrete-supply",
   "metadata": {},
   "source": [
    "### Users analysis\n",
    "\n",
    "Charts about Twitter users' metrics are very heavy, so are moved from Twitter notebook to here.\n",
    "\n",
    "Could be interesting to analyze users' metrics, in fact such metrics could be very useful for deeper analysis (weighted tweets and so on)"
   ]
  },
  {
   "cell_type": "code",
   "execution_count": 1,
   "id": "sitting-tension",
   "metadata": {},
   "outputs": [
    {
     "data": {
      "text/plain": [
       "DataTransformerRegistry.enable('json')"
      ]
     },
     "execution_count": 1,
     "metadata": {},
     "output_type": "execute_result"
    }
   ],
   "source": [
    "import pandas as pd\n",
    "import altair as alt\n",
    "from palette import palette\n",
    "\n",
    "alt.data_transformers.enable('json')"
   ]
  },
  {
   "cell_type": "code",
   "execution_count": 2,
   "id": "above-township",
   "metadata": {},
   "outputs": [],
   "source": [
    "base_path = '/mnt/hgfs/VMs_Shared/datasets/filtered/'\n",
    "\n",
    "top_tweeters_csv = base_path + 'top_tweeters.csv'\n",
    "top_retweeted_csv = base_path + 'top_retweeted.csv'\n",
    "words_avg_csv = base_path + 'words_avg.csv'\n",
    "\n",
    "top_tweeters = pd.read_csv(top_tweeters_csv).iloc[1:] # First element groups users without username\n",
    "top_retweeted = pd.read_csv(top_retweeted_csv).iloc[1:] # First element groups users without username\n",
    "words_avg = pd.read_csv(words_avg_csv)"
   ]
  },
  {
   "cell_type": "markdown",
   "id": "fresh-kansas",
   "metadata": {},
   "source": [
    "#### Teweets"
   ]
  },
  {
   "cell_type": "code",
   "execution_count": 3,
   "id": "timely-dominant",
   "metadata": {},
   "outputs": [],
   "source": [
    "top_tweeters = pd.DataFrame(top_tweeters['tweets'], columns=['tweets'])\n",
    "top_tweeters['outliers'] = top_tweeters['tweets']\n",
    "top_tweeters['no outliers'] = top_tweeters['tweets']\n",
    "top_tweeters = top_tweeters[['outliers', 'no outliers']]\n",
    "\n",
    "top_tweeters_long = top_tweeters.melt(value_name='tweets', var_name='viz')"
   ]
  },
  {
   "cell_type": "code",
   "execution_count": 20,
   "id": "romantic-footwear",
   "metadata": {},
   "outputs": [
    {
     "data": {
      "text/html": [
       "\n",
       "<div id=\"altair-viz-692d49d968b14d378d0b1c565b4fbf54\"></div>\n",
       "<script type=\"text/javascript\">\n",
       "  (function(spec, embedOpt){\n",
       "    let outputDiv = document.currentScript.previousElementSibling;\n",
       "    if (outputDiv.id !== \"altair-viz-692d49d968b14d378d0b1c565b4fbf54\") {\n",
       "      outputDiv = document.getElementById(\"altair-viz-692d49d968b14d378d0b1c565b4fbf54\");\n",
       "    }\n",
       "    const paths = {\n",
       "      \"vega\": \"https://cdn.jsdelivr.net/npm//vega@5?noext\",\n",
       "      \"vega-lib\": \"https://cdn.jsdelivr.net/npm//vega-lib?noext\",\n",
       "      \"vega-lite\": \"https://cdn.jsdelivr.net/npm//vega-lite@4.8.1?noext\",\n",
       "      \"vega-embed\": \"https://cdn.jsdelivr.net/npm//vega-embed@6?noext\",\n",
       "    };\n",
       "\n",
       "    function loadScript(lib) {\n",
       "      return new Promise(function(resolve, reject) {\n",
       "        var s = document.createElement('script');\n",
       "        s.src = paths[lib];\n",
       "        s.async = true;\n",
       "        s.onload = () => resolve(paths[lib]);\n",
       "        s.onerror = () => reject(`Error loading script: ${paths[lib]}`);\n",
       "        document.getElementsByTagName(\"head\")[0].appendChild(s);\n",
       "      });\n",
       "    }\n",
       "\n",
       "    function showError(err) {\n",
       "      outputDiv.innerHTML = `<div class=\"error\" style=\"color:red;\">${err}</div>`;\n",
       "      throw err;\n",
       "    }\n",
       "\n",
       "    function displayChart(vegaEmbed) {\n",
       "      vegaEmbed(outputDiv, spec, embedOpt)\n",
       "        .catch(err => showError(`Javascript Error: ${err.message}<br>This usually means there's a typo in your chart specification. See the javascript console for the full traceback.`));\n",
       "    }\n",
       "\n",
       "    if(typeof define === \"function\" && define.amd) {\n",
       "      requirejs.config({paths});\n",
       "      require([\"vega-embed\"], displayChart, err => showError(`Error loading script: ${err.message}`));\n",
       "    } else if (typeof vegaEmbed === \"function\") {\n",
       "      displayChart(vegaEmbed);\n",
       "    } else {\n",
       "      loadScript(\"vega\")\n",
       "        .then(() => loadScript(\"vega-lite\"))\n",
       "        .then(() => loadScript(\"vega-embed\"))\n",
       "        .catch(showError)\n",
       "        .then(() => displayChart(vegaEmbed));\n",
       "    }\n",
       "  })({\"config\": {\"view\": {\"continuousWidth\": 400, \"continuousHeight\": 300}}, \"data\": {\"url\": \"altair-data-bd738ae7b3f306e66932194d0f0b4a90.json\", \"format\": {\"type\": \"json\"}}, \"mark\": {\"type\": \"boxplot\", \"color\": \"#F28482\", \"median\": true, \"outliers\": false, \"size\": 10}, \"encoding\": {\"x\": {\"type\": \"quantitative\", \"field\": \"tweets\", \"title\": null}, \"y\": {\"type\": \"nominal\", \"axis\": null, \"field\": \"viz\"}}, \"height\": 300, \"title\": \"Tweets per user\", \"width\": 500, \"$schema\": \"https://vega.github.io/schema/vega-lite/v4.8.1.json\"}, {\"mode\": \"vega-lite\"});\n",
       "</script>"
      ],
      "text/plain": [
       "alt.Chart(...)"
      ]
     },
     "execution_count": 20,
     "metadata": {},
     "output_type": "execute_result"
    }
   ],
   "source": [
    "alt.Chart(top_tweeters_long[top_tweeters_long['viz'] == 'no outliers'], title='Tweets per user').mark_boxplot(size=10, outliers=False, median=True, color=palette['twitter']).encode(alt.X('tweets:Q', title=None), \n",
    "alt.Y('viz:N', axis=None)).properties(width=500, height=300)"
   ]
  },
  {
   "cell_type": "code",
   "execution_count": 21,
   "id": "encouraging-lease",
   "metadata": {},
   "outputs": [
    {
     "data": {
      "text/html": [
       "\n",
       "<div id=\"altair-viz-a11a31250ce04e5f9b0f85aa9dd92690\"></div>\n",
       "<script type=\"text/javascript\">\n",
       "  (function(spec, embedOpt){\n",
       "    let outputDiv = document.currentScript.previousElementSibling;\n",
       "    if (outputDiv.id !== \"altair-viz-a11a31250ce04e5f9b0f85aa9dd92690\") {\n",
       "      outputDiv = document.getElementById(\"altair-viz-a11a31250ce04e5f9b0f85aa9dd92690\");\n",
       "    }\n",
       "    const paths = {\n",
       "      \"vega\": \"https://cdn.jsdelivr.net/npm//vega@5?noext\",\n",
       "      \"vega-lib\": \"https://cdn.jsdelivr.net/npm//vega-lib?noext\",\n",
       "      \"vega-lite\": \"https://cdn.jsdelivr.net/npm//vega-lite@4.8.1?noext\",\n",
       "      \"vega-embed\": \"https://cdn.jsdelivr.net/npm//vega-embed@6?noext\",\n",
       "    };\n",
       "\n",
       "    function loadScript(lib) {\n",
       "      return new Promise(function(resolve, reject) {\n",
       "        var s = document.createElement('script');\n",
       "        s.src = paths[lib];\n",
       "        s.async = true;\n",
       "        s.onload = () => resolve(paths[lib]);\n",
       "        s.onerror = () => reject(`Error loading script: ${paths[lib]}`);\n",
       "        document.getElementsByTagName(\"head\")[0].appendChild(s);\n",
       "      });\n",
       "    }\n",
       "\n",
       "    function showError(err) {\n",
       "      outputDiv.innerHTML = `<div class=\"error\" style=\"color:red;\">${err}</div>`;\n",
       "      throw err;\n",
       "    }\n",
       "\n",
       "    function displayChart(vegaEmbed) {\n",
       "      vegaEmbed(outputDiv, spec, embedOpt)\n",
       "        .catch(err => showError(`Javascript Error: ${err.message}<br>This usually means there's a typo in your chart specification. See the javascript console for the full traceback.`));\n",
       "    }\n",
       "\n",
       "    if(typeof define === \"function\" && define.amd) {\n",
       "      requirejs.config({paths});\n",
       "      require([\"vega-embed\"], displayChart, err => showError(`Error loading script: ${err.message}`));\n",
       "    } else if (typeof vegaEmbed === \"function\") {\n",
       "      displayChart(vegaEmbed);\n",
       "    } else {\n",
       "      loadScript(\"vega\")\n",
       "        .then(() => loadScript(\"vega-lite\"))\n",
       "        .then(() => loadScript(\"vega-embed\"))\n",
       "        .catch(showError)\n",
       "        .then(() => displayChart(vegaEmbed));\n",
       "    }\n",
       "  })({\"config\": {\"view\": {\"continuousWidth\": 400, \"continuousHeight\": 300}}, \"layer\": [{\"data\": {\"url\": \"altair-data-bd738ae7b3f306e66932194d0f0b4a90.json\", \"format\": {\"type\": \"json\"}}, \"mark\": {\"type\": \"boxplot\", \"color\": \"#F28482\", \"median\": true, \"outliers\": false, \"size\": 10}, \"encoding\": {\"x\": {\"type\": \"quantitative\", \"field\": \"tweets\", \"title\": null}, \"y\": {\"type\": \"nominal\", \"field\": \"viz\", \"title\": null}}, \"height\": 300, \"title\": \"Tweets per user\", \"width\": 500}, {\"data\": {\"url\": \"altair-data-faef3aa0ac878e8c28ee8e7360b7a08b.json\", \"format\": {\"type\": \"json\"}}, \"mark\": {\"type\": \"boxplot\", \"color\": \"#F28482\", \"median\": true, \"outliers\": true, \"size\": 10}, \"encoding\": {\"x\": {\"type\": \"quantitative\", \"field\": \"tweets\", \"title\": null}, \"y\": {\"type\": \"nominal\", \"field\": \"viz\", \"title\": null}}, \"height\": 300, \"title\": \"Tweets per user\", \"width\": 500}], \"$schema\": \"https://vega.github.io/schema/vega-lite/v4.8.1.json\"}, {\"mode\": \"vega-lite\"});\n",
       "</script>"
      ],
      "text/plain": [
       "alt.LayerChart(...)"
      ]
     },
     "execution_count": 21,
     "metadata": {},
     "output_type": "execute_result"
    }
   ],
   "source": [
    "alt.Chart(top_tweeters_long[top_tweeters_long['viz'] == 'no outliers'], title='Tweets per user').mark_boxplot(size=10, outliers=False, median=True, color=palette['twitter']).encode(alt.X('tweets:Q', title=None), alt.Y('viz:N', title=None)).properties(width=500, height=300) + \\\n",
    "alt.Chart(top_tweeters_long[top_tweeters_long['viz'] == 'outliers'], title='Tweets per user').mark_boxplot(size=10, outliers=True, median=True, color=palette['twitter']).encode(alt.X('tweets:Q', title=None), alt.Y('viz:N', title=None)).properties(width=500, height=300)"
   ]
  },
  {
   "cell_type": "markdown",
   "id": "nervous-mounting",
   "metadata": {},
   "source": [
    "As can be seen, there are some outliers that are very far from the median, this indicates the presence of spammers or bots (thousands of tweets for a single human user, are impossible). \n",
    "An upgrade to data processing could be recognizing outliers to remove them."
   ]
  },
  {
   "cell_type": "markdown",
   "id": "alternate-airfare",
   "metadata": {},
   "source": [
    "#### Retweets"
   ]
  },
  {
   "cell_type": "code",
   "execution_count": 6,
   "id": "impressed-series",
   "metadata": {},
   "outputs": [],
   "source": [
    "top_retweeted = pd.DataFrame(top_retweeted['retweets'], columns=['retweets'])\n",
    "top_retweeted['outliers'] = top_retweeted['retweets']\n",
    "top_retweeted['no outliers'] = top_retweeted['retweets']\n",
    "top_retweeted = top_retweeted[['outliers', 'no outliers']]\n",
    "\n",
    "top_retweeted_long = top_retweeted.melt(value_name='retweets', var_name='viz')"
   ]
  },
  {
   "cell_type": "code",
   "execution_count": 22,
   "id": "arbitrary-parent",
   "metadata": {},
   "outputs": [
    {
     "data": {
      "text/html": [
       "\n",
       "<div id=\"altair-viz-832fdb1ff90d4415af8136ad304b31db\"></div>\n",
       "<script type=\"text/javascript\">\n",
       "  (function(spec, embedOpt){\n",
       "    let outputDiv = document.currentScript.previousElementSibling;\n",
       "    if (outputDiv.id !== \"altair-viz-832fdb1ff90d4415af8136ad304b31db\") {\n",
       "      outputDiv = document.getElementById(\"altair-viz-832fdb1ff90d4415af8136ad304b31db\");\n",
       "    }\n",
       "    const paths = {\n",
       "      \"vega\": \"https://cdn.jsdelivr.net/npm//vega@5?noext\",\n",
       "      \"vega-lib\": \"https://cdn.jsdelivr.net/npm//vega-lib?noext\",\n",
       "      \"vega-lite\": \"https://cdn.jsdelivr.net/npm//vega-lite@4.8.1?noext\",\n",
       "      \"vega-embed\": \"https://cdn.jsdelivr.net/npm//vega-embed@6?noext\",\n",
       "    };\n",
       "\n",
       "    function loadScript(lib) {\n",
       "      return new Promise(function(resolve, reject) {\n",
       "        var s = document.createElement('script');\n",
       "        s.src = paths[lib];\n",
       "        s.async = true;\n",
       "        s.onload = () => resolve(paths[lib]);\n",
       "        s.onerror = () => reject(`Error loading script: ${paths[lib]}`);\n",
       "        document.getElementsByTagName(\"head\")[0].appendChild(s);\n",
       "      });\n",
       "    }\n",
       "\n",
       "    function showError(err) {\n",
       "      outputDiv.innerHTML = `<div class=\"error\" style=\"color:red;\">${err}</div>`;\n",
       "      throw err;\n",
       "    }\n",
       "\n",
       "    function displayChart(vegaEmbed) {\n",
       "      vegaEmbed(outputDiv, spec, embedOpt)\n",
       "        .catch(err => showError(`Javascript Error: ${err.message}<br>This usually means there's a typo in your chart specification. See the javascript console for the full traceback.`));\n",
       "    }\n",
       "\n",
       "    if(typeof define === \"function\" && define.amd) {\n",
       "      requirejs.config({paths});\n",
       "      require([\"vega-embed\"], displayChart, err => showError(`Error loading script: ${err.message}`));\n",
       "    } else if (typeof vegaEmbed === \"function\") {\n",
       "      displayChart(vegaEmbed);\n",
       "    } else {\n",
       "      loadScript(\"vega\")\n",
       "        .then(() => loadScript(\"vega-lite\"))\n",
       "        .then(() => loadScript(\"vega-embed\"))\n",
       "        .catch(showError)\n",
       "        .then(() => displayChart(vegaEmbed));\n",
       "    }\n",
       "  })({\"config\": {\"view\": {\"continuousWidth\": 400, \"continuousHeight\": 300}}, \"layer\": [{\"data\": {\"url\": \"altair-data-59d4739adbffaf11f37e51c7608268b3.json\", \"format\": {\"type\": \"json\"}}, \"mark\": {\"type\": \"boxplot\", \"color\": \"#F28482\", \"median\": true, \"outliers\": false, \"size\": 10}, \"encoding\": {\"x\": {\"type\": \"quantitative\", \"field\": \"retweets\", \"title\": null}, \"y\": {\"type\": \"nominal\", \"field\": \"viz\", \"title\": null}}, \"height\": 300, \"title\": \"Average retweets per user\", \"width\": 500}, {\"data\": {\"url\": \"altair-data-a85f2c00adea9809e646562eece649c9.json\", \"format\": {\"type\": \"json\"}}, \"mark\": {\"type\": \"boxplot\", \"color\": \"#F28482\", \"median\": true, \"outliers\": true, \"size\": 10}, \"encoding\": {\"x\": {\"type\": \"quantitative\", \"field\": \"retweets\", \"title\": null}, \"y\": {\"type\": \"nominal\", \"field\": \"viz\", \"title\": null}}, \"height\": 300, \"title\": \"Average retweets per user\", \"width\": 500}], \"$schema\": \"https://vega.github.io/schema/vega-lite/v4.8.1.json\"}, {\"mode\": \"vega-lite\"});\n",
       "</script>"
      ],
      "text/plain": [
       "alt.LayerChart(...)"
      ]
     },
     "execution_count": 22,
     "metadata": {},
     "output_type": "execute_result"
    }
   ],
   "source": [
    "alt.Chart(top_retweeted_long[top_tweeters_long['viz'] == 'no outliers'], title='Average retweets per user').mark_boxplot(size=10, outliers=False, median=True, color=palette['twitter']).encode(alt.X('retweets:Q', title=None), alt.Y('viz:N', title=None)).properties(width=500, height=300) + \\\n",
    "alt.Chart(top_retweeted_long[top_tweeters_long['viz'] == 'outliers'], title='Average retweets per user').mark_boxplot(size=10, outliers=True, median=True, color=palette['twitter']).encode(alt.X('retweets:Q', title=None), alt.Y('viz:N', title=None)).properties(width=500, height=300)"
   ]
  },
  {
   "cell_type": "markdown",
   "id": "prerequisite-certification",
   "metadata": {},
   "source": [
    "How many each user has been retweeted is much different than how many tweets he posted. Having outliers, in this case, is part of the reality: some users are not so followed and their tweets have no retweets, others (speaking about Bitcoin, Elon Musk for example) are what's called a \"VIP\".\n",
    "\n",
    "This aspect is very interesting because could open another set of possible analysis; for example: removing \"Normal people\" from the dataset, how much change the correlation with the price?"
   ]
  },
  {
   "cell_type": "markdown",
   "id": "lasting-auction",
   "metadata": {},
   "source": [
    "#### Tweets average length\n",
    "\n",
    "For simplicity, here the \"length of a tweet\" will be the number of words, this also reflects the intent of analyzing this aspect: Find a way to evaluate the relevance of a tweet"
   ]
  },
  {
   "cell_type": "code",
   "execution_count": 8,
   "id": "structural-narrative",
   "metadata": {},
   "outputs": [],
   "source": [
    "words_avg = pd.DataFrame(words_avg['words_avg'], columns=['words_avg'])\n",
    "words_avg['words_avg'] = words_avg['words_avg'].apply(lambda x: int(x))\n",
    "words_avg['outliers'] = words_avg['words_avg']\n",
    "words_avg['no outliers'] = words_avg['words_avg']\n",
    "words_avg = words_avg[['outliers', 'no outliers']]\n",
    "\n",
    "words_avg_long = words_avg.melt(value_name='words_avg', var_name='viz')"
   ]
  },
  {
   "cell_type": "code",
   "execution_count": 23,
   "id": "identified-finance",
   "metadata": {},
   "outputs": [
    {
     "data": {
      "text/html": [
       "\n",
       "<div id=\"altair-viz-d4ce7b156d2f4cb095c27aaa32eeea20\"></div>\n",
       "<script type=\"text/javascript\">\n",
       "  (function(spec, embedOpt){\n",
       "    let outputDiv = document.currentScript.previousElementSibling;\n",
       "    if (outputDiv.id !== \"altair-viz-d4ce7b156d2f4cb095c27aaa32eeea20\") {\n",
       "      outputDiv = document.getElementById(\"altair-viz-d4ce7b156d2f4cb095c27aaa32eeea20\");\n",
       "    }\n",
       "    const paths = {\n",
       "      \"vega\": \"https://cdn.jsdelivr.net/npm//vega@5?noext\",\n",
       "      \"vega-lib\": \"https://cdn.jsdelivr.net/npm//vega-lib?noext\",\n",
       "      \"vega-lite\": \"https://cdn.jsdelivr.net/npm//vega-lite@4.8.1?noext\",\n",
       "      \"vega-embed\": \"https://cdn.jsdelivr.net/npm//vega-embed@6?noext\",\n",
       "    };\n",
       "\n",
       "    function loadScript(lib) {\n",
       "      return new Promise(function(resolve, reject) {\n",
       "        var s = document.createElement('script');\n",
       "        s.src = paths[lib];\n",
       "        s.async = true;\n",
       "        s.onload = () => resolve(paths[lib]);\n",
       "        s.onerror = () => reject(`Error loading script: ${paths[lib]}`);\n",
       "        document.getElementsByTagName(\"head\")[0].appendChild(s);\n",
       "      });\n",
       "    }\n",
       "\n",
       "    function showError(err) {\n",
       "      outputDiv.innerHTML = `<div class=\"error\" style=\"color:red;\">${err}</div>`;\n",
       "      throw err;\n",
       "    }\n",
       "\n",
       "    function displayChart(vegaEmbed) {\n",
       "      vegaEmbed(outputDiv, spec, embedOpt)\n",
       "        .catch(err => showError(`Javascript Error: ${err.message}<br>This usually means there's a typo in your chart specification. See the javascript console for the full traceback.`));\n",
       "    }\n",
       "\n",
       "    if(typeof define === \"function\" && define.amd) {\n",
       "      requirejs.config({paths});\n",
       "      require([\"vega-embed\"], displayChart, err => showError(`Error loading script: ${err.message}`));\n",
       "    } else if (typeof vegaEmbed === \"function\") {\n",
       "      displayChart(vegaEmbed);\n",
       "    } else {\n",
       "      loadScript(\"vega\")\n",
       "        .then(() => loadScript(\"vega-lite\"))\n",
       "        .then(() => loadScript(\"vega-embed\"))\n",
       "        .catch(showError)\n",
       "        .then(() => displayChart(vegaEmbed));\n",
       "    }\n",
       "  })({\"config\": {\"view\": {\"continuousWidth\": 400, \"continuousHeight\": 300}}, \"data\": {\"url\": \"altair-data-f70c5ac0d7d13c6fe059baba9fcc5213.json\", \"format\": {\"type\": \"json\"}}, \"mark\": {\"type\": \"boxplot\", \"color\": \"#F28482\", \"median\": true, \"outliers\": false, \"size\": 10}, \"encoding\": {\"x\": {\"type\": \"quantitative\", \"field\": \"words_avg\", \"title\": null}, \"y\": {\"type\": \"nominal\", \"field\": \"viz\", \"title\": null}}, \"height\": 300, \"title\": \"Average post length per user\", \"width\": 500, \"$schema\": \"https://vega.github.io/schema/vega-lite/v4.8.1.json\"}, {\"mode\": \"vega-lite\"});\n",
       "</script>"
      ],
      "text/plain": [
       "alt.Chart(...)"
      ]
     },
     "execution_count": 23,
     "metadata": {},
     "output_type": "execute_result"
    }
   ],
   "source": [
    "alt.Chart(words_avg_long[words_avg_long['viz'] == 'no outliers'], title='Average post length per user').mark_boxplot(size=10, outliers=False, median=True, color=palette['twitter']).encode(alt.X('words_avg:Q', title=None), alt.Y('viz:N', title=None)).properties(width=500, height=300)"
   ]
  },
  {
   "cell_type": "code",
   "execution_count": 24,
   "id": "accepting-cutting",
   "metadata": {},
   "outputs": [
    {
     "data": {
      "text/html": [
       "\n",
       "<div id=\"altair-viz-bb8e06403fe5412eb4686fa79b5f8e46\"></div>\n",
       "<script type=\"text/javascript\">\n",
       "  (function(spec, embedOpt){\n",
       "    let outputDiv = document.currentScript.previousElementSibling;\n",
       "    if (outputDiv.id !== \"altair-viz-bb8e06403fe5412eb4686fa79b5f8e46\") {\n",
       "      outputDiv = document.getElementById(\"altair-viz-bb8e06403fe5412eb4686fa79b5f8e46\");\n",
       "    }\n",
       "    const paths = {\n",
       "      \"vega\": \"https://cdn.jsdelivr.net/npm//vega@5?noext\",\n",
       "      \"vega-lib\": \"https://cdn.jsdelivr.net/npm//vega-lib?noext\",\n",
       "      \"vega-lite\": \"https://cdn.jsdelivr.net/npm//vega-lite@4.8.1?noext\",\n",
       "      \"vega-embed\": \"https://cdn.jsdelivr.net/npm//vega-embed@6?noext\",\n",
       "    };\n",
       "\n",
       "    function loadScript(lib) {\n",
       "      return new Promise(function(resolve, reject) {\n",
       "        var s = document.createElement('script');\n",
       "        s.src = paths[lib];\n",
       "        s.async = true;\n",
       "        s.onload = () => resolve(paths[lib]);\n",
       "        s.onerror = () => reject(`Error loading script: ${paths[lib]}`);\n",
       "        document.getElementsByTagName(\"head\")[0].appendChild(s);\n",
       "      });\n",
       "    }\n",
       "\n",
       "    function showError(err) {\n",
       "      outputDiv.innerHTML = `<div class=\"error\" style=\"color:red;\">${err}</div>`;\n",
       "      throw err;\n",
       "    }\n",
       "\n",
       "    function displayChart(vegaEmbed) {\n",
       "      vegaEmbed(outputDiv, spec, embedOpt)\n",
       "        .catch(err => showError(`Javascript Error: ${err.message}<br>This usually means there's a typo in your chart specification. See the javascript console for the full traceback.`));\n",
       "    }\n",
       "\n",
       "    if(typeof define === \"function\" && define.amd) {\n",
       "      requirejs.config({paths});\n",
       "      require([\"vega-embed\"], displayChart, err => showError(`Error loading script: ${err.message}`));\n",
       "    } else if (typeof vegaEmbed === \"function\") {\n",
       "      displayChart(vegaEmbed);\n",
       "    } else {\n",
       "      loadScript(\"vega\")\n",
       "        .then(() => loadScript(\"vega-lite\"))\n",
       "        .then(() => loadScript(\"vega-embed\"))\n",
       "        .catch(showError)\n",
       "        .then(() => displayChart(vegaEmbed));\n",
       "    }\n",
       "  })({\"config\": {\"view\": {\"continuousWidth\": 400, \"continuousHeight\": 300}}, \"layer\": [{\"data\": {\"url\": \"altair-data-f70c5ac0d7d13c6fe059baba9fcc5213.json\", \"format\": {\"type\": \"json\"}}, \"mark\": {\"type\": \"boxplot\", \"color\": \"#F28482\", \"median\": true, \"outliers\": false, \"size\": 10}, \"encoding\": {\"x\": {\"type\": \"quantitative\", \"field\": \"words_avg\", \"title\": null}, \"y\": {\"type\": \"nominal\", \"field\": \"viz\", \"title\": null}}, \"height\": 300, \"title\": \"Average post length per user\", \"width\": 500}, {\"data\": {\"url\": \"altair-data-0b3dd15c222890f91b80da4b825d2a75.json\", \"format\": {\"type\": \"json\"}}, \"mark\": {\"type\": \"boxplot\", \"color\": \"#F28482\", \"median\": true, \"outliers\": true, \"size\": 10}, \"encoding\": {\"x\": {\"type\": \"quantitative\", \"field\": \"words_avg\", \"title\": null}, \"y\": {\"type\": \"nominal\", \"field\": \"viz\", \"title\": null}}, \"height\": 300, \"title\": \"Average post length per user\", \"width\": 500}], \"$schema\": \"https://vega.github.io/schema/vega-lite/v4.8.1.json\"}, {\"mode\": \"vega-lite\"});\n",
       "</script>"
      ],
      "text/plain": [
       "alt.LayerChart(...)"
      ]
     },
     "execution_count": 24,
     "metadata": {},
     "output_type": "execute_result"
    }
   ],
   "source": [
    "alt.Chart(words_avg_long[words_avg_long['viz'] == 'no outliers'], title='Average post length per user').mark_boxplot(size=10, outliers=False, median=True, color=palette['twitter']).encode(alt.X('words_avg:Q', title=None), alt.Y('viz:N', title=None)).properties(width=500, height=300) + \\\n",
    "alt.Chart(words_avg_long[words_avg_long['viz'] == 'outliers'], title='Average post length per user').mark_boxplot(size=10, outliers=True, median=True, color=palette['twitter']).encode(alt.X('words_avg:Q', title=None), alt.Y('viz:N', title=None)).properties(width=500, height=300)"
   ]
  },
  {
   "cell_type": "markdown",
   "id": "under-business",
   "metadata": {},
   "source": [
    "There are clearly outliers that are very far from the median, but in this case, the most important thing is IRQ; Q1 is 5 and Q3 is 15, this means that most of the tweets in the dataset have a number of words compatible with a sentence with meaning, therefore the number of bots is, probably, low."
   ]
  },
  {
   "cell_type": "markdown",
   "id": "irish-deployment",
   "metadata": {},
   "source": [
    "#### Users' metrics mixed up"
   ]
  },
  {
   "cell_type": "code",
   "execution_count": 39,
   "id": "acute-headline",
   "metadata": {},
   "outputs": [],
   "source": [
    "top_tweeters = pd.read_csv(top_tweeters_csv).iloc[1:]\n",
    "top_retweeted = pd.read_csv(top_retweeted_csv).iloc[1:]\n",
    "words_avg = pd.read_csv(words_avg_csv)\n",
    "\n",
    "users_summary = top_tweeters.copy()\n",
    "users_summary = users_summary.merge(top_retweeted, on=['username', 'full_name'])\n",
    "users_summary = users_summary.merge(words_avg, on=['username', 'full_name'])\n",
    "\n",
    "users_summary\n",
    "\n",
    "words_q3 = users_summary['words_avg'].quantile(q=0.75)\n",
    "\n",
    "users_summary_filtered = users_summary[users_summary['words_avg'] <= words_q3*1.5]"
   ]
  },
  {
   "cell_type": "code",
   "execution_count": 57,
   "id": "continuing-strand",
   "metadata": {},
   "outputs": [
    {
     "data": {
      "text/html": [
       "\n",
       "<div id=\"altair-viz-532f8001bc3f40d3b3092252f5152cd5\"></div>\n",
       "<script type=\"text/javascript\">\n",
       "  (function(spec, embedOpt){\n",
       "    let outputDiv = document.currentScript.previousElementSibling;\n",
       "    if (outputDiv.id !== \"altair-viz-532f8001bc3f40d3b3092252f5152cd5\") {\n",
       "      outputDiv = document.getElementById(\"altair-viz-532f8001bc3f40d3b3092252f5152cd5\");\n",
       "    }\n",
       "    const paths = {\n",
       "      \"vega\": \"https://cdn.jsdelivr.net/npm//vega@5?noext\",\n",
       "      \"vega-lib\": \"https://cdn.jsdelivr.net/npm//vega-lib?noext\",\n",
       "      \"vega-lite\": \"https://cdn.jsdelivr.net/npm//vega-lite@4.8.1?noext\",\n",
       "      \"vega-embed\": \"https://cdn.jsdelivr.net/npm//vega-embed@6?noext\",\n",
       "    };\n",
       "\n",
       "    function loadScript(lib) {\n",
       "      return new Promise(function(resolve, reject) {\n",
       "        var s = document.createElement('script');\n",
       "        s.src = paths[lib];\n",
       "        s.async = true;\n",
       "        s.onload = () => resolve(paths[lib]);\n",
       "        s.onerror = () => reject(`Error loading script: ${paths[lib]}`);\n",
       "        document.getElementsByTagName(\"head\")[0].appendChild(s);\n",
       "      });\n",
       "    }\n",
       "\n",
       "    function showError(err) {\n",
       "      outputDiv.innerHTML = `<div class=\"error\" style=\"color:red;\">${err}</div>`;\n",
       "      throw err;\n",
       "    }\n",
       "\n",
       "    function displayChart(vegaEmbed) {\n",
       "      vegaEmbed(outputDiv, spec, embedOpt)\n",
       "        .catch(err => showError(`Javascript Error: ${err.message}<br>This usually means there's a typo in your chart specification. See the javascript console for the full traceback.`));\n",
       "    }\n",
       "\n",
       "    if(typeof define === \"function\" && define.amd) {\n",
       "      requirejs.config({paths});\n",
       "      require([\"vega-embed\"], displayChart, err => showError(`Error loading script: ${err.message}`));\n",
       "    } else if (typeof vegaEmbed === \"function\") {\n",
       "      displayChart(vegaEmbed);\n",
       "    } else {\n",
       "      loadScript(\"vega\")\n",
       "        .then(() => loadScript(\"vega-lite\"))\n",
       "        .then(() => loadScript(\"vega-embed\"))\n",
       "        .catch(showError)\n",
       "        .then(() => displayChart(vegaEmbed));\n",
       "    }\n",
       "  })({\"config\": {\"view\": {\"continuousWidth\": 400, \"continuousHeight\": 300}, \"point\": {\"size\": 10}}, \"data\": {\"url\": \"altair-data-0da270da3f70ea889e0785d445c23677.json\", \"format\": {\"type\": \"json\"}}, \"mark\": {\"type\": \"point\", \"clip\": true}, \"encoding\": {\"color\": {\"type\": \"quantitative\", \"field\": \"words_avg\", \"scale\": {\"domain\": [1, 22.79699248120301], \"range\": [\"#e45756\", \"#54a24b\"]}, \"title\": \"Words avg\"}, \"x\": {\"type\": \"quantitative\", \"field\": \"tweets\", \"scale\": {\"domain\": [0, 5000]}, \"title\": \"Tweets\"}, \"y\": {\"type\": \"quantitative\", \"field\": \"retweets\", \"scale\": {\"domain\": [0, 16000]}, \"title\": \"Retweets\"}}, \"height\": 750, \"title\": {\"text\": \"Zoomed users' metrics\", \"subtitle\": [\"Re-adjusted words_avg color range\"]}, \"width\": 750, \"$schema\": \"https://vega.github.io/schema/vega-lite/v4.8.1.json\"}, {\"mode\": \"vega-lite\"});\n",
       "</script>"
      ],
      "text/plain": [
       "alt.Chart(...)"
      ]
     },
     "execution_count": 57,
     "metadata": {},
     "output_type": "execute_result"
    }
   ],
   "source": [
    "domain = [1, max(users_summary_filtered['words_avg'])]\n",
    "range_ = [palette['negative'], palette['positive']]\n",
    "\n",
    "\n",
    "plot_title = alt.TitleParams(\"Zoomed users' metrics\", subtitle=[\"Re-adjusted words_avg color range\"])\n",
    "alt.Chart(users_summary_filtered, title=plot_title).mark_point(clip=True).encode(alt.X('tweets', scale=alt.Scale(domain=(0, 5000)), title='Tweets'), alt.Y('retweets', scale=alt.Scale(domain=(0, 16000)), title='Retweets'), alt.Color('words_avg', scale=alt.Scale(domain=domain, range=range_), title='Words avg')).properties(height=750, width=750).configure_point(size=10)"
   ]
  },
  {
   "cell_type": "markdown",
   "id": "legislative-cassette",
   "metadata": {},
   "source": [
    "It's not possible to identify groups of users with similar metrics, but the above chart is a visualization of the population in the dataset: Most of the users are \"normal people\", but a portion of them have a good number of retweets and a good average tweets length.\n",
    "\n",
    "Another expansion of this analysis could be a process where each user has a rank based on its metrics; based on that rank, a dedicated service \"monitors\" the users with a higher rank. This because, probably (but it's only a hypothesis), a user with a higher rank has a higher impact on the price."
   ]
  }
 ],
 "metadata": {
  "kernelspec": {
   "display_name": "Python 3",
   "language": "python",
   "name": "python3"
  },
  "language_info": {
   "codemirror_mode": {
    "name": "ipython",
    "version": 3
   },
   "file_extension": ".py",
   "mimetype": "text/x-python",
   "name": "python",
   "nbconvert_exporter": "python",
   "pygments_lexer": "ipython3",
   "version": "3.8.6"
  }
 },
 "nbformat": 4,
 "nbformat_minor": 5
}
