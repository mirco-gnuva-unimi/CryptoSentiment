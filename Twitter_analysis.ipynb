{
 "cells": [
  {
   "cell_type": "markdown",
   "id": "addressed-marble",
   "metadata": {},
   "source": [
    "# Twitter analysis"
   ]
  },
  {
   "cell_type": "markdown",
   "id": "bulgarian-witness",
   "metadata": {},
   "source": [
    "### Notebook description\n",
    "\n",
    "This notebook aims to analyze the correlation between tweets and Bitcoin price over years."
   ]
  },
  {
   "cell_type": "markdown",
   "id": "appreciated-accreditation",
   "metadata": {},
   "source": [
    "### Data overview\n",
    "\n",
    "The dataset used in the notebook's charts is the result of a merge of numerous public datasets, those datasets' sources are listed in the README file.\n",
    "\n",
    "The origin of the dataset brings some problems, such as inconstancy of data per day, missing values. Some of the tweets' sentiments were already classified, but due to lack of classification process description and to classification uniformity, each tweet has been re-classified using fast-classifier from Flair framework (read the README for details about the license)."
   ]
  },
  {
   "cell_type": "markdown",
   "id": "judicial-whale",
   "metadata": {},
   "source": [
    "## Basic Analysis"
   ]
  },
  {
   "cell_type": "markdown",
   "id": "unique-lancaster",
   "metadata": {},
   "source": [
    "To achieve uniformity between charts, a project-wise colors palette has been used"
   ]
  },
  {
   "cell_type": "code",
   "execution_count": 1,
   "id": "complex-victoria",
   "metadata": {},
   "outputs": [],
   "source": [
    "from palette import palette\n",
    "base_path = '/mnt/hgfs/VMs_Shared/datasets/filtered/'"
   ]
  },
  {
   "cell_type": "markdown",
   "id": "computational-alexandria",
   "metadata": {},
   "source": [
    "To easily handling the large amount of data (about 26M of tweets), tweets' info has been grouped by date (view <nome notebook> for grouping details)"
   ]
  },
  {
   "cell_type": "code",
   "execution_count": 2,
   "id": "conservative-coral",
   "metadata": {},
   "outputs": [],
   "source": [
    "daily_csv = base_path + 'twitter_daily_info.csv'"
   ]
  },
  {
   "cell_type": "code",
   "execution_count": 3,
   "id": "talented-celtic",
   "metadata": {},
   "outputs": [],
   "source": [
    "import pandas as pd\n",
    "\n",
    "raw_df = pd.read_csv(daily_csv).dropna()"
   ]
  },
  {
   "cell_type": "code",
   "execution_count": 4,
   "id": "floral-indicator",
   "metadata": {},
   "outputs": [],
   "source": [
    "def avg_sentiment(group) -> float:\n",
    "    total = sum(group['count'])\n",
    "    sentiment = sum(group['count'] * group['signed_score'])/total\n",
    "    return sentiment\n",
    "\n",
    "def score_to_label(score) -> str:\n",
    "    if score == 0:\n",
    "        return 'NEUTRAL'\n",
    "    return 'POSITIVE' if score > 0 else 'NEGATIVE'\n",
    "\n",
    "def normalize(value: float, range_min: float, range_max: float) -> float:\n",
    "    return (value-range_min)/(range_max-range_min)\n",
    "\n",
    "def normalize_series(series, series_min=None, series_max=None) -> pd.Series:\n",
    "    if series_min is None:\n",
    "        series_min = min(series)\n",
    "        \n",
    "    if series_max is None:\n",
    "        series_max = max(series)\n",
    "    return series.apply(lambda x: normalize(x, series_min, series_max))"
   ]
  },
  {
   "cell_type": "code",
   "execution_count": 5,
   "id": "retained-scholar",
   "metadata": {},
   "outputs": [],
   "source": [
    "raw_df['label'] = raw_df['label'].apply(lambda x: x.replace('\"', ''))\n",
    "raw_df['signed_score'] = raw_df['conf'] * raw_df['label'].apply(lambda x: 1 if x == 'POSITIVE' else -1)"
   ]
  },
  {
   "cell_type": "markdown",
   "id": "catholic-elements",
   "metadata": {},
   "source": [
    "Common dates range is calculated intersecting the market dataframe with Twitter one"
   ]
  },
  {
   "cell_type": "code",
   "execution_count": 6,
   "id": "prospective-classroom",
   "metadata": {},
   "outputs": [],
   "source": [
    "market_daily_csv = base_path + '/market_daily_info.csv'\n",
    "market_dates = pd.read_csv(market_daily_csv).dropna()['date']\n",
    "\n",
    "dates_min = max([min(market_dates), min(raw_df['date'])])\n",
    "dates_max = min([max(market_dates), max(raw_df['date'])])\n",
    "\n",
    "dates = pd.concat([market_dates, raw_df['date']])\n",
    "    \n",
    "dates = dates.drop_duplicates().sort_values()\n",
    "dates = dates[(dates_min <= dates) & (dates <= dates_max)]"
   ]
  },
  {
   "cell_type": "code",
   "execution_count": 7,
   "id": "informal-bookmark",
   "metadata": {},
   "outputs": [],
   "source": [
    "raw_df = raw_df[(raw_df['date'] >= dates_min) & (raw_df['date'] <= dates_max)]"
   ]
  },
  {
   "cell_type": "code",
   "execution_count": 8,
   "id": "parental-relief",
   "metadata": {},
   "outputs": [],
   "source": [
    "date_grouped = raw_df.groupby('date')\n",
    "daily_df = pd.DataFrame(index=raw_df['date'].drop_duplicates())\n",
    "daily_df['sentiment'] = date_grouped.apply(avg_sentiment)\n",
    "daily_df['norm_sent'] = normalize_series(daily_df['sentiment'], -1, 1)\n",
    "daily_df['label'] = daily_df['sentiment'].apply(score_to_label)\n",
    "daily_df['count'] = date_grouped.apply(lambda x: sum(x['count']))\n",
    "daily_df['norm_count'] = normalize_series(daily_df['count'], 0)\n",
    "negatives = raw_df[raw_df['label'] == 'NEGATIVE'][['date', 'count']]\n",
    "negatives.columns= ['date', 'negatives']\n",
    "positives = raw_df[raw_df['label'] == 'POSITIVE'][['date', 'count']]\n",
    "positives.columns= ['date', 'positives']\n",
    "daily_df = daily_df.merge(negatives, on='date')\n",
    "daily_df = daily_df.merge(positives, on='date')\n",
    "daily_df = daily_df.drop_duplicates(subset=['date'])"
   ]
  },
  {
   "cell_type": "code",
   "execution_count": 9,
   "id": "expensive-thumbnail",
   "metadata": {},
   "outputs": [],
   "source": [
    "daily_df = daily_df[(daily_df['date'] >= dates_min) & (daily_df['date'] <= dates_max)]\n",
    "daily_df = daily_df[daily_df['count'] < 100000] # removing outliers\n",
    "daily_df['norm_sent'] = normalize_series(daily_df['sentiment'], -1, 1)"
   ]
  },
  {
   "cell_type": "markdown",
   "id": "ultimate-toilet",
   "metadata": {},
   "source": [
    "As for Twitter, the market infos are day grained"
   ]
  },
  {
   "cell_type": "code",
   "execution_count": 10,
   "id": "attempted-array",
   "metadata": {},
   "outputs": [],
   "source": [
    "market_daily_csv = base_path+ 'market_daily_info.csv'\n",
    "market_raw_df = pd.read_csv(market_daily_csv)\n",
    "market_raw_df = market_raw_df.dropna()\n",
    "market_df = pd.DataFrame(dates, columns=['date'])\n",
    "market_df = market_df.merge(market_raw_df, on='date')\n",
    "market_df['mid_price'] = (market_df['high'] + market_df['low'])/2\n",
    "market_df['norm_mid_price'] = normalize_series(market_df['mid_price'])\n",
    "market_df = market_df[(dates_min <= market_df['date']) & (market_df['date']<= dates_max)]"
   ]
  },
  {
   "cell_type": "code",
   "execution_count": 11,
   "id": "affected-federal",
   "metadata": {},
   "outputs": [
    {
     "data": {
      "text/plain": [
       "DataTransformerRegistry.enable('json')"
      ]
     },
     "execution_count": 11,
     "metadata": {},
     "output_type": "execute_result"
    }
   ],
   "source": [
    "import altair as alt\n",
    "\n",
    "alt.data_transformers.enable('json')"
   ]
  },
  {
   "cell_type": "markdown",
   "id": "oriental-window",
   "metadata": {},
   "source": [
    "### Weekly volume"
   ]
  },
  {
   "cell_type": "code",
   "execution_count": 12,
   "id": "fifteen-gross",
   "metadata": {},
   "outputs": [
    {
     "data": {
      "text/html": [
       "\n",
       "<div id=\"altair-viz-b76968aa82f549589cdb8445863094f9\"></div>\n",
       "<script type=\"text/javascript\">\n",
       "  (function(spec, embedOpt){\n",
       "    let outputDiv = document.currentScript.previousElementSibling;\n",
       "    if (outputDiv.id !== \"altair-viz-b76968aa82f549589cdb8445863094f9\") {\n",
       "      outputDiv = document.getElementById(\"altair-viz-b76968aa82f549589cdb8445863094f9\");\n",
       "    }\n",
       "    const paths = {\n",
       "      \"vega\": \"https://cdn.jsdelivr.net/npm//vega@5?noext\",\n",
       "      \"vega-lib\": \"https://cdn.jsdelivr.net/npm//vega-lib?noext\",\n",
       "      \"vega-lite\": \"https://cdn.jsdelivr.net/npm//vega-lite@4.8.1?noext\",\n",
       "      \"vega-embed\": \"https://cdn.jsdelivr.net/npm//vega-embed@6?noext\",\n",
       "    };\n",
       "\n",
       "    function loadScript(lib) {\n",
       "      return new Promise(function(resolve, reject) {\n",
       "        var s = document.createElement('script');\n",
       "        s.src = paths[lib];\n",
       "        s.async = true;\n",
       "        s.onload = () => resolve(paths[lib]);\n",
       "        s.onerror = () => reject(`Error loading script: ${paths[lib]}`);\n",
       "        document.getElementsByTagName(\"head\")[0].appendChild(s);\n",
       "      });\n",
       "    }\n",
       "\n",
       "    function showError(err) {\n",
       "      outputDiv.innerHTML = `<div class=\"error\" style=\"color:red;\">${err}</div>`;\n",
       "      throw err;\n",
       "    }\n",
       "\n",
       "    function displayChart(vegaEmbed) {\n",
       "      vegaEmbed(outputDiv, spec, embedOpt)\n",
       "        .catch(err => showError(`Javascript Error: ${err.message}<br>This usually means there's a typo in your chart specification. See the javascript console for the full traceback.`));\n",
       "    }\n",
       "\n",
       "    if(typeof define === \"function\" && define.amd) {\n",
       "      requirejs.config({paths});\n",
       "      require([\"vega-embed\"], displayChart, err => showError(`Error loading script: ${err.message}`));\n",
       "    } else if (typeof vegaEmbed === \"function\") {\n",
       "      displayChart(vegaEmbed);\n",
       "    } else {\n",
       "      loadScript(\"vega\")\n",
       "        .then(() => loadScript(\"vega-lite\"))\n",
       "        .then(() => loadScript(\"vega-embed\"))\n",
       "        .catch(showError)\n",
       "        .then(() => displayChart(vegaEmbed));\n",
       "    }\n",
       "  })({\"config\": {\"view\": {\"continuousWidth\": 400, \"continuousHeight\": 300}}, \"data\": {\"url\": \"altair-data-4e8d42e3d498f02296f56d65d285dad8.json\", \"format\": {\"type\": \"json\"}}, \"mark\": \"area\", \"encoding\": {\"color\": {\"value\": \"#F28482\"}, \"x\": {\"type\": \"temporal\", \"field\": \"month\", \"timeUnit\": \"yearmonth\", \"title\": \"Date\"}, \"y\": {\"type\": \"quantitative\", \"field\": \"count\", \"title\": \"Daily volume\"}}, \"title\": \"Weekly volume\", \"$schema\": \"https://vega.github.io/schema/vega-lite/v4.8.1.json\"}, {\"mode\": \"vega-lite\"});\n",
       "</script>"
      ],
      "text/plain": [
       "alt.Chart(...)"
      ]
     },
     "execution_count": 12,
     "metadata": {},
     "output_type": "execute_result"
    }
   ],
   "source": [
    "daily_df['month'] = daily_df['date'].apply(lambda x: x[:-3])\n",
    "\n",
    "weekly_volume = daily_df[['month', 'count']].groupby(by='month', as_index=False).mean()\n",
    "\n",
    "volume_chart = alt.Chart(weekly_volume, title='Weekly volume').mark_area().encode(alt.X('yearmonth(month):T', title='Date'),\n",
    "                                                                                 alt.Y('count', title='Daily volume'),\n",
    "                                                                                 color=alt.value(palette['twitter']))\n",
    "\n",
    "volume_chart"
   ]
  },
  {
   "cell_type": "markdown",
   "id": "mighty-staff",
   "metadata": {},
   "source": [
    "As can be seen, the crawling rate is not constant over time, and this will create some issues during the following analysis."
   ]
  },
  {
   "cell_type": "markdown",
   "id": "gorgeous-withdrawal",
   "metadata": {},
   "source": [
    "### Basic data exploration"
   ]
  },
  {
   "cell_type": "markdown",
   "id": "marked-keeping",
   "metadata": {},
   "source": [
    "#### Sentiment"
   ]
  },
  {
   "cell_type": "code",
   "execution_count": 13,
   "id": "reverse-blanket",
   "metadata": {},
   "outputs": [
    {
     "data": {
      "text/html": [
       "\n",
       "<div id=\"altair-viz-8e8ae7cc1a174fc9bdd89c3b596ea3e7\"></div>\n",
       "<script type=\"text/javascript\">\n",
       "  (function(spec, embedOpt){\n",
       "    let outputDiv = document.currentScript.previousElementSibling;\n",
       "    if (outputDiv.id !== \"altair-viz-8e8ae7cc1a174fc9bdd89c3b596ea3e7\") {\n",
       "      outputDiv = document.getElementById(\"altair-viz-8e8ae7cc1a174fc9bdd89c3b596ea3e7\");\n",
       "    }\n",
       "    const paths = {\n",
       "      \"vega\": \"https://cdn.jsdelivr.net/npm//vega@5?noext\",\n",
       "      \"vega-lib\": \"https://cdn.jsdelivr.net/npm//vega-lib?noext\",\n",
       "      \"vega-lite\": \"https://cdn.jsdelivr.net/npm//vega-lite@4.8.1?noext\",\n",
       "      \"vega-embed\": \"https://cdn.jsdelivr.net/npm//vega-embed@6?noext\",\n",
       "    };\n",
       "\n",
       "    function loadScript(lib) {\n",
       "      return new Promise(function(resolve, reject) {\n",
       "        var s = document.createElement('script');\n",
       "        s.src = paths[lib];\n",
       "        s.async = true;\n",
       "        s.onload = () => resolve(paths[lib]);\n",
       "        s.onerror = () => reject(`Error loading script: ${paths[lib]}`);\n",
       "        document.getElementsByTagName(\"head\")[0].appendChild(s);\n",
       "      });\n",
       "    }\n",
       "\n",
       "    function showError(err) {\n",
       "      outputDiv.innerHTML = `<div class=\"error\" style=\"color:red;\">${err}</div>`;\n",
       "      throw err;\n",
       "    }\n",
       "\n",
       "    function displayChart(vegaEmbed) {\n",
       "      vegaEmbed(outputDiv, spec, embedOpt)\n",
       "        .catch(err => showError(`Javascript Error: ${err.message}<br>This usually means there's a typo in your chart specification. See the javascript console for the full traceback.`));\n",
       "    }\n",
       "\n",
       "    if(typeof define === \"function\" && define.amd) {\n",
       "      requirejs.config({paths});\n",
       "      require([\"vega-embed\"], displayChart, err => showError(`Error loading script: ${err.message}`));\n",
       "    } else if (typeof vegaEmbed === \"function\") {\n",
       "      displayChart(vegaEmbed);\n",
       "    } else {\n",
       "      loadScript(\"vega\")\n",
       "        .then(() => loadScript(\"vega-lite\"))\n",
       "        .then(() => loadScript(\"vega-embed\"))\n",
       "        .catch(showError)\n",
       "        .then(() => displayChart(vegaEmbed));\n",
       "    }\n",
       "  })({\"config\": {\"view\": {\"continuousWidth\": 400, \"continuousHeight\": 300}}, \"data\": {\"url\": \"altair-data-6b2bd40a2d6180259495fcefe2deed93.json\", \"format\": {\"type\": \"json\"}}, \"mark\": \"boxplot\", \"encoding\": {\"color\": {\"value\": \"#F28482\"}, \"x\": {\"type\": \"quantitative\", \"field\": \"norm_sent\", \"title\": \"Normalized sentiment\"}}, \"height\": 200, \"title\": \"Sentiment dispersion\", \"$schema\": \"https://vega.github.io/schema/vega-lite/v4.8.1.json\"}, {\"mode\": \"vega-lite\"});\n",
       "</script>"
      ],
      "text/plain": [
       "alt.Chart(...)"
      ]
     },
     "execution_count": 13,
     "metadata": {},
     "output_type": "execute_result"
    }
   ],
   "source": [
    "sent_rounded = daily_df[['norm_sent']].copy()\n",
    "sent_rounded['norm_sent'] = sent_rounded['norm_sent'].apply(lambda x: round(x, 2))\n",
    "\n",
    "alt.Chart(sent_rounded, title='Sentiment dispersion').mark_boxplot().encode(alt.X('norm_sent', title='Normalized sentiment'), color=alt.value(palette['twitter'])).properties(height=200)"
   ]
  },
  {
   "cell_type": "markdown",
   "id": "popular-reset",
   "metadata": {},
   "source": [
    "Median is very low (0.2), this means that a large part of the tweets are very negative."
   ]
  },
  {
   "cell_type": "code",
   "execution_count": 42,
   "id": "indie-suite",
   "metadata": {},
   "outputs": [
    {
     "data": {
      "text/html": [
       "\n",
       "<div id=\"altair-viz-991f0d8bb4e44ddebd2ec5df845b8461\"></div>\n",
       "<script type=\"text/javascript\">\n",
       "  (function(spec, embedOpt){\n",
       "    let outputDiv = document.currentScript.previousElementSibling;\n",
       "    if (outputDiv.id !== \"altair-viz-991f0d8bb4e44ddebd2ec5df845b8461\") {\n",
       "      outputDiv = document.getElementById(\"altair-viz-991f0d8bb4e44ddebd2ec5df845b8461\");\n",
       "    }\n",
       "    const paths = {\n",
       "      \"vega\": \"https://cdn.jsdelivr.net/npm//vega@5?noext\",\n",
       "      \"vega-lib\": \"https://cdn.jsdelivr.net/npm//vega-lib?noext\",\n",
       "      \"vega-lite\": \"https://cdn.jsdelivr.net/npm//vega-lite@4.8.1?noext\",\n",
       "      \"vega-embed\": \"https://cdn.jsdelivr.net/npm//vega-embed@6?noext\",\n",
       "    };\n",
       "\n",
       "    function loadScript(lib) {\n",
       "      return new Promise(function(resolve, reject) {\n",
       "        var s = document.createElement('script');\n",
       "        s.src = paths[lib];\n",
       "        s.async = true;\n",
       "        s.onload = () => resolve(paths[lib]);\n",
       "        s.onerror = () => reject(`Error loading script: ${paths[lib]}`);\n",
       "        document.getElementsByTagName(\"head\")[0].appendChild(s);\n",
       "      });\n",
       "    }\n",
       "\n",
       "    function showError(err) {\n",
       "      outputDiv.innerHTML = `<div class=\"error\" style=\"color:red;\">${err}</div>`;\n",
       "      throw err;\n",
       "    }\n",
       "\n",
       "    function displayChart(vegaEmbed) {\n",
       "      vegaEmbed(outputDiv, spec, embedOpt)\n",
       "        .catch(err => showError(`Javascript Error: ${err.message}<br>This usually means there's a typo in your chart specification. See the javascript console for the full traceback.`));\n",
       "    }\n",
       "\n",
       "    if(typeof define === \"function\" && define.amd) {\n",
       "      requirejs.config({paths});\n",
       "      require([\"vega-embed\"], displayChart, err => showError(`Error loading script: ${err.message}`));\n",
       "    } else if (typeof vegaEmbed === \"function\") {\n",
       "      displayChart(vegaEmbed);\n",
       "    } else {\n",
       "      loadScript(\"vega\")\n",
       "        .then(() => loadScript(\"vega-lite\"))\n",
       "        .then(() => loadScript(\"vega-embed\"))\n",
       "        .catch(showError)\n",
       "        .then(() => displayChart(vegaEmbed));\n",
       "    }\n",
       "  })({\"config\": {\"view\": {\"continuousWidth\": 400, \"continuousHeight\": 300}}, \"data\": {\"url\": \"altair-data-ea4f5fe5b6748b9d1369319885879a80.json\", \"format\": {\"type\": \"json\"}}, \"mark\": \"area\", \"encoding\": {\"color\": {\"value\": \"#F28482\"}, \"x\": {\"type\": \"quantitative\", \"field\": \"norm_sent\", \"title\": \"Normalized sentiment\"}, \"y\": {\"type\": \"quantitative\", \"field\": \"count\", \"title\": \"Count\"}}, \"title\": \"Sentiment distribution\", \"$schema\": \"https://vega.github.io/schema/vega-lite/v4.8.1.json\"}, {\"mode\": \"vega-lite\"});\n",
       "</script>"
      ],
      "text/plain": [
       "alt.Chart(...)"
      ]
     },
     "execution_count": 42,
     "metadata": {},
     "output_type": "execute_result"
    }
   ],
   "source": [
    "sent_dist = sent_rounded.groupby('norm_sent', as_index=False).size()\n",
    "sent_dist.columns = ['norm_sent', 'count']\n",
    "\n",
    "alt.Chart(sent_dist, title='Sentiment distribution').mark_area().encode(alt.X('norm_sent', title='Normalized sentiment'), alt.Y('count', title='Count'), color=alt.value(palette['twitter']))"
   ]
  },
  {
   "cell_type": "markdown",
   "id": "smart-flexibility",
   "metadata": {},
   "source": [
    "The sentiment distribution shows, again, that many of the tweets are very negative, a good part of them are near 0.5, which could for two reasons:\n",
    "- For the classification has been used the Flair fast-classifier\n",
    "- Tweets normally are not the state of the art of language, users use hashtags, acronyms, and stuffs like that."
   ]
  },
  {
   "cell_type": "markdown",
   "id": "killing-static",
   "metadata": {},
   "source": [
    "#### Volume"
   ]
  },
  {
   "cell_type": "code",
   "execution_count": 44,
   "id": "distinguished-realtor",
   "metadata": {},
   "outputs": [
    {
     "data": {
      "text/html": [
       "\n",
       "<div id=\"altair-viz-9d0ea4e31ae8486486e569d8d0de8a51\"></div>\n",
       "<script type=\"text/javascript\">\n",
       "  (function(spec, embedOpt){\n",
       "    let outputDiv = document.currentScript.previousElementSibling;\n",
       "    if (outputDiv.id !== \"altair-viz-9d0ea4e31ae8486486e569d8d0de8a51\") {\n",
       "      outputDiv = document.getElementById(\"altair-viz-9d0ea4e31ae8486486e569d8d0de8a51\");\n",
       "    }\n",
       "    const paths = {\n",
       "      \"vega\": \"https://cdn.jsdelivr.net/npm//vega@5?noext\",\n",
       "      \"vega-lib\": \"https://cdn.jsdelivr.net/npm//vega-lib?noext\",\n",
       "      \"vega-lite\": \"https://cdn.jsdelivr.net/npm//vega-lite@4.8.1?noext\",\n",
       "      \"vega-embed\": \"https://cdn.jsdelivr.net/npm//vega-embed@6?noext\",\n",
       "    };\n",
       "\n",
       "    function loadScript(lib) {\n",
       "      return new Promise(function(resolve, reject) {\n",
       "        var s = document.createElement('script');\n",
       "        s.src = paths[lib];\n",
       "        s.async = true;\n",
       "        s.onload = () => resolve(paths[lib]);\n",
       "        s.onerror = () => reject(`Error loading script: ${paths[lib]}`);\n",
       "        document.getElementsByTagName(\"head\")[0].appendChild(s);\n",
       "      });\n",
       "    }\n",
       "\n",
       "    function showError(err) {\n",
       "      outputDiv.innerHTML = `<div class=\"error\" style=\"color:red;\">${err}</div>`;\n",
       "      throw err;\n",
       "    }\n",
       "\n",
       "    function displayChart(vegaEmbed) {\n",
       "      vegaEmbed(outputDiv, spec, embedOpt)\n",
       "        .catch(err => showError(`Javascript Error: ${err.message}<br>This usually means there's a typo in your chart specification. See the javascript console for the full traceback.`));\n",
       "    }\n",
       "\n",
       "    if(typeof define === \"function\" && define.amd) {\n",
       "      requirejs.config({paths});\n",
       "      require([\"vega-embed\"], displayChart, err => showError(`Error loading script: ${err.message}`));\n",
       "    } else if (typeof vegaEmbed === \"function\") {\n",
       "      displayChart(vegaEmbed);\n",
       "    } else {\n",
       "      loadScript(\"vega\")\n",
       "        .then(() => loadScript(\"vega-lite\"))\n",
       "        .then(() => loadScript(\"vega-embed\"))\n",
       "        .catch(showError)\n",
       "        .then(() => displayChart(vegaEmbed));\n",
       "    }\n",
       "  })({\"config\": {\"view\": {\"continuousWidth\": 400, \"continuousHeight\": 300}}, \"data\": {\"url\": \"altair-data-8dcbd5efe94756631081024256a98d4e.json\", \"format\": {\"type\": \"json\"}}, \"mark\": \"boxplot\", \"encoding\": {\"color\": {\"value\": \"#F28482\"}, \"x\": {\"type\": \"quantitative\", \"field\": \"count\", \"title\": null}}, \"height\": 200, \"title\": \"Volume dispersion\", \"$schema\": \"https://vega.github.io/schema/vega-lite/v4.8.1.json\"}, {\"mode\": \"vega-lite\"});\n",
       "</script>"
      ],
      "text/plain": [
       "alt.Chart(...)"
      ]
     },
     "execution_count": 44,
     "metadata": {},
     "output_type": "execute_result"
    }
   ],
   "source": [
    "alt.Chart(daily_df, title='Volume dispersion').mark_boxplot().encode(alt.X('count', title=None), color=alt.value(palette['twitter'])).properties(height=200)"
   ]
  },
  {
   "cell_type": "markdown",
   "id": "correct-mobility",
   "metadata": {},
   "source": [
    "There are a large number of outliers, probably caused by spammers and bots; infact a good upgrade in the dataset cleaning process could be the remotion of duplicated tweets."
   ]
  },
  {
   "cell_type": "code",
   "execution_count": 16,
   "id": "polish-current",
   "metadata": {},
   "outputs": [
    {
     "data": {
      "text/html": [
       "\n",
       "<div id=\"altair-viz-63a74fd298584b19b0d3e420fe954aa6\"></div>\n",
       "<script type=\"text/javascript\">\n",
       "  (function(spec, embedOpt){\n",
       "    let outputDiv = document.currentScript.previousElementSibling;\n",
       "    if (outputDiv.id !== \"altair-viz-63a74fd298584b19b0d3e420fe954aa6\") {\n",
       "      outputDiv = document.getElementById(\"altair-viz-63a74fd298584b19b0d3e420fe954aa6\");\n",
       "    }\n",
       "    const paths = {\n",
       "      \"vega\": \"https://cdn.jsdelivr.net/npm//vega@5?noext\",\n",
       "      \"vega-lib\": \"https://cdn.jsdelivr.net/npm//vega-lib?noext\",\n",
       "      \"vega-lite\": \"https://cdn.jsdelivr.net/npm//vega-lite@4.8.1?noext\",\n",
       "      \"vega-embed\": \"https://cdn.jsdelivr.net/npm//vega-embed@6?noext\",\n",
       "    };\n",
       "\n",
       "    function loadScript(lib) {\n",
       "      return new Promise(function(resolve, reject) {\n",
       "        var s = document.createElement('script');\n",
       "        s.src = paths[lib];\n",
       "        s.async = true;\n",
       "        s.onload = () => resolve(paths[lib]);\n",
       "        s.onerror = () => reject(`Error loading script: ${paths[lib]}`);\n",
       "        document.getElementsByTagName(\"head\")[0].appendChild(s);\n",
       "      });\n",
       "    }\n",
       "\n",
       "    function showError(err) {\n",
       "      outputDiv.innerHTML = `<div class=\"error\" style=\"color:red;\">${err}</div>`;\n",
       "      throw err;\n",
       "    }\n",
       "\n",
       "    function displayChart(vegaEmbed) {\n",
       "      vegaEmbed(outputDiv, spec, embedOpt)\n",
       "        .catch(err => showError(`Javascript Error: ${err.message}<br>This usually means there's a typo in your chart specification. See the javascript console for the full traceback.`));\n",
       "    }\n",
       "\n",
       "    if(typeof define === \"function\" && define.amd) {\n",
       "      requirejs.config({paths});\n",
       "      require([\"vega-embed\"], displayChart, err => showError(`Error loading script: ${err.message}`));\n",
       "    } else if (typeof vegaEmbed === \"function\") {\n",
       "      displayChart(vegaEmbed);\n",
       "    } else {\n",
       "      loadScript(\"vega\")\n",
       "        .then(() => loadScript(\"vega-lite\"))\n",
       "        .then(() => loadScript(\"vega-embed\"))\n",
       "        .catch(showError)\n",
       "        .then(() => displayChart(vegaEmbed));\n",
       "    }\n",
       "  })({\"config\": {\"view\": {\"continuousWidth\": 400, \"continuousHeight\": 300}}, \"data\": {\"url\": \"altair-data-a366849c5065d1901d84f538efbd7657.json\", \"format\": {\"type\": \"json\"}}, \"mark\": \"line\", \"encoding\": {\"color\": {\"value\": \"#F28482\"}, \"x\": {\"type\": \"quantitative\", \"field\": \"volume\", \"title\": \"Normalized sentiment\"}, \"y\": {\"type\": \"quantitative\", \"field\": \"count\", \"title\": \"Count\"}}, \"title\": \"Volume distribution\", \"$schema\": \"https://vega.github.io/schema/vega-lite/v4.8.1.json\"}, {\"mode\": \"vega-lite\"});\n",
       "</script>"
      ],
      "text/plain": [
       "alt.Chart(...)"
      ]
     },
     "execution_count": 16,
     "metadata": {},
     "output_type": "execute_result"
    }
   ],
   "source": [
    "volumes = daily_df[['count']]\n",
    "\n",
    "volumes_dist = volumes.groupby('count', as_index=False).size()\n",
    "volumes_dist.columns = ['volume', 'count']\n",
    "\n",
    "alt.Chart(volumes_dist, title='Volume distribution').mark_line().encode(alt.X('volume', title='Normalized sentiment'), alt.Y('count', title='Count'), color=alt.value(palette['twitter']))"
   ]
  },
  {
   "cell_type": "code",
   "execution_count": 17,
   "id": "celtic-breakfast",
   "metadata": {},
   "outputs": [
    {
     "data": {
      "text/html": [
       "\n",
       "<div id=\"altair-viz-90e2e898510140439fb94cee55307926\"></div>\n",
       "<script type=\"text/javascript\">\n",
       "  (function(spec, embedOpt){\n",
       "    let outputDiv = document.currentScript.previousElementSibling;\n",
       "    if (outputDiv.id !== \"altair-viz-90e2e898510140439fb94cee55307926\") {\n",
       "      outputDiv = document.getElementById(\"altair-viz-90e2e898510140439fb94cee55307926\");\n",
       "    }\n",
       "    const paths = {\n",
       "      \"vega\": \"https://cdn.jsdelivr.net/npm//vega@5?noext\",\n",
       "      \"vega-lib\": \"https://cdn.jsdelivr.net/npm//vega-lib?noext\",\n",
       "      \"vega-lite\": \"https://cdn.jsdelivr.net/npm//vega-lite@4.8.1?noext\",\n",
       "      \"vega-embed\": \"https://cdn.jsdelivr.net/npm//vega-embed@6?noext\",\n",
       "    };\n",
       "\n",
       "    function loadScript(lib) {\n",
       "      return new Promise(function(resolve, reject) {\n",
       "        var s = document.createElement('script');\n",
       "        s.src = paths[lib];\n",
       "        s.async = true;\n",
       "        s.onload = () => resolve(paths[lib]);\n",
       "        s.onerror = () => reject(`Error loading script: ${paths[lib]}`);\n",
       "        document.getElementsByTagName(\"head\")[0].appendChild(s);\n",
       "      });\n",
       "    }\n",
       "\n",
       "    function showError(err) {\n",
       "      outputDiv.innerHTML = `<div class=\"error\" style=\"color:red;\">${err}</div>`;\n",
       "      throw err;\n",
       "    }\n",
       "\n",
       "    function displayChart(vegaEmbed) {\n",
       "      vegaEmbed(outputDiv, spec, embedOpt)\n",
       "        .catch(err => showError(`Javascript Error: ${err.message}<br>This usually means there's a typo in your chart specification. See the javascript console for the full traceback.`));\n",
       "    }\n",
       "\n",
       "    if(typeof define === \"function\" && define.amd) {\n",
       "      requirejs.config({paths});\n",
       "      require([\"vega-embed\"], displayChart, err => showError(`Error loading script: ${err.message}`));\n",
       "    } else if (typeof vegaEmbed === \"function\") {\n",
       "      displayChart(vegaEmbed);\n",
       "    } else {\n",
       "      loadScript(\"vega\")\n",
       "        .then(() => loadScript(\"vega-lite\"))\n",
       "        .then(() => loadScript(\"vega-embed\"))\n",
       "        .catch(showError)\n",
       "        .then(() => displayChart(vegaEmbed));\n",
       "    }\n",
       "  })({\"config\": {\"view\": {\"continuousWidth\": 400, \"continuousHeight\": 300}}, \"data\": {\"url\": \"altair-data-ce5a896d705795d8e0e5c3f862ce4d66.json\", \"format\": {\"type\": \"json\"}}, \"mark\": \"line\", \"encoding\": {\"color\": {\"value\": \"#F28482\"}, \"x\": {\"type\": \"quantitative\", \"field\": \"volume\", \"title\": \"Normalized sentiment\"}, \"y\": {\"type\": \"quantitative\", \"field\": \"count\", \"title\": \"Count\"}}, \"title\": {\"text\": \"Clipped volume distribution\", \"subtitle\": [\"Clipped to q3\"]}, \"$schema\": \"https://vega.github.io/schema/vega-lite/v4.8.1.json\"}, {\"mode\": \"vega-lite\"});\n",
       "</script>"
      ],
      "text/plain": [
       "alt.Chart(...)"
      ]
     },
     "execution_count": 17,
     "metadata": {},
     "output_type": "execute_result"
    }
   ],
   "source": [
    "volumes = daily_df[daily_df['count'] <= 12255][['count']]\n",
    "\n",
    "volumes_dist = volumes.groupby('count', as_index=False).size()\n",
    "volumes_dist.columns = ['volume', 'count']\n",
    "\n",
    "plot_title = alt.TitleParams('Clipped volume distribution', subtitle=['Clipped to q3'])\n",
    "alt.Chart(volumes_dist, title=plot_title).mark_line().encode(alt.X('volume', title='Normalized sentiment'), alt.Y('count', title='Count'), color=alt.value(palette['twitter'])) "
   ]
  },
  {
   "cell_type": "markdown",
   "id": "interpreted-silly",
   "metadata": {},
   "source": [
    "The volume distribution is clearly concentrated on the left, and, also removing values above q3, the distribution remains unbalanced on the left."
   ]
  },
  {
   "cell_type": "markdown",
   "id": "public-spirituality",
   "metadata": {},
   "source": [
    "### Sentiment analysis"
   ]
  },
  {
   "cell_type": "code",
   "execution_count": 18,
   "id": "official-bermuda",
   "metadata": {},
   "outputs": [
    {
     "data": {
      "text/html": [
       "\n",
       "<div id=\"altair-viz-0c57e6b8b18f42f9bb65c7e626d9f625\"></div>\n",
       "<script type=\"text/javascript\">\n",
       "  (function(spec, embedOpt){\n",
       "    let outputDiv = document.currentScript.previousElementSibling;\n",
       "    if (outputDiv.id !== \"altair-viz-0c57e6b8b18f42f9bb65c7e626d9f625\") {\n",
       "      outputDiv = document.getElementById(\"altair-viz-0c57e6b8b18f42f9bb65c7e626d9f625\");\n",
       "    }\n",
       "    const paths = {\n",
       "      \"vega\": \"https://cdn.jsdelivr.net/npm//vega@5?noext\",\n",
       "      \"vega-lib\": \"https://cdn.jsdelivr.net/npm//vega-lib?noext\",\n",
       "      \"vega-lite\": \"https://cdn.jsdelivr.net/npm//vega-lite@4.8.1?noext\",\n",
       "      \"vega-embed\": \"https://cdn.jsdelivr.net/npm//vega-embed@6?noext\",\n",
       "    };\n",
       "\n",
       "    function loadScript(lib) {\n",
       "      return new Promise(function(resolve, reject) {\n",
       "        var s = document.createElement('script');\n",
       "        s.src = paths[lib];\n",
       "        s.async = true;\n",
       "        s.onload = () => resolve(paths[lib]);\n",
       "        s.onerror = () => reject(`Error loading script: ${paths[lib]}`);\n",
       "        document.getElementsByTagName(\"head\")[0].appendChild(s);\n",
       "      });\n",
       "    }\n",
       "\n",
       "    function showError(err) {\n",
       "      outputDiv.innerHTML = `<div class=\"error\" style=\"color:red;\">${err}</div>`;\n",
       "      throw err;\n",
       "    }\n",
       "\n",
       "    function displayChart(vegaEmbed) {\n",
       "      vegaEmbed(outputDiv, spec, embedOpt)\n",
       "        .catch(err => showError(`Javascript Error: ${err.message}<br>This usually means there's a typo in your chart specification. See the javascript console for the full traceback.`));\n",
       "    }\n",
       "\n",
       "    if(typeof define === \"function\" && define.amd) {\n",
       "      requirejs.config({paths});\n",
       "      require([\"vega-embed\"], displayChart, err => showError(`Error loading script: ${err.message}`));\n",
       "    } else if (typeof vegaEmbed === \"function\") {\n",
       "      displayChart(vegaEmbed);\n",
       "    } else {\n",
       "      loadScript(\"vega\")\n",
       "        .then(() => loadScript(\"vega-lite\"))\n",
       "        .then(() => loadScript(\"vega-embed\"))\n",
       "        .catch(showError)\n",
       "        .then(() => displayChart(vegaEmbed));\n",
       "    }\n",
       "  })({\"config\": {\"view\": {\"continuousWidth\": 400, \"continuousHeight\": 300}}, \"vconcat\": [{\"layer\": [{\"data\": {\"url\": \"altair-data-8dcbd5efe94756631081024256a98d4e.json\", \"format\": {\"type\": \"json\"}}, \"mark\": \"bar\", \"encoding\": {\"color\": {\"type\": \"quantitative\", \"field\": \"norm_sent\", \"scale\": {\"domain\": [0, 1], \"range\": [\"#e45756\", \"#54a24b\"]}}, \"x\": {\"type\": \"temporal\", \"axis\": {\"labelOverlap\": \"greedy\", \"labelSeparation\": 6}, \"bin\": {\"extent\": {\"selection\": \"selector001\"}, \"maxbins\": 100}, \"field\": \"date\", \"scale\": {\"domain\": {\"selection\": \"selector001\"}}, \"timeUnit\": \"yearmonthdate\"}, \"y\": {\"type\": \"quantitative\", \"field\": \"norm_sent\", \"scale\": {\"domain\": [0, 1]}, \"title\": \"Normalized sentiment\"}}, \"title\": {\"text\": \"Normalized sentiment vs Bitcoin price\", \"subtitle\": \"0:= negative, 1:= positive\"}}, {\"data\": {\"url\": \"altair-data-90589f8307fa632c7c6b7aa4f16ef768.json\", \"format\": {\"type\": \"json\"}}, \"mark\": {\"type\": \"line\", \"color\": \"blue\"}, \"encoding\": {\"x\": {\"type\": \"temporal\", \"field\": \"date\", \"scale\": {\"domain\": {\"selection\": \"selector001\"}}, \"timeUnit\": \"yearmonthdate\", \"title\": null}, \"y\": {\"type\": \"quantitative\", \"field\": \"mid_price\"}}}], \"resolve\": {\"scale\": {\"y\": \"independent\"}}}, {\"data\": {\"url\": \"altair-data-8dcbd5efe94756631081024256a98d4e.json\", \"format\": {\"type\": \"json\"}}, \"mark\": \"bar\", \"encoding\": {\"color\": {\"type\": \"quantitative\", \"field\": \"norm_sent\", \"scale\": {\"domain\": [0, 1], \"range\": [\"#e45756\", \"#54a24b\"]}}, \"x\": {\"type\": \"temporal\", \"axis\": {\"labelOverlap\": \"greedy\", \"labelSeparation\": 6}, \"bin\": {\"maxbins\": 100}, \"field\": \"date\", \"timeUnit\": \"yearmonthdate\", \"title\": \"Date\"}, \"y\": {\"type\": \"quantitative\", \"field\": \"norm_sent\", \"title\": null}}, \"height\": 50, \"selection\": {\"selector001\": {\"type\": \"interval\", \"encodings\": [\"x\"]}}}], \"$schema\": \"https://vega.github.io/schema/vega-lite/v4.8.1.json\"}, {\"mode\": \"vega-lite\"});\n",
       "</script>"
      ],
      "text/plain": [
       "alt.VConcatChart(...)"
      ]
     },
     "execution_count": 18,
     "metadata": {},
     "output_type": "execute_result"
    }
   ],
   "source": [
    "domain = [0, 1]\n",
    "color_range = [palette['negative'], palette['positive']]\n",
    "\n",
    "time_selector = alt.selection(type='interval', encodings=['x'])\n",
    "\n",
    "gradient = alt.Color('norm_sent', scale=alt.Scale(domain=domain, range=color_range))\n",
    "\n",
    "price_chart = alt.Chart(market_df).mark_line(color=palette['strong_price']).encode(\n",
    "    x=alt.X('yearmonthdate(date):T',\n",
    "           scale=alt.Scale(domain=time_selector),\n",
    "           title=None),\n",
    "    y=alt.Y('mid_price')\n",
    ")\n",
    "        \n",
    "plot_title = alt.TitleParams('Normalized sentiment vs Bitcoin price', subtitle='0:= negative, 1:= positive')\n",
    "histogram = alt.Chart(daily_df, title=plot_title).mark_bar().encode(alt.X('yearmonthdate(date):T',\n",
    "                                                       bin=alt.Bin(maxbins=100, extent=time_selector),\n",
    "                                                       scale=alt.Scale(domain=time_selector),\n",
    "                                                       axis=alt.Axis(labelOverlap='greedy', labelSeparation=6)),\n",
    "                                                 alt.Y('norm_sent',\n",
    "                                                      scale=alt.Scale(domain=[0,1]),\n",
    "                                                      title='Normalized sentiment'),\n",
    "                                                 color=gradient)\n",
    "\n",
    "\n",
    "\n",
    "\n",
    "selection_plot = alt.Chart(daily_df).mark_bar().encode(alt.X('yearmonthdate(date):T',\n",
    "                                                       bin=alt.Bin(maxbins=100),\n",
    "                                                            title='Date',\n",
    "                                                            axis=alt.Axis(labelOverlap='greedy', labelSeparation=6)),\n",
    "                                                       alt.Y('norm_sent', title=None),\n",
    "                                                       color=gradient).add_selection(time_selector).properties(height=50)\n",
    "\n",
    "(histogram + price_chart).resolve_scale(y='independent') & selection_plot"
   ]
  },
  {
   "cell_type": "markdown",
   "id": "rental-magnitude",
   "metadata": {},
   "source": [
    "Bar binning has some problems plotting the sentiment if it's in [-1, 1], for that reason the interactive version uses normalized sentiment and the static one uses original sentiment values."
   ]
  },
  {
   "cell_type": "code",
   "execution_count": 46,
   "id": "heavy-floor",
   "metadata": {},
   "outputs": [
    {
     "data": {
      "text/html": [
       "\n",
       "<div id=\"altair-viz-925c6ea865114c25a5f978aaf2c9ff47\"></div>\n",
       "<script type=\"text/javascript\">\n",
       "  (function(spec, embedOpt){\n",
       "    let outputDiv = document.currentScript.previousElementSibling;\n",
       "    if (outputDiv.id !== \"altair-viz-925c6ea865114c25a5f978aaf2c9ff47\") {\n",
       "      outputDiv = document.getElementById(\"altair-viz-925c6ea865114c25a5f978aaf2c9ff47\");\n",
       "    }\n",
       "    const paths = {\n",
       "      \"vega\": \"https://cdn.jsdelivr.net/npm//vega@5?noext\",\n",
       "      \"vega-lib\": \"https://cdn.jsdelivr.net/npm//vega-lib?noext\",\n",
       "      \"vega-lite\": \"https://cdn.jsdelivr.net/npm//vega-lite@4.8.1?noext\",\n",
       "      \"vega-embed\": \"https://cdn.jsdelivr.net/npm//vega-embed@6?noext\",\n",
       "    };\n",
       "\n",
       "    function loadScript(lib) {\n",
       "      return new Promise(function(resolve, reject) {\n",
       "        var s = document.createElement('script');\n",
       "        s.src = paths[lib];\n",
       "        s.async = true;\n",
       "        s.onload = () => resolve(paths[lib]);\n",
       "        s.onerror = () => reject(`Error loading script: ${paths[lib]}`);\n",
       "        document.getElementsByTagName(\"head\")[0].appendChild(s);\n",
       "      });\n",
       "    }\n",
       "\n",
       "    function showError(err) {\n",
       "      outputDiv.innerHTML = `<div class=\"error\" style=\"color:red;\">${err}</div>`;\n",
       "      throw err;\n",
       "    }\n",
       "\n",
       "    function displayChart(vegaEmbed) {\n",
       "      vegaEmbed(outputDiv, spec, embedOpt)\n",
       "        .catch(err => showError(`Javascript Error: ${err.message}<br>This usually means there's a typo in your chart specification. See the javascript console for the full traceback.`));\n",
       "    }\n",
       "\n",
       "    if(typeof define === \"function\" && define.amd) {\n",
       "      requirejs.config({paths});\n",
       "      require([\"vega-embed\"], displayChart, err => showError(`Error loading script: ${err.message}`));\n",
       "    } else if (typeof vegaEmbed === \"function\") {\n",
       "      displayChart(vegaEmbed);\n",
       "    } else {\n",
       "      loadScript(\"vega\")\n",
       "        .then(() => loadScript(\"vega-lite\"))\n",
       "        .then(() => loadScript(\"vega-embed\"))\n",
       "        .catch(showError)\n",
       "        .then(() => displayChart(vegaEmbed));\n",
       "    }\n",
       "  })({\"config\": {\"view\": {\"continuousWidth\": 400, \"continuousHeight\": 300}}, \"layer\": [{\"data\": {\"url\": \"altair-data-8dcbd5efe94756631081024256a98d4e.json\", \"format\": {\"type\": \"json\"}}, \"mark\": \"bar\", \"encoding\": {\"color\": {\"type\": \"quantitative\", \"field\": \"sentiment\", \"scale\": {\"domain\": [-1, 1], \"range\": [\"#e45756\", \"#54a24b\"]}, \"title\": \"Sentiment\"}, \"x\": {\"type\": \"temporal\", \"field\": \"date\", \"timeUnit\": \"yearmonthdate\", \"title\": \"Date\"}, \"y\": {\"type\": \"quantitative\", \"field\": \"sentiment\", \"scale\": {\"domain\": [-1, 1]}, \"title\": \"Sentiment\"}}, \"title\": {\"text\": \"Static sentiment vs Bitcoin price\", \"subtitle\": \"-1:= negative, 1:= positive\"}}, {\"data\": {\"url\": \"altair-data-90589f8307fa632c7c6b7aa4f16ef768.json\", \"format\": {\"type\": \"json\"}}, \"mark\": {\"type\": \"line\", \"color\": \"blue\"}, \"encoding\": {\"x\": {\"type\": \"temporal\", \"field\": \"date\", \"timeUnit\": \"yearmonthdate\"}, \"y\": {\"type\": \"quantitative\", \"field\": \"mid_price\", \"title\": \"Mid price\"}}}], \"resolve\": {\"scale\": {\"y\": \"independent\"}}, \"$schema\": \"https://vega.github.io/schema/vega-lite/v4.8.1.json\"}, {\"mode\": \"vega-lite\"});\n",
       "</script>"
      ],
      "text/plain": [
       "alt.LayerChart(...)"
      ]
     },
     "execution_count": 46,
     "metadata": {},
     "output_type": "execute_result"
    }
   ],
   "source": [
    "domain = [-1, 1]\n",
    "\n",
    "gradient = alt.Color('sentiment', scale=alt.Scale(domain=domain, range=color_range), title='Sentiment')\n",
    "\n",
    "price_chart = alt.Chart(market_df).mark_line(color=palette['strong_price']).encode(\n",
    "    x=alt.X('yearmonthdate(date):T'),\n",
    "    y=alt.Y('mid_price', title='Mid price')\n",
    ")\n",
    "\n",
    "plot_title = alt.TitleParams('Static sentiment vs Bitcoin price', subtitle='-1:= negative, 1:= positive')\n",
    "histogram = alt.Chart(daily_df, title=plot_title).mark_bar().encode(alt.X('yearmonthdate(date):T', title='Date'),\n",
    "                                                 alt.Y('sentiment',\n",
    "                                                      scale=alt.Scale(domain=[-1,1]),\n",
    "                                                      title='Sentiment'),\n",
    "                                                 color=gradient)\n",
    "\n",
    "\n",
    "\n",
    "\n",
    "(histogram + price_chart).resolve_scale(y='independent')"
   ]
  },
  {
   "cell_type": "markdown",
   "id": "colored-columbia",
   "metadata": {},
   "source": [
    "Plotting sentiment in [-1, 1] permit to understand immediately if price direction is the same as the sentiment one."
   ]
  },
  {
   "cell_type": "markdown",
   "id": "purple-herald",
   "metadata": {},
   "source": [
    "#### Correlation\n",
    "\n",
    "To measure the correlation between sentiment and price, two approaches will be used:\n",
    "- TLCC (Time Lagged Cross-Correlation): a measure of the correlation of the whole time series given a list of time offsets\n",
    "- Windowed TLCC: the time series are lagged as in the first case, but the correlation is calculated for each window; this is useful to understand correlation \"direction\" (so the time series' roles) over time."
   ]
  },
  {
   "cell_type": "markdown",
   "id": "clinical-newport",
   "metadata": {},
   "source": [
    "##### TLCC"
   ]
  },
  {
   "cell_type": "code",
   "execution_count": 47,
   "id": "artistic-lodge",
   "metadata": {},
   "outputs": [
    {
     "data": {
      "text/html": [
       "\n",
       "<div id=\"altair-viz-1f8851a529e749ff8deeda7ddbce37cb\"></div>\n",
       "<script type=\"text/javascript\">\n",
       "  (function(spec, embedOpt){\n",
       "    let outputDiv = document.currentScript.previousElementSibling;\n",
       "    if (outputDiv.id !== \"altair-viz-1f8851a529e749ff8deeda7ddbce37cb\") {\n",
       "      outputDiv = document.getElementById(\"altair-viz-1f8851a529e749ff8deeda7ddbce37cb\");\n",
       "    }\n",
       "    const paths = {\n",
       "      \"vega\": \"https://cdn.jsdelivr.net/npm//vega@5?noext\",\n",
       "      \"vega-lib\": \"https://cdn.jsdelivr.net/npm//vega-lib?noext\",\n",
       "      \"vega-lite\": \"https://cdn.jsdelivr.net/npm//vega-lite@4.8.1?noext\",\n",
       "      \"vega-embed\": \"https://cdn.jsdelivr.net/npm//vega-embed@6?noext\",\n",
       "    };\n",
       "\n",
       "    function loadScript(lib) {\n",
       "      return new Promise(function(resolve, reject) {\n",
       "        var s = document.createElement('script');\n",
       "        s.src = paths[lib];\n",
       "        s.async = true;\n",
       "        s.onload = () => resolve(paths[lib]);\n",
       "        s.onerror = () => reject(`Error loading script: ${paths[lib]}`);\n",
       "        document.getElementsByTagName(\"head\")[0].appendChild(s);\n",
       "      });\n",
       "    }\n",
       "\n",
       "    function showError(err) {\n",
       "      outputDiv.innerHTML = `<div class=\"error\" style=\"color:red;\">${err}</div>`;\n",
       "      throw err;\n",
       "    }\n",
       "\n",
       "    function displayChart(vegaEmbed) {\n",
       "      vegaEmbed(outputDiv, spec, embedOpt)\n",
       "        .catch(err => showError(`Javascript Error: ${err.message}<br>This usually means there's a typo in your chart specification. See the javascript console for the full traceback.`));\n",
       "    }\n",
       "\n",
       "    if(typeof define === \"function\" && define.amd) {\n",
       "      requirejs.config({paths});\n",
       "      require([\"vega-embed\"], displayChart, err => showError(`Error loading script: ${err.message}`));\n",
       "    } else if (typeof vegaEmbed === \"function\") {\n",
       "      displayChart(vegaEmbed);\n",
       "    } else {\n",
       "      loadScript(\"vega\")\n",
       "        .then(() => loadScript(\"vega-lite\"))\n",
       "        .then(() => loadScript(\"vega-embed\"))\n",
       "        .catch(showError)\n",
       "        .then(() => displayChart(vegaEmbed));\n",
       "    }\n",
       "  })({\"config\": {\"view\": {\"continuousWidth\": 400, \"continuousHeight\": 300}}, \"data\": {\"url\": \"altair-data-c3d5e08a7e8f3cfd718567d9c89e662b.json\", \"format\": {\"type\": \"json\"}}, \"mark\": \"line\", \"encoding\": {\"color\": {\"type\": \"nominal\", \"field\": \"method\", \"title\": \"Method\"}, \"x\": {\"type\": \"quantitative\", \"field\": \"offset\", \"title\": \"Offset days\"}, \"y\": {\"type\": \"quantitative\", \"field\": \"correlation\", \"title\": \"Correlation\"}}, \"title\": {\"text\": \"Correlations\", \"subtitle\": [\"Max correlation (0.859) with an offset of -66 days\", \"Min correlation (0.675) with an offset of 150 days\"]}, \"$schema\": \"https://vega.github.io/schema/vega-lite/v4.8.1.json\"}, {\"mode\": \"vega-lite\"});\n",
       "</script>"
      ],
      "text/plain": [
       "alt.Chart(...)"
      ]
     },
     "execution_count": 47,
     "metadata": {},
     "output_type": "execute_result"
    }
   ],
   "source": [
    "methods = ['pearson', 'kendall', 'spearman']\n",
    "offsets = list(range(-150, 151)) # list of days offset to test\n",
    "\n",
    "correlations = []\n",
    "\n",
    "sent_vs_price = pd.DataFrame(daily_df['date'], columns=['date'])\n",
    "sent_vs_price['sent'] = daily_df['norm_sent']\n",
    "sent_vs_price = sent_vs_price.merge(market_df[['date', 'mid_price']], on='date')\n",
    "\n",
    "for method in methods:\n",
    "    method_correlations = [(method, offset, sent_vs_price['sent'].corr(sent_vs_price['mid_price'].shift(-offset), method=method))\n",
    "                           for offset in offsets]\n",
    "    correlations.extend(method_correlations)\n",
    "        \n",
    "correlations_df = pd.DataFrame(correlations, columns=['method', 'offset', 'correlation'])\n",
    "\n",
    "spearman_correlations = correlations_df[correlations_df['method'] == 'spearman']\n",
    "\n",
    "max_corr = max(spearman_correlations['correlation'])\n",
    "max_corr_offset = spearman_correlations[spearman_correlations['correlation'] == max_corr]['offset'].iloc[0]\n",
    "\n",
    "min_corr = min(spearman_correlations['correlation'])\n",
    "min_corr_offset = spearman_correlations[spearman_correlations['correlation'] == min_corr]['offset'].iloc[0]\n",
    "\n",
    "max_corr_text = f'Max correlation ({round(max_corr, 3)}) with an offset of {max_corr_offset} days'\n",
    "min_corr_text = f'Min correlation ({round(min_corr, 3)}) with an offset of {min_corr_offset} days'\n",
    "\n",
    "plot_title = alt.TitleParams('Correlations', subtitle=[max_corr_text, min_corr_text])\n",
    "corr_chart = alt.Chart(correlations_df, title=plot_title).mark_line().encode(alt.X('offset', title='Offset days'),\n",
    "                                                          alt.Y('correlation', title='Correlation'),\n",
    "                                                          alt.Color('method', title='Method'))\n",
    "\n",
    "corr_chart"
   ]
  },
  {
   "cell_type": "markdown",
   "id": "alert-marathon",
   "metadata": {},
   "source": [
    "For the nature of the data, the Pearson correlation should not be applied since the variables are not normally distributed.\n",
    "\n",
    "Kendal and Spearman share the information used to compute the correlation, in fact, the related charts are simply shifted.\n",
    "\n",
    "The goal of that section is to find a time offset to maximize the correlation, so the choice between Spearman and Kendall is not significant."
   ]
  },
  {
   "cell_type": "markdown",
   "id": "promotional-creation",
   "metadata": {},
   "source": [
    "##### WTLCC\n",
    "\n",
    "For semplicity, the next chart will visualiza WTLCC using Spearman correlation only."
   ]
  },
  {
   "cell_type": "code",
   "execution_count": 51,
   "id": "offensive-partnership",
   "metadata": {},
   "outputs": [
    {
     "data": {
      "text/html": [
       "\n",
       "<div id=\"altair-viz-cdc0e59d15494bff8dca4945e2f81df8\"></div>\n",
       "<script type=\"text/javascript\">\n",
       "  (function(spec, embedOpt){\n",
       "    let outputDiv = document.currentScript.previousElementSibling;\n",
       "    if (outputDiv.id !== \"altair-viz-cdc0e59d15494bff8dca4945e2f81df8\") {\n",
       "      outputDiv = document.getElementById(\"altair-viz-cdc0e59d15494bff8dca4945e2f81df8\");\n",
       "    }\n",
       "    const paths = {\n",
       "      \"vega\": \"https://cdn.jsdelivr.net/npm//vega@5?noext\",\n",
       "      \"vega-lib\": \"https://cdn.jsdelivr.net/npm//vega-lib?noext\",\n",
       "      \"vega-lite\": \"https://cdn.jsdelivr.net/npm//vega-lite@4.8.1?noext\",\n",
       "      \"vega-embed\": \"https://cdn.jsdelivr.net/npm//vega-embed@6?noext\",\n",
       "    };\n",
       "\n",
       "    function loadScript(lib) {\n",
       "      return new Promise(function(resolve, reject) {\n",
       "        var s = document.createElement('script');\n",
       "        s.src = paths[lib];\n",
       "        s.async = true;\n",
       "        s.onload = () => resolve(paths[lib]);\n",
       "        s.onerror = () => reject(`Error loading script: ${paths[lib]}`);\n",
       "        document.getElementsByTagName(\"head\")[0].appendChild(s);\n",
       "      });\n",
       "    }\n",
       "\n",
       "    function showError(err) {\n",
       "      outputDiv.innerHTML = `<div class=\"error\" style=\"color:red;\">${err}</div>`;\n",
       "      throw err;\n",
       "    }\n",
       "\n",
       "    function displayChart(vegaEmbed) {\n",
       "      vegaEmbed(outputDiv, spec, embedOpt)\n",
       "        .catch(err => showError(`Javascript Error: ${err.message}<br>This usually means there's a typo in your chart specification. See the javascript console for the full traceback.`));\n",
       "    }\n",
       "\n",
       "    if(typeof define === \"function\" && define.amd) {\n",
       "      requirejs.config({paths});\n",
       "      require([\"vega-embed\"], displayChart, err => showError(`Error loading script: ${err.message}`));\n",
       "    } else if (typeof vegaEmbed === \"function\") {\n",
       "      displayChart(vegaEmbed);\n",
       "    } else {\n",
       "      loadScript(\"vega\")\n",
       "        .then(() => loadScript(\"vega-lite\"))\n",
       "        .then(() => loadScript(\"vega-embed\"))\n",
       "        .catch(showError)\n",
       "        .then(() => displayChart(vegaEmbed));\n",
       "    }\n",
       "  })({\"config\": {\"view\": {\"continuousWidth\": 400, \"continuousHeight\": 300}}, \"data\": {\"url\": \"altair-data-583d83888efff11e2a12146b60af66de.json\", \"format\": {\"type\": \"json\"}}, \"mark\": \"rect\", \"encoding\": {\"color\": {\"type\": \"quantitative\", \"field\": \"correlation\", \"scale\": {\"domain\": [-1, 1], \"range\": [\"#e45756\", \"#54a24b\"]}, \"title\": \"Correlation\"}, \"x\": {\"type\": \"ordinal\", \"field\": \"window\", \"title\": \"Window\"}, \"y\": {\"type\": \"ordinal\", \"field\": \"offset\", \"title\": \"Offset days\"}}, \"height\": 800, \"title\": {\"text\": \"Quarter lagged correlation sentiment/price\", \"subtitle\": \"-1:= price as master, 1:= sentiment as master\"}, \"width\": 800, \"$schema\": \"https://vega.github.io/schema/vega-lite/v4.8.1.json\"}, {\"mode\": \"vega-lite\"});\n",
       "</script>"
      ],
      "text/plain": [
       "alt.Chart(...)"
      ]
     },
     "execution_count": 51,
     "metadata": {},
     "output_type": "execute_result"
    }
   ],
   "source": [
    "from math import ceil\n",
    "\n",
    "def get_window(series: pd.Series, window) -> pd.Series:\n",
    "    return series.iloc[window[0]: window[1]]\n",
    "    \n",
    "\n",
    "def windowed_corr(first: pd.Series, second: pd.Series) -> list:\n",
    "    windows = [(window * window_size, (window * window_size)+window_size) for window in range(ceil(len(second)/window_size))]\n",
    "    windows_corr = [get_window(first, window).corr(get_window(second, window), method = 'spearman') for window in windows]\n",
    "    return windows_corr, windows\n",
    "\n",
    "offsets = list(range(-66, 67)) # reduced offsets for better visualization\n",
    "window_size = 120 # one window = one quarter\n",
    "\n",
    "windowed_correlations = []\n",
    "\n",
    "for offset in offsets:\n",
    "    windows_corr, windows = windowed_corr(sent_vs_price['sent'], sent_vs_price['mid_price'].shift(-offset))\n",
    "    for window, window_corr in enumerate(windows_corr):\n",
    "        windowed_correlations.append((window, window_corr, offset))\n",
    "    \n",
    "    \n",
    "windowed_correlations_df = pd.DataFrame(windowed_correlations, columns=['window', 'correlation', 'offset'])\n",
    "\n",
    "\n",
    "plot_title = alt.TitleParams('Quarter lagged correlation sentiment/price', subtitle='-1:= price as master, 1:= sentiment as master')\n",
    "color = alt.Color('correlation', scale=alt.Scale(domain=[-1, 1], range=[palette['negative'], palette['positive']]), title='Correlation')\n",
    "alt.Chart(windowed_correlations_df, height=800, width=800, title=plot_title).mark_rect().encode(alt.X('window:O', title='Window'), alt.Y('offset:O', title='Offset days'), color)\n"
   ]
  },
  {
   "cell_type": "markdown",
   "id": "prerequisite-reality",
   "metadata": {},
   "source": [
    "With the above heatmap, the level of details is higher; in fact, from that can be seen that:\n",
    "- In the case of windows 7 and 17 in most of the tested offsets the price acts as \"master\"\n",
    "- If we compare the sentiment with the future (positive offsets) in the same window the correlation is nearly 1 but in another is nearly -1, so the price prediction based is not so reliable or the crawling of the tweets was not consistent\n",
    "- If we compare the sentiment with the past (negative offsets) in the windows from 8 to 15 the correlation is pretty high, suggesting that the price is the master for this time range"
   ]
  },
  {
   "cell_type": "markdown",
   "id": "extensive-knight",
   "metadata": {},
   "source": [
    "### Volume analysis"
   ]
  },
  {
   "cell_type": "markdown",
   "id": "injured-broadcast",
   "metadata": {},
   "source": [
    "Another aspect of data is the volume of that, in other words: is relevant that the people speak well or bad about Bitcoin or it's enough that people speak?"
   ]
  },
  {
   "cell_type": "code",
   "execution_count": 53,
   "id": "grateful-casting",
   "metadata": {},
   "outputs": [
    {
     "data": {
      "text/html": [
       "\n",
       "<div id=\"altair-viz-aa313d1d012f4e1998ebbc10fbe8de4a\"></div>\n",
       "<script type=\"text/javascript\">\n",
       "  (function(spec, embedOpt){\n",
       "    let outputDiv = document.currentScript.previousElementSibling;\n",
       "    if (outputDiv.id !== \"altair-viz-aa313d1d012f4e1998ebbc10fbe8de4a\") {\n",
       "      outputDiv = document.getElementById(\"altair-viz-aa313d1d012f4e1998ebbc10fbe8de4a\");\n",
       "    }\n",
       "    const paths = {\n",
       "      \"vega\": \"https://cdn.jsdelivr.net/npm//vega@5?noext\",\n",
       "      \"vega-lib\": \"https://cdn.jsdelivr.net/npm//vega-lib?noext\",\n",
       "      \"vega-lite\": \"https://cdn.jsdelivr.net/npm//vega-lite@4.8.1?noext\",\n",
       "      \"vega-embed\": \"https://cdn.jsdelivr.net/npm//vega-embed@6?noext\",\n",
       "    };\n",
       "\n",
       "    function loadScript(lib) {\n",
       "      return new Promise(function(resolve, reject) {\n",
       "        var s = document.createElement('script');\n",
       "        s.src = paths[lib];\n",
       "        s.async = true;\n",
       "        s.onload = () => resolve(paths[lib]);\n",
       "        s.onerror = () => reject(`Error loading script: ${paths[lib]}`);\n",
       "        document.getElementsByTagName(\"head\")[0].appendChild(s);\n",
       "      });\n",
       "    }\n",
       "\n",
       "    function showError(err) {\n",
       "      outputDiv.innerHTML = `<div class=\"error\" style=\"color:red;\">${err}</div>`;\n",
       "      throw err;\n",
       "    }\n",
       "\n",
       "    function displayChart(vegaEmbed) {\n",
       "      vegaEmbed(outputDiv, spec, embedOpt)\n",
       "        .catch(err => showError(`Javascript Error: ${err.message}<br>This usually means there's a typo in your chart specification. See the javascript console for the full traceback.`));\n",
       "    }\n",
       "\n",
       "    if(typeof define === \"function\" && define.amd) {\n",
       "      requirejs.config({paths});\n",
       "      require([\"vega-embed\"], displayChart, err => showError(`Error loading script: ${err.message}`));\n",
       "    } else if (typeof vegaEmbed === \"function\") {\n",
       "      displayChart(vegaEmbed);\n",
       "    } else {\n",
       "      loadScript(\"vega\")\n",
       "        .then(() => loadScript(\"vega-lite\"))\n",
       "        .then(() => loadScript(\"vega-embed\"))\n",
       "        .catch(showError)\n",
       "        .then(() => displayChart(vegaEmbed));\n",
       "    }\n",
       "  })({\"config\": {\"view\": {\"continuousWidth\": 400, \"continuousHeight\": 300}}, \"vconcat\": [{\"layer\": [{\"layer\": [{\"mark\": {\"type\": \"bar\", \"color\": \"#ffd445\"}, \"encoding\": {\"x\": {\"type\": \"temporal\", \"axis\": {\"labelOverlap\": \"greedy\", \"labelSeparation\": 6}, \"bin\": {\"extent\": {\"selection\": \"selector004\"}, \"maxbins\": 100}, \"field\": \"date\", \"scale\": {\"domain\": {\"selection\": \"selector004\"}}, \"timeUnit\": \"yearmonthdate\"}, \"y\": {\"type\": \"quantitative\", \"field\": \"count\", \"title\": \"Volume\"}}, \"title\": {\"text\": \"Volume vs Bitcoin price\"}}, {\"mark\": {\"type\": \"line\", \"color\": \"#f58518\"}, \"encoding\": {\"x\": {\"type\": \"temporal\", \"axis\": {\"labelOverlap\": \"greedy\", \"labelSeparation\": 6}, \"bin\": {\"extent\": {\"selection\": \"selector004\"}, \"maxbins\": 100}, \"field\": \"date\", \"scale\": {\"domain\": {\"selection\": \"selector004\"}}, \"timeUnit\": \"yearmonthdate\"}, \"y\": {\"type\": \"quantitative\", \"field\": \"count\", \"title\": \"Volume\"}}, \"title\": {\"text\": \"Volume vs Bitcoin price\"}, \"transform\": [{\"on\": \"date\", \"regression\": \"count\", \"method\": \"poly\", \"order\": 9}]}, {\"data\": {\"url\": \"altair-data-1782410ecdf80db03ef9fe8f78aecaac.json\", \"format\": {\"type\": \"json\"}}, \"mark\": {\"type\": \"line\", \"color\": \"grey\"}, \"encoding\": {\"x\": {\"type\": \"temporal\", \"field\": \"date\", \"timeUnit\": \"yearmonthdate\"}, \"y\": {\"type\": \"quantitative\", \"field\": \"count\"}}}], \"data\": {\"url\": \"altair-data-8dcbd5efe94756631081024256a98d4e.json\", \"format\": {\"type\": \"json\"}}}, {\"layer\": [{\"mark\": {\"type\": \"line\", \"color\": \"#4c78a8\"}, \"encoding\": {\"x\": {\"type\": \"temporal\", \"field\": \"date\", \"scale\": {\"domain\": {\"selection\": \"selector004\"}}, \"timeUnit\": \"yearmonthdate\", \"title\": null}, \"y\": {\"type\": \"quantitative\", \"field\": \"mid_price\", \"title\": \"Mid price\"}}}, {\"mark\": {\"type\": \"line\", \"color\": \"blue\"}, \"encoding\": {\"x\": {\"type\": \"temporal\", \"field\": \"date\", \"scale\": {\"domain\": {\"selection\": \"selector004\"}}, \"timeUnit\": \"yearmonthdate\", \"title\": null}, \"y\": {\"type\": \"quantitative\", \"field\": \"mid_price\", \"title\": \"Mid price\"}}, \"transform\": [{\"on\": \"date\", \"regression\": \"mid_price\", \"method\": \"poly\", \"order\": 9}]}], \"data\": {\"url\": \"altair-data-90589f8307fa632c7c6b7aa4f16ef768.json\", \"format\": {\"type\": \"json\"}}}], \"resolve\": {\"scale\": {\"y\": \"independent\"}}}, {\"data\": {\"url\": \"altair-data-8dcbd5efe94756631081024256a98d4e.json\", \"format\": {\"type\": \"json\"}}, \"mark\": {\"type\": \"bar\", \"color\": \"#ffd445\"}, \"encoding\": {\"x\": {\"type\": \"temporal\", \"axis\": {\"labelOverlap\": \"greedy\", \"labelSeparation\": 6}, \"bin\": {\"maxbins\": 100}, \"field\": \"date\", \"timeUnit\": \"yearmonthdate\", \"title\": \"Date\"}, \"y\": {\"type\": \"quantitative\", \"field\": \"count\", \"title\": null}}, \"height\": 50, \"selection\": {\"selector004\": {\"type\": \"interval\", \"encodings\": [\"x\"]}}}], \"$schema\": \"https://vega.github.io/schema/vega-lite/v4.8.1.json\"}, {\"mode\": \"vega-lite\"});\n",
       "</script>"
      ],
      "text/plain": [
       "alt.VConcatChart(...)"
      ]
     },
     "execution_count": 53,
     "metadata": {},
     "output_type": "execute_result"
    }
   ],
   "source": [
    "time_selector = alt.selection(type='interval', encodings=['x'])\n",
    "\n",
    "dummy_df = pd.DataFrame({'date': [min(daily_df['date']), max(daily_df['date'])], 'count': [0, 0]})\n",
    "zero_line = alt.Chart(dummy_df).mark_line(color='grey').encode(x=alt.X('yearmonthdate(date):T'), y=alt.Y('count'))\n",
    "\n",
    "price = alt.Chart(market_df).mark_line(color=palette['price']).encode(\n",
    "    x=alt.X('yearmonthdate(date):T',\n",
    "           scale=alt.Scale(domain=time_selector),\n",
    "           title=None),\n",
    "    y=alt.Y('mid_price', title='Mid price')\n",
    ")\n",
    "        \n",
    "plot_title = alt.TitleParams('Volume vs Bitcoin price')\n",
    "\n",
    "histogram = alt.Chart(daily_df, title=plot_title).mark_bar(color=palette['neutral_1']).encode(alt.X('yearmonthdate(date):T',\n",
    "                                                       bin=alt.Bin(maxbins=100, extent=time_selector),\n",
    "                                                       scale=alt.Scale(domain=time_selector),\n",
    "                                                       axis=alt.Axis(labelOverlap='greedy', labelSeparation=6)),\n",
    "                                                 alt.Y('count',\n",
    "                                                      title='Volume'))\n",
    "\n",
    "histogram_reg = histogram.transform_regression('date', 'count', method='poly', order=9).mark_line(color=palette['strong_neutral_1'])\n",
    "\n",
    "volume_chart = histogram + histogram_reg + zero_line\n",
    "\n",
    "price_reg = price.transform_regression('date', 'mid_price', method='poly', order=9).mark_line(color=palette['strong_price'])\n",
    "\n",
    "\n",
    "price_chart = price + price_reg\n",
    "\n",
    "selection_plot = alt.Chart(daily_df).mark_bar(color=palette['neutral_1']).encode(alt.X('yearmonthdate(date):T',\n",
    "                                                       bin=alt.Bin(maxbins=100),\n",
    "                                                            title='Date',\n",
    "                                                            axis=alt.Axis(labelOverlap='greedy', labelSeparation=6)),\n",
    "                                                       alt.Y('count', title=None)).add_selection(time_selector).properties(height=50)\n",
    "\n",
    "alt.layer(volume_chart, price_chart).resolve_scale(y='independent') & selection_plot"
   ]
  },
  {
   "cell_type": "markdown",
   "id": "sufficient-walker",
   "metadata": {},
   "source": [
    "Trend lines make it easier to see that a correlation exists, but the time series are not synchronized."
   ]
  },
  {
   "cell_type": "markdown",
   "id": "broadband-story",
   "metadata": {},
   "source": [
    "#### Correlation"
   ]
  },
  {
   "cell_type": "markdown",
   "id": "streaming-disclaimer",
   "metadata": {},
   "source": [
    "##### TLCC"
   ]
  },
  {
   "cell_type": "code",
   "execution_count": 54,
   "id": "inner-bullet",
   "metadata": {},
   "outputs": [
    {
     "data": {
      "text/html": [
       "\n",
       "<div id=\"altair-viz-0b0937b0ac6842f5ae0419a4ec3d16fe\"></div>\n",
       "<script type=\"text/javascript\">\n",
       "  (function(spec, embedOpt){\n",
       "    let outputDiv = document.currentScript.previousElementSibling;\n",
       "    if (outputDiv.id !== \"altair-viz-0b0937b0ac6842f5ae0419a4ec3d16fe\") {\n",
       "      outputDiv = document.getElementById(\"altair-viz-0b0937b0ac6842f5ae0419a4ec3d16fe\");\n",
       "    }\n",
       "    const paths = {\n",
       "      \"vega\": \"https://cdn.jsdelivr.net/npm//vega@5?noext\",\n",
       "      \"vega-lib\": \"https://cdn.jsdelivr.net/npm//vega-lib?noext\",\n",
       "      \"vega-lite\": \"https://cdn.jsdelivr.net/npm//vega-lite@4.8.1?noext\",\n",
       "      \"vega-embed\": \"https://cdn.jsdelivr.net/npm//vega-embed@6?noext\",\n",
       "    };\n",
       "\n",
       "    function loadScript(lib) {\n",
       "      return new Promise(function(resolve, reject) {\n",
       "        var s = document.createElement('script');\n",
       "        s.src = paths[lib];\n",
       "        s.async = true;\n",
       "        s.onload = () => resolve(paths[lib]);\n",
       "        s.onerror = () => reject(`Error loading script: ${paths[lib]}`);\n",
       "        document.getElementsByTagName(\"head\")[0].appendChild(s);\n",
       "      });\n",
       "    }\n",
       "\n",
       "    function showError(err) {\n",
       "      outputDiv.innerHTML = `<div class=\"error\" style=\"color:red;\">${err}</div>`;\n",
       "      throw err;\n",
       "    }\n",
       "\n",
       "    function displayChart(vegaEmbed) {\n",
       "      vegaEmbed(outputDiv, spec, embedOpt)\n",
       "        .catch(err => showError(`Javascript Error: ${err.message}<br>This usually means there's a typo in your chart specification. See the javascript console for the full traceback.`));\n",
       "    }\n",
       "\n",
       "    if(typeof define === \"function\" && define.amd) {\n",
       "      requirejs.config({paths});\n",
       "      require([\"vega-embed\"], displayChart, err => showError(`Error loading script: ${err.message}`));\n",
       "    } else if (typeof vegaEmbed === \"function\") {\n",
       "      displayChart(vegaEmbed);\n",
       "    } else {\n",
       "      loadScript(\"vega\")\n",
       "        .then(() => loadScript(\"vega-lite\"))\n",
       "        .then(() => loadScript(\"vega-embed\"))\n",
       "        .catch(showError)\n",
       "        .then(() => displayChart(vegaEmbed));\n",
       "    }\n",
       "  })({\"config\": {\"view\": {\"continuousWidth\": 400, \"continuousHeight\": 300}}, \"data\": {\"url\": \"altair-data-4676333191b5fdce330ffe6ac4106fb2.json\", \"format\": {\"type\": \"json\"}}, \"mark\": \"line\", \"encoding\": {\"color\": {\"type\": \"nominal\", \"field\": \"method\", \"title\": \"Method\"}, \"x\": {\"type\": \"quantitative\", \"field\": \"offset\", \"title\": \"Offset days\"}, \"y\": {\"type\": \"quantitative\", \"field\": \"correlation\", \"title\": \"Correlation\"}}, \"title\": {\"text\": \"Correlations\", \"subtitle\": [\"Max correlation (0.825) with an offset of -6 days\", \"Min correlation (0.608) with an offset of 150 days\"]}, \"$schema\": \"https://vega.github.io/schema/vega-lite/v4.8.1.json\"}, {\"mode\": \"vega-lite\"});\n",
       "</script>"
      ],
      "text/plain": [
       "alt.Chart(...)"
      ]
     },
     "execution_count": 54,
     "metadata": {},
     "output_type": "execute_result"
    }
   ],
   "source": [
    "methods = ['pearson', 'kendall', 'spearman']\n",
    "offsets = list(range(-150, 151)) # list of days offset to test\n",
    "\n",
    "correlations = []\n",
    "\n",
    "volume_vs_price = pd.DataFrame(daily_df['date'], columns=['date'])\n",
    "volume_vs_price['volume'] = daily_df['count']\n",
    "volume_vs_price = volume_vs_price.merge(market_df[['date', 'mid_price']], on='date')\n",
    "\n",
    "for method in methods:\n",
    "    method_correlations = [(method, offset, volume_vs_price['volume'].corr(sent_vs_price['mid_price'].shift(-offset), method=method))\n",
    "                           for offset in offsets]\n",
    "    correlations.extend(method_correlations)\n",
    "        \n",
    "correlations_df = pd.DataFrame(correlations, columns=['method', 'offset', 'correlation'])\n",
    "\n",
    "spearman_correlations = correlations_df[correlations_df['method'] == 'spearman']\n",
    "\n",
    "max_corr = max(spearman_correlations['correlation'])\n",
    "max_corr_offset = spearman_correlations[spearman_correlations['correlation'] == max_corr]['offset'].iloc[0]\n",
    "\n",
    "min_corr = min(spearman_correlations['correlation'])\n",
    "min_corr_offset = spearman_correlations[spearman_correlations['correlation'] == min_corr]['offset'].iloc[0]\n",
    "\n",
    "max_corr_text = f'Max correlation ({round(max_corr, 3)}) with an offset of {max_corr_offset} days'\n",
    "min_corr_text = f'Min correlation ({round(min_corr, 3)}) with an offset of {min_corr_offset} days'\n",
    "\n",
    "plot_title = alt.TitleParams('Correlations', subtitle=[max_corr_text, min_corr_text])\n",
    "corr_chart = alt.Chart(correlations_df, title=plot_title).mark_line().encode(alt.X('offset', title='Offset days'),\n",
    "                                                          alt.Y('correlation', title='Correlation'),\n",
    "                                                          alt.Color('method', title='Method'))\n",
    "\n",
    "corr_chart"
   ]
  },
  {
   "cell_type": "markdown",
   "id": "danish-civilization",
   "metadata": {},
   "source": [
    "As for sentiment, Pearson correlation is not applicable, but this time its trend is more similar to the other two indices than before.\n",
    "\n",
    "An interesting thing is that the max correlation is slightly lower than max sentiment correlation, but this time with an offset of only 6 days in the past, volume more significant than sentiment?"
   ]
  },
  {
   "cell_type": "markdown",
   "id": "specified-costa",
   "metadata": {},
   "source": [
    "#### WLTCC"
   ]
  },
  {
   "cell_type": "code",
   "execution_count": 55,
   "id": "photographic-consultancy",
   "metadata": {},
   "outputs": [
    {
     "data": {
      "text/html": [
       "\n",
       "<div id=\"altair-viz-5c497c5961a147ef927da231555ae4c4\"></div>\n",
       "<script type=\"text/javascript\">\n",
       "  (function(spec, embedOpt){\n",
       "    let outputDiv = document.currentScript.previousElementSibling;\n",
       "    if (outputDiv.id !== \"altair-viz-5c497c5961a147ef927da231555ae4c4\") {\n",
       "      outputDiv = document.getElementById(\"altair-viz-5c497c5961a147ef927da231555ae4c4\");\n",
       "    }\n",
       "    const paths = {\n",
       "      \"vega\": \"https://cdn.jsdelivr.net/npm//vega@5?noext\",\n",
       "      \"vega-lib\": \"https://cdn.jsdelivr.net/npm//vega-lib?noext\",\n",
       "      \"vega-lite\": \"https://cdn.jsdelivr.net/npm//vega-lite@4.8.1?noext\",\n",
       "      \"vega-embed\": \"https://cdn.jsdelivr.net/npm//vega-embed@6?noext\",\n",
       "    };\n",
       "\n",
       "    function loadScript(lib) {\n",
       "      return new Promise(function(resolve, reject) {\n",
       "        var s = document.createElement('script');\n",
       "        s.src = paths[lib];\n",
       "        s.async = true;\n",
       "        s.onload = () => resolve(paths[lib]);\n",
       "        s.onerror = () => reject(`Error loading script: ${paths[lib]}`);\n",
       "        document.getElementsByTagName(\"head\")[0].appendChild(s);\n",
       "      });\n",
       "    }\n",
       "\n",
       "    function showError(err) {\n",
       "      outputDiv.innerHTML = `<div class=\"error\" style=\"color:red;\">${err}</div>`;\n",
       "      throw err;\n",
       "    }\n",
       "\n",
       "    function displayChart(vegaEmbed) {\n",
       "      vegaEmbed(outputDiv, spec, embedOpt)\n",
       "        .catch(err => showError(`Javascript Error: ${err.message}<br>This usually means there's a typo in your chart specification. See the javascript console for the full traceback.`));\n",
       "    }\n",
       "\n",
       "    if(typeof define === \"function\" && define.amd) {\n",
       "      requirejs.config({paths});\n",
       "      require([\"vega-embed\"], displayChart, err => showError(`Error loading script: ${err.message}`));\n",
       "    } else if (typeof vegaEmbed === \"function\") {\n",
       "      displayChart(vegaEmbed);\n",
       "    } else {\n",
       "      loadScript(\"vega\")\n",
       "        .then(() => loadScript(\"vega-lite\"))\n",
       "        .then(() => loadScript(\"vega-embed\"))\n",
       "        .catch(showError)\n",
       "        .then(() => displayChart(vegaEmbed));\n",
       "    }\n",
       "  })({\"config\": {\"view\": {\"continuousWidth\": 400, \"continuousHeight\": 300}}, \"data\": {\"url\": \"altair-data-e2b5198365a82f0951eedcc8dfc16aa2.json\", \"format\": {\"type\": \"json\"}}, \"mark\": \"rect\", \"encoding\": {\"color\": {\"type\": \"quantitative\", \"field\": \"correlation\", \"scale\": {\"domain\": [-1, 1], \"range\": [\"#e45756\", \"#54a24b\"]}, \"title\": \"Correlation\"}, \"x\": {\"type\": \"ordinal\", \"field\": \"window\", \"title\": \"Window\"}, \"y\": {\"type\": \"ordinal\", \"field\": \"offset\", \"title\": \"Offset days\"}}, \"height\": 800, \"title\": {\"text\": \"Quarter lagged correlation volume/price\", \"subtitle\": \"-1:= price as master, 1:= sentiment as master\"}, \"width\": 800, \"$schema\": \"https://vega.github.io/schema/vega-lite/v4.8.1.json\"}, {\"mode\": \"vega-lite\"});\n",
       "</script>"
      ],
      "text/plain": [
       "alt.Chart(...)"
      ]
     },
     "execution_count": 55,
     "metadata": {},
     "output_type": "execute_result"
    }
   ],
   "source": [
    "from math import ceil\n",
    "\n",
    "def get_window(series: pd.Series, window) -> pd.Series:\n",
    "    return series.iloc[window[0]: window[1]]\n",
    "    \n",
    "\n",
    "def windowed_corr(first: pd.Series, second: pd.Series) -> list:\n",
    "    windows = [(window * window_size, (window * window_size)+window_size) for window in range(ceil(len(second)/window_size))]\n",
    "    windows_corr = [get_window(first, window).corr(get_window(second, window), method = 'spearman') for window in windows]\n",
    "    return windows_corr, windows\n",
    "\n",
    "offsets = list(range(-66, 67)) # reduced offsets for better visualization\n",
    "window_size = 120 # one window = one quarter\n",
    "\n",
    "windowed_correlations = []\n",
    "\n",
    "for offset in offsets:\n",
    "    windows_corr, windows = windowed_corr(volume_vs_price['volume'], volume_vs_price['mid_price'].shift(-offset))\n",
    "    for window, window_corr in enumerate(windows_corr):\n",
    "        windowed_correlations.append((window, window_corr, offset))\n",
    "    \n",
    "    \n",
    "windowed_correlations_df = pd.DataFrame(windowed_correlations, columns=['window', 'correlation', 'offset'])\n",
    "\n",
    "\n",
    "plot_title = alt.TitleParams('Quarter lagged correlation volume/price', subtitle='-1:= price as master, 1:= sentiment as master')\n",
    "color = alt.Color('correlation', scale=alt.Scale(domain=[-1, 1], range=[palette['negative'], palette['positive']]), title='Correlation')\n",
    "alt.Chart(windowed_correlations_df, height=800, width=800, title=plot_title).mark_rect().encode(alt.X('window:O', title='Window'), alt.Y('offset:O', title='Offset days'), color)\n"
   ]
  },
  {
   "cell_type": "markdown",
   "id": "lesser-microphone",
   "metadata": {},
   "source": [
    "It's simple to note that the right half of the heatmap is more or less green, this corresponds to the time range where the data crawling is better.\n",
    "\n",
    "In addition, if we look in the near future (positive offsets) the average correlation is not so bad compared to the maximum correlation."
   ]
  },
  {
   "cell_type": "markdown",
   "id": "perfect-heavy",
   "metadata": {},
   "source": [
    "### Users analysis"
   ]
  },
  {
   "cell_type": "markdown",
   "id": "controlled-leave",
   "metadata": {},
   "source": [
    "Could be interesting to analyze users' metrics, in fact such metrics could be very useful for deeper analysis (weighted tweets and so on)"
   ]
  },
  {
   "cell_type": "code",
   "execution_count": 25,
   "id": "hawaiian-miller",
   "metadata": {},
   "outputs": [],
   "source": [
    "top_tweeters_csv = base_path + 'top_tweeters.csv'\n",
    "top_retweeted_csv = base_path + 'top_retweeted.csv'\n",
    "words_avg_csv = base_path + 'words_avg.csv'\n",
    "\n",
    "top_tweeters = pd.read_csv(top_tweeters_csv).iloc[1:] # First element groups users without username\n",
    "top_retweeted = pd.read_csv(top_retweeted_csv).iloc[1:] # First element groups users without username\n",
    "words_avg = pd.read_csv(words_avg_csv)"
   ]
  },
  {
   "cell_type": "markdown",
   "id": "induced-panel",
   "metadata": {},
   "source": [
    "#### Teweets"
   ]
  },
  {
   "cell_type": "code",
   "execution_count": 26,
   "id": "forbidden-reserve",
   "metadata": {},
   "outputs": [],
   "source": [
    "top_tweeters = pd.DataFrame(top_tweeters['tweets'], columns=['tweets'])\n",
    "top_tweeters['outliers'] = top_tweeters['tweets']\n",
    "top_tweeters['no outliers'] = top_tweeters['tweets']\n",
    "top_tweeters = top_tweeters[['outliers', 'no outliers']]\n",
    "\n",
    "top_tweeters_long = top_tweeters.melt(value_name='tweets', var_name='viz')"
   ]
  },
  {
   "cell_type": "code",
   "execution_count": 27,
   "id": "unable-crisis",
   "metadata": {},
   "outputs": [
    {
     "data": {
      "text/html": [
       "\n",
       "<div id=\"altair-viz-3e01a57eb55c43bc95f8bf8b831c619c\"></div>\n",
       "<script type=\"text/javascript\">\n",
       "  (function(spec, embedOpt){\n",
       "    let outputDiv = document.currentScript.previousElementSibling;\n",
       "    if (outputDiv.id !== \"altair-viz-3e01a57eb55c43bc95f8bf8b831c619c\") {\n",
       "      outputDiv = document.getElementById(\"altair-viz-3e01a57eb55c43bc95f8bf8b831c619c\");\n",
       "    }\n",
       "    const paths = {\n",
       "      \"vega\": \"https://cdn.jsdelivr.net/npm//vega@5?noext\",\n",
       "      \"vega-lib\": \"https://cdn.jsdelivr.net/npm//vega-lib?noext\",\n",
       "      \"vega-lite\": \"https://cdn.jsdelivr.net/npm//vega-lite@4.8.1?noext\",\n",
       "      \"vega-embed\": \"https://cdn.jsdelivr.net/npm//vega-embed@6?noext\",\n",
       "    };\n",
       "\n",
       "    function loadScript(lib) {\n",
       "      return new Promise(function(resolve, reject) {\n",
       "        var s = document.createElement('script');\n",
       "        s.src = paths[lib];\n",
       "        s.async = true;\n",
       "        s.onload = () => resolve(paths[lib]);\n",
       "        s.onerror = () => reject(`Error loading script: ${paths[lib]}`);\n",
       "        document.getElementsByTagName(\"head\")[0].appendChild(s);\n",
       "      });\n",
       "    }\n",
       "\n",
       "    function showError(err) {\n",
       "      outputDiv.innerHTML = `<div class=\"error\" style=\"color:red;\">${err}</div>`;\n",
       "      throw err;\n",
       "    }\n",
       "\n",
       "    function displayChart(vegaEmbed) {\n",
       "      vegaEmbed(outputDiv, spec, embedOpt)\n",
       "        .catch(err => showError(`Javascript Error: ${err.message}<br>This usually means there's a typo in your chart specification. See the javascript console for the full traceback.`));\n",
       "    }\n",
       "\n",
       "    if(typeof define === \"function\" && define.amd) {\n",
       "      requirejs.config({paths});\n",
       "      require([\"vega-embed\"], displayChart, err => showError(`Error loading script: ${err.message}`));\n",
       "    } else if (typeof vegaEmbed === \"function\") {\n",
       "      displayChart(vegaEmbed);\n",
       "    } else {\n",
       "      loadScript(\"vega\")\n",
       "        .then(() => loadScript(\"vega-lite\"))\n",
       "        .then(() => loadScript(\"vega-embed\"))\n",
       "        .catch(showError)\n",
       "        .then(() => displayChart(vegaEmbed));\n",
       "    }\n",
       "  })({\"config\": {\"view\": {\"continuousWidth\": 400, \"continuousHeight\": 300}}, \"data\": {\"url\": \"altair-data-bd738ae7b3f306e66932194d0f0b4a90.json\", \"format\": {\"type\": \"json\"}}, \"mark\": {\"type\": \"boxplot\", \"median\": true, \"outliers\": false, \"size\": 10}, \"encoding\": {\"x\": {\"type\": \"quantitative\", \"field\": \"tweets\"}, \"y\": {\"type\": \"nominal\", \"axis\": null, \"field\": \"viz\"}}, \"height\": 300, \"title\": \"Tweets per user\", \"width\": 500, \"$schema\": \"https://vega.github.io/schema/vega-lite/v4.8.1.json\"}, {\"mode\": \"vega-lite\"});\n",
       "</script>"
      ],
      "text/plain": [
       "alt.Chart(...)"
      ]
     },
     "execution_count": 27,
     "metadata": {},
     "output_type": "execute_result"
    }
   ],
   "source": [
    "alt.Chart(top_tweeters_long[top_tweeters_long['viz'] == 'no outliers'], title='Tweets per user').mark_boxplot(size=10, outliers=False, median=True).encode(alt.X('tweets:Q', title=None), \n",
    "alt.Y('viz:N', axis=None)).properties(width=500, height=300)"
   ]
  },
  {
   "cell_type": "code",
   "execution_count": 28,
   "id": "completed-committee",
   "metadata": {},
   "outputs": [
    {
     "data": {
      "text/html": [
       "\n",
       "<div id=\"altair-viz-3e01329483cc4c68b067e3e28d6b4dce\"></div>\n",
       "<script type=\"text/javascript\">\n",
       "  (function(spec, embedOpt){\n",
       "    let outputDiv = document.currentScript.previousElementSibling;\n",
       "    if (outputDiv.id !== \"altair-viz-3e01329483cc4c68b067e3e28d6b4dce\") {\n",
       "      outputDiv = document.getElementById(\"altair-viz-3e01329483cc4c68b067e3e28d6b4dce\");\n",
       "    }\n",
       "    const paths = {\n",
       "      \"vega\": \"https://cdn.jsdelivr.net/npm//vega@5?noext\",\n",
       "      \"vega-lib\": \"https://cdn.jsdelivr.net/npm//vega-lib?noext\",\n",
       "      \"vega-lite\": \"https://cdn.jsdelivr.net/npm//vega-lite@4.8.1?noext\",\n",
       "      \"vega-embed\": \"https://cdn.jsdelivr.net/npm//vega-embed@6?noext\",\n",
       "    };\n",
       "\n",
       "    function loadScript(lib) {\n",
       "      return new Promise(function(resolve, reject) {\n",
       "        var s = document.createElement('script');\n",
       "        s.src = paths[lib];\n",
       "        s.async = true;\n",
       "        s.onload = () => resolve(paths[lib]);\n",
       "        s.onerror = () => reject(`Error loading script: ${paths[lib]}`);\n",
       "        document.getElementsByTagName(\"head\")[0].appendChild(s);\n",
       "      });\n",
       "    }\n",
       "\n",
       "    function showError(err) {\n",
       "      outputDiv.innerHTML = `<div class=\"error\" style=\"color:red;\">${err}</div>`;\n",
       "      throw err;\n",
       "    }\n",
       "\n",
       "    function displayChart(vegaEmbed) {\n",
       "      vegaEmbed(outputDiv, spec, embedOpt)\n",
       "        .catch(err => showError(`Javascript Error: ${err.message}<br>This usually means there's a typo in your chart specification. See the javascript console for the full traceback.`));\n",
       "    }\n",
       "\n",
       "    if(typeof define === \"function\" && define.amd) {\n",
       "      requirejs.config({paths});\n",
       "      require([\"vega-embed\"], displayChart, err => showError(`Error loading script: ${err.message}`));\n",
       "    } else if (typeof vegaEmbed === \"function\") {\n",
       "      displayChart(vegaEmbed);\n",
       "    } else {\n",
       "      loadScript(\"vega\")\n",
       "        .then(() => loadScript(\"vega-lite\"))\n",
       "        .then(() => loadScript(\"vega-embed\"))\n",
       "        .catch(showError)\n",
       "        .then(() => displayChart(vegaEmbed));\n",
       "    }\n",
       "  })({\"config\": {\"view\": {\"continuousWidth\": 400, \"continuousHeight\": 300}}, \"layer\": [{\"data\": {\"url\": \"altair-data-bd738ae7b3f306e66932194d0f0b4a90.json\", \"format\": {\"type\": \"json\"}}, \"mark\": {\"type\": \"boxplot\", \"median\": true, \"outliers\": false, \"size\": 10}, \"encoding\": {\"x\": {\"type\": \"quantitative\", \"field\": \"tweets\"}, \"y\": {\"type\": \"nominal\", \"field\": \"viz\"}}, \"height\": 300, \"title\": \"Tweets per user\", \"width\": 500}, {\"data\": {\"url\": \"altair-data-faef3aa0ac878e8c28ee8e7360b7a08b.json\", \"format\": {\"type\": \"json\"}}, \"mark\": {\"type\": \"boxplot\", \"median\": true, \"outliers\": true, \"size\": 10}, \"encoding\": {\"x\": {\"type\": \"quantitative\", \"field\": \"tweets\"}, \"y\": {\"type\": \"nominal\", \"field\": \"viz\"}}, \"height\": 300, \"title\": \"Tweets per user\", \"width\": 500}], \"$schema\": \"https://vega.github.io/schema/vega-lite/v4.8.1.json\"}, {\"mode\": \"vega-lite\"});\n",
       "</script>"
      ],
      "text/plain": [
       "alt.LayerChart(...)"
      ]
     },
     "execution_count": 28,
     "metadata": {},
     "output_type": "execute_result"
    }
   ],
   "source": [
    "alt.Chart(top_tweeters_long[top_tweeters_long['viz'] == 'no outliers'], title='Tweets per user').mark_boxplot(size=10, outliers=False, median=True).encode(alt.X('tweets:Q', title=None), alt.Y('viz:N', title=None)).properties(width=500, height=300) + \\\n",
    "alt.Chart(top_tweeters_long[top_tweeters_long['viz'] == 'outliers'], title='Tweets per user').mark_boxplot(size=10, outliers=True, median=True).encode(alt.X('tweets:Q', title=None), alt.Y('viz:N', title=None)).properties(width=500, height=300)"
   ]
  },
  {
   "cell_type": "markdown",
   "id": "assigned-negotiation",
   "metadata": {},
   "source": [
    "As can be seen, there are some outliers that are very far from the median, this indicates the presence of spammers or bots (thousands of tweets for a single human user, are impossible). \n",
    "An upgrade to data processing could be recognizing outliers to remove them."
   ]
  },
  {
   "cell_type": "markdown",
   "id": "criminal-renewal",
   "metadata": {},
   "source": [
    "#### Retweets"
   ]
  },
  {
   "cell_type": "code",
   "execution_count": 29,
   "id": "through-diploma",
   "metadata": {},
   "outputs": [],
   "source": [
    "top_retweeted = pd.DataFrame(top_retweeted['retweets'], columns=['retweets'])\n",
    "top_retweeted['outliers'] = top_retweeted['retweets']\n",
    "top_retweeted['no outliers'] = top_retweeted['retweets']\n",
    "top_retweeted = top_retweeted[['outliers', 'no outliers']]\n",
    "\n",
    "top_retweeted_long = top_retweeted.melt(value_name='retweets', var_name='viz')"
   ]
  },
  {
   "cell_type": "code",
   "execution_count": 30,
   "id": "expired-tracy",
   "metadata": {},
   "outputs": [
    {
     "data": {
      "text/html": [
       "\n",
       "<div id=\"altair-viz-4eb7103515fe48b983059e72fe2e1c5a\"></div>\n",
       "<script type=\"text/javascript\">\n",
       "  (function(spec, embedOpt){\n",
       "    let outputDiv = document.currentScript.previousElementSibling;\n",
       "    if (outputDiv.id !== \"altair-viz-4eb7103515fe48b983059e72fe2e1c5a\") {\n",
       "      outputDiv = document.getElementById(\"altair-viz-4eb7103515fe48b983059e72fe2e1c5a\");\n",
       "    }\n",
       "    const paths = {\n",
       "      \"vega\": \"https://cdn.jsdelivr.net/npm//vega@5?noext\",\n",
       "      \"vega-lib\": \"https://cdn.jsdelivr.net/npm//vega-lib?noext\",\n",
       "      \"vega-lite\": \"https://cdn.jsdelivr.net/npm//vega-lite@4.8.1?noext\",\n",
       "      \"vega-embed\": \"https://cdn.jsdelivr.net/npm//vega-embed@6?noext\",\n",
       "    };\n",
       "\n",
       "    function loadScript(lib) {\n",
       "      return new Promise(function(resolve, reject) {\n",
       "        var s = document.createElement('script');\n",
       "        s.src = paths[lib];\n",
       "        s.async = true;\n",
       "        s.onload = () => resolve(paths[lib]);\n",
       "        s.onerror = () => reject(`Error loading script: ${paths[lib]}`);\n",
       "        document.getElementsByTagName(\"head\")[0].appendChild(s);\n",
       "      });\n",
       "    }\n",
       "\n",
       "    function showError(err) {\n",
       "      outputDiv.innerHTML = `<div class=\"error\" style=\"color:red;\">${err}</div>`;\n",
       "      throw err;\n",
       "    }\n",
       "\n",
       "    function displayChart(vegaEmbed) {\n",
       "      vegaEmbed(outputDiv, spec, embedOpt)\n",
       "        .catch(err => showError(`Javascript Error: ${err.message}<br>This usually means there's a typo in your chart specification. See the javascript console for the full traceback.`));\n",
       "    }\n",
       "\n",
       "    if(typeof define === \"function\" && define.amd) {\n",
       "      requirejs.config({paths});\n",
       "      require([\"vega-embed\"], displayChart, err => showError(`Error loading script: ${err.message}`));\n",
       "    } else if (typeof vegaEmbed === \"function\") {\n",
       "      displayChart(vegaEmbed);\n",
       "    } else {\n",
       "      loadScript(\"vega\")\n",
       "        .then(() => loadScript(\"vega-lite\"))\n",
       "        .then(() => loadScript(\"vega-embed\"))\n",
       "        .catch(showError)\n",
       "        .then(() => displayChart(vegaEmbed));\n",
       "    }\n",
       "  })({\"config\": {\"view\": {\"continuousWidth\": 400, \"continuousHeight\": 300}}, \"layer\": [{\"data\": {\"url\": \"altair-data-59d4739adbffaf11f37e51c7608268b3.json\", \"format\": {\"type\": \"json\"}}, \"mark\": {\"type\": \"boxplot\", \"median\": true, \"outliers\": false, \"size\": 10}, \"encoding\": {\"x\": {\"type\": \"quantitative\", \"field\": \"retweets\"}, \"y\": {\"type\": \"nominal\", \"field\": \"viz\"}}, \"height\": 300, \"title\": \"Average retweets per user\", \"width\": 500}, {\"data\": {\"url\": \"altair-data-a85f2c00adea9809e646562eece649c9.json\", \"format\": {\"type\": \"json\"}}, \"mark\": {\"type\": \"boxplot\", \"median\": true, \"outliers\": true, \"size\": 10}, \"encoding\": {\"x\": {\"type\": \"quantitative\", \"field\": \"retweets\"}, \"y\": {\"type\": \"nominal\", \"field\": \"viz\"}}, \"height\": 300, \"title\": \"Average retweets per user\", \"width\": 500}], \"$schema\": \"https://vega.github.io/schema/vega-lite/v4.8.1.json\"}, {\"mode\": \"vega-lite\"});\n",
       "</script>"
      ],
      "text/plain": [
       "alt.LayerChart(...)"
      ]
     },
     "execution_count": 30,
     "metadata": {},
     "output_type": "execute_result"
    }
   ],
   "source": [
    "alt.Chart(top_retweeted_long[top_tweeters_long['viz'] == 'no outliers'], title='Average retweets per user').mark_boxplot(size=10, outliers=False, median=True).encode(alt.X('retweets:Q', title=None), alt.Y('viz:N', title=None)).properties(width=500, height=300) + \\\n",
    "alt.Chart(top_retweeted_long[top_tweeters_long['viz'] == 'outliers'], title='Average retweets per user').mark_boxplot(size=10, outliers=True, median=True).encode(alt.X('retweets:Q', title=None), alt.Y('viz:N', title=None)).properties(width=500, height=300)"
   ]
  },
  {
   "cell_type": "markdown",
   "id": "necessary-bathroom",
   "metadata": {},
   "source": [
    "How many each user has been retweeted is much different than how many tweets he posted. Having outliers, in this case, is part of the reality: some users are not so followed and their tweets have no retweets, others (speaking about Bitcoin, Elon Musk for example) are what's called a \"VIP\".\n",
    "\n",
    "This aspect is very interesting because could open another set of possible analysis; for example: removing \"Normal people\" from the dataset, how much change the correlation with the price?"
   ]
  },
  {
   "cell_type": "markdown",
   "id": "injured-asian",
   "metadata": {},
   "source": [
    "#### Tweets average length\n",
    "\n",
    "For simplicity, here the \"length of a tweet\" will be the number of words, this also reflects the intent of analyzing this aspect: Find a way to evaluate the relevance of a tweet"
   ]
  },
  {
   "cell_type": "code",
   "execution_count": null,
   "id": "unauthorized-folks",
   "metadata": {},
   "outputs": [],
   "source": [
    "words_avg = pd.DataFrame(words_avg['words_avg'], columns=['words_avg'])\n",
    "words_avg['words_avg'] = words_avg['words_avg'].apply(lambda x: int(x))\n",
    "words_avg['outliers'] = words_avg['words_avg']\n",
    "words_avg['no outliers'] = words_avg['words_avg']\n",
    "words_avg = words_avg[['outliers', 'no outliers']]\n",
    "\n",
    "words_avg_long = words_avg.melt(value_name='words_avg', var_name='viz')"
   ]
  },
  {
   "cell_type": "code",
   "execution_count": 37,
   "id": "essential-january",
   "metadata": {},
   "outputs": [
    {
     "data": {
      "text/html": [
       "\n",
       "<div id=\"altair-viz-d6f9e8c8bdba4affa5812bd2111c8c38\"></div>\n",
       "<script type=\"text/javascript\">\n",
       "  (function(spec, embedOpt){\n",
       "    let outputDiv = document.currentScript.previousElementSibling;\n",
       "    if (outputDiv.id !== \"altair-viz-d6f9e8c8bdba4affa5812bd2111c8c38\") {\n",
       "      outputDiv = document.getElementById(\"altair-viz-d6f9e8c8bdba4affa5812bd2111c8c38\");\n",
       "    }\n",
       "    const paths = {\n",
       "      \"vega\": \"https://cdn.jsdelivr.net/npm//vega@5?noext\",\n",
       "      \"vega-lib\": \"https://cdn.jsdelivr.net/npm//vega-lib?noext\",\n",
       "      \"vega-lite\": \"https://cdn.jsdelivr.net/npm//vega-lite@4.8.1?noext\",\n",
       "      \"vega-embed\": \"https://cdn.jsdelivr.net/npm//vega-embed@6?noext\",\n",
       "    };\n",
       "\n",
       "    function loadScript(lib) {\n",
       "      return new Promise(function(resolve, reject) {\n",
       "        var s = document.createElement('script');\n",
       "        s.src = paths[lib];\n",
       "        s.async = true;\n",
       "        s.onload = () => resolve(paths[lib]);\n",
       "        s.onerror = () => reject(`Error loading script: ${paths[lib]}`);\n",
       "        document.getElementsByTagName(\"head\")[0].appendChild(s);\n",
       "      });\n",
       "    }\n",
       "\n",
       "    function showError(err) {\n",
       "      outputDiv.innerHTML = `<div class=\"error\" style=\"color:red;\">${err}</div>`;\n",
       "      throw err;\n",
       "    }\n",
       "\n",
       "    function displayChart(vegaEmbed) {\n",
       "      vegaEmbed(outputDiv, spec, embedOpt)\n",
       "        .catch(err => showError(`Javascript Error: ${err.message}<br>This usually means there's a typo in your chart specification. See the javascript console for the full traceback.`));\n",
       "    }\n",
       "\n",
       "    if(typeof define === \"function\" && define.amd) {\n",
       "      requirejs.config({paths});\n",
       "      require([\"vega-embed\"], displayChart, err => showError(`Error loading script: ${err.message}`));\n",
       "    } else if (typeof vegaEmbed === \"function\") {\n",
       "      displayChart(vegaEmbed);\n",
       "    } else {\n",
       "      loadScript(\"vega\")\n",
       "        .then(() => loadScript(\"vega-lite\"))\n",
       "        .then(() => loadScript(\"vega-embed\"))\n",
       "        .catch(showError)\n",
       "        .then(() => displayChart(vegaEmbed));\n",
       "    }\n",
       "  })({\"config\": {\"view\": {\"continuousWidth\": 400, \"continuousHeight\": 300}}, \"data\": {\"url\": \"altair-data-f70c5ac0d7d13c6fe059baba9fcc5213.json\", \"format\": {\"type\": \"json\"}}, \"mark\": {\"type\": \"boxplot\", \"median\": true, \"outliers\": false, \"size\": 10}, \"encoding\": {\"x\": {\"type\": \"quantitative\", \"field\": \"words_avg\"}, \"y\": {\"type\": \"nominal\", \"field\": \"viz\"}}, \"height\": 300, \"title\": \"Average post length per user\", \"width\": 500, \"$schema\": \"https://vega.github.io/schema/vega-lite/v4.8.1.json\"}, {\"mode\": \"vega-lite\"});\n",
       "</script>"
      ],
      "text/plain": [
       "alt.Chart(...)"
      ]
     },
     "execution_count": 37,
     "metadata": {},
     "output_type": "execute_result"
    }
   ],
   "source": [
    "alt.Chart(words_avg_long[words_avg_long['viz'] == 'no outliers'], title='Average post length per user').mark_boxplot(size=10, outliers=False, median=True, color=palette['twitter']).encode(alt.X('words_avg:Q', title=None), alt.Y('viz:N', title=None)).properties(width=500, height=300)"
   ]
  },
  {
   "cell_type": "code",
   "execution_count": 58,
   "id": "strategic-girlfriend",
   "metadata": {},
   "outputs": [
    {
     "data": {
      "text/html": [
       "\n",
       "<div id=\"altair-viz-95cdb3a5317944018cc0d1c36c8d8279\"></div>\n",
       "<script type=\"text/javascript\">\n",
       "  (function(spec, embedOpt){\n",
       "    let outputDiv = document.currentScript.previousElementSibling;\n",
       "    if (outputDiv.id !== \"altair-viz-95cdb3a5317944018cc0d1c36c8d8279\") {\n",
       "      outputDiv = document.getElementById(\"altair-viz-95cdb3a5317944018cc0d1c36c8d8279\");\n",
       "    }\n",
       "    const paths = {\n",
       "      \"vega\": \"https://cdn.jsdelivr.net/npm//vega@5?noext\",\n",
       "      \"vega-lib\": \"https://cdn.jsdelivr.net/npm//vega-lib?noext\",\n",
       "      \"vega-lite\": \"https://cdn.jsdelivr.net/npm//vega-lite@4.8.1?noext\",\n",
       "      \"vega-embed\": \"https://cdn.jsdelivr.net/npm//vega-embed@6?noext\",\n",
       "    };\n",
       "\n",
       "    function loadScript(lib) {\n",
       "      return new Promise(function(resolve, reject) {\n",
       "        var s = document.createElement('script');\n",
       "        s.src = paths[lib];\n",
       "        s.async = true;\n",
       "        s.onload = () => resolve(paths[lib]);\n",
       "        s.onerror = () => reject(`Error loading script: ${paths[lib]}`);\n",
       "        document.getElementsByTagName(\"head\")[0].appendChild(s);\n",
       "      });\n",
       "    }\n",
       "\n",
       "    function showError(err) {\n",
       "      outputDiv.innerHTML = `<div class=\"error\" style=\"color:red;\">${err}</div>`;\n",
       "      throw err;\n",
       "    }\n",
       "\n",
       "    function displayChart(vegaEmbed) {\n",
       "      vegaEmbed(outputDiv, spec, embedOpt)\n",
       "        .catch(err => showError(`Javascript Error: ${err.message}<br>This usually means there's a typo in your chart specification. See the javascript console for the full traceback.`));\n",
       "    }\n",
       "\n",
       "    if(typeof define === \"function\" && define.amd) {\n",
       "      requirejs.config({paths});\n",
       "      require([\"vega-embed\"], displayChart, err => showError(`Error loading script: ${err.message}`));\n",
       "    } else if (typeof vegaEmbed === \"function\") {\n",
       "      displayChart(vegaEmbed);\n",
       "    } else {\n",
       "      loadScript(\"vega\")\n",
       "        .then(() => loadScript(\"vega-lite\"))\n",
       "        .then(() => loadScript(\"vega-embed\"))\n",
       "        .catch(showError)\n",
       "        .then(() => displayChart(vegaEmbed));\n",
       "    }\n",
       "  })({\"config\": {\"view\": {\"continuousWidth\": 400, \"continuousHeight\": 300}}, \"layer\": [{\"data\": {\"url\": \"altair-data-f70c5ac0d7d13c6fe059baba9fcc5213.json\", \"format\": {\"type\": \"json\"}}, \"mark\": {\"type\": \"boxplot\", \"color\": \"#F28482\", \"median\": true, \"outliers\": false, \"size\": 10}, \"encoding\": {\"x\": {\"type\": \"quantitative\", \"field\": \"words_avg\", \"title\": null}, \"y\": {\"type\": \"nominal\", \"field\": \"viz\", \"title\": null}}, \"height\": 300, \"title\": \"Average post length per user\", \"width\": 500}, {\"data\": {\"url\": \"altair-data-0b3dd15c222890f91b80da4b825d2a75.json\", \"format\": {\"type\": \"json\"}}, \"mark\": {\"type\": \"boxplot\", \"color\": \"#F28482\", \"median\": true, \"outliers\": true, \"size\": 10}, \"encoding\": {\"x\": {\"type\": \"quantitative\", \"field\": \"words_avg\", \"title\": null}, \"y\": {\"type\": \"nominal\", \"field\": \"viz\", \"title\": null}}, \"height\": 300, \"title\": \"Average post length per user\", \"width\": 500}], \"$schema\": \"https://vega.github.io/schema/vega-lite/v4.8.1.json\"}, {\"mode\": \"vega-lite\"});\n",
       "</script>"
      ],
      "text/plain": [
       "alt.LayerChart(...)"
      ]
     },
     "execution_count": 58,
     "metadata": {},
     "output_type": "execute_result"
    }
   ],
   "source": [
    "alt.Chart(words_avg_long[words_avg_long['viz'] == 'no outliers'], title='Average post length per user').mark_boxplot(size=10, outliers=False, median=True, color=palette['twitter']).encode(alt.X('words_avg:Q', title=None), alt.Y('viz:N', title=None)).properties(width=500, height=300) + \\\n",
    "alt.Chart(words_avg_long[words_avg_long['viz'] == 'outliers'], title='Average post length per user').mark_boxplot(size=10, outliers=True, median=True, color=palette['twitter']).encode(alt.X('words_avg:Q', title=None), alt.Y('viz:N', title=None)).properties(width=500, height=300)"
   ]
  },
  {
   "cell_type": "markdown",
   "id": "brave-series",
   "metadata": {},
   "source": [
    "There are clearly outliers that are very far from the median, but in this case, the most important thing is IRQ; Q1 is 5 and Q3 is 15, this means that most of the tweets in the dataset have a number of words compatible with a sentence with meaning, therefore the number of bots is, probably, low."
   ]
  },
  {
   "cell_type": "markdown",
   "id": "irish-deployment",
   "metadata": {},
   "source": [
    "#### Users' metrics mixed up"
   ]
  },
  {
   "cell_type": "code",
   "execution_count": 39,
   "id": "acute-headline",
   "metadata": {},
   "outputs": [],
   "source": [
    "top_tweeters = pd.read_csv(top_tweeters_csv).iloc[1:]\n",
    "top_retweeted = pd.read_csv(top_retweeted_csv).iloc[1:]\n",
    "words_avg = pd.read_csv(words_avg_csv)\n",
    "\n",
    "users_summary = top_tweeters.copy()\n",
    "users_summary = users_summary.merge(top_retweeted, on=['username', 'full_name'])\n",
    "users_summary = users_summary.merge(words_avg, on=['username', 'full_name'])\n",
    "\n",
    "users_summary\n",
    "\n",
    "words_q3 = users_summary['words_avg'].quantile(q=0.75)\n",
    "\n",
    "users_summary_filtered = users_summary[users_summary['words_avg'] <= words_q3*1.5]"
   ]
  },
  {
   "cell_type": "code",
   "execution_count": 57,
   "id": "continuing-strand",
   "metadata": {},
   "outputs": [
    {
     "data": {
      "text/html": [
       "\n",
       "<div id=\"altair-viz-532f8001bc3f40d3b3092252f5152cd5\"></div>\n",
       "<script type=\"text/javascript\">\n",
       "  (function(spec, embedOpt){\n",
       "    let outputDiv = document.currentScript.previousElementSibling;\n",
       "    if (outputDiv.id !== \"altair-viz-532f8001bc3f40d3b3092252f5152cd5\") {\n",
       "      outputDiv = document.getElementById(\"altair-viz-532f8001bc3f40d3b3092252f5152cd5\");\n",
       "    }\n",
       "    const paths = {\n",
       "      \"vega\": \"https://cdn.jsdelivr.net/npm//vega@5?noext\",\n",
       "      \"vega-lib\": \"https://cdn.jsdelivr.net/npm//vega-lib?noext\",\n",
       "      \"vega-lite\": \"https://cdn.jsdelivr.net/npm//vega-lite@4.8.1?noext\",\n",
       "      \"vega-embed\": \"https://cdn.jsdelivr.net/npm//vega-embed@6?noext\",\n",
       "    };\n",
       "\n",
       "    function loadScript(lib) {\n",
       "      return new Promise(function(resolve, reject) {\n",
       "        var s = document.createElement('script');\n",
       "        s.src = paths[lib];\n",
       "        s.async = true;\n",
       "        s.onload = () => resolve(paths[lib]);\n",
       "        s.onerror = () => reject(`Error loading script: ${paths[lib]}`);\n",
       "        document.getElementsByTagName(\"head\")[0].appendChild(s);\n",
       "      });\n",
       "    }\n",
       "\n",
       "    function showError(err) {\n",
       "      outputDiv.innerHTML = `<div class=\"error\" style=\"color:red;\">${err}</div>`;\n",
       "      throw err;\n",
       "    }\n",
       "\n",
       "    function displayChart(vegaEmbed) {\n",
       "      vegaEmbed(outputDiv, spec, embedOpt)\n",
       "        .catch(err => showError(`Javascript Error: ${err.message}<br>This usually means there's a typo in your chart specification. See the javascript console for the full traceback.`));\n",
       "    }\n",
       "\n",
       "    if(typeof define === \"function\" && define.amd) {\n",
       "      requirejs.config({paths});\n",
       "      require([\"vega-embed\"], displayChart, err => showError(`Error loading script: ${err.message}`));\n",
       "    } else if (typeof vegaEmbed === \"function\") {\n",
       "      displayChart(vegaEmbed);\n",
       "    } else {\n",
       "      loadScript(\"vega\")\n",
       "        .then(() => loadScript(\"vega-lite\"))\n",
       "        .then(() => loadScript(\"vega-embed\"))\n",
       "        .catch(showError)\n",
       "        .then(() => displayChart(vegaEmbed));\n",
       "    }\n",
       "  })({\"config\": {\"view\": {\"continuousWidth\": 400, \"continuousHeight\": 300}, \"point\": {\"size\": 10}}, \"data\": {\"url\": \"altair-data-0da270da3f70ea889e0785d445c23677.json\", \"format\": {\"type\": \"json\"}}, \"mark\": {\"type\": \"point\", \"clip\": true}, \"encoding\": {\"color\": {\"type\": \"quantitative\", \"field\": \"words_avg\", \"scale\": {\"domain\": [1, 22.79699248120301], \"range\": [\"#e45756\", \"#54a24b\"]}, \"title\": \"Words avg\"}, \"x\": {\"type\": \"quantitative\", \"field\": \"tweets\", \"scale\": {\"domain\": [0, 5000]}, \"title\": \"Tweets\"}, \"y\": {\"type\": \"quantitative\", \"field\": \"retweets\", \"scale\": {\"domain\": [0, 16000]}, \"title\": \"Retweets\"}}, \"height\": 750, \"title\": {\"text\": \"Zoomed users' metrics\", \"subtitle\": [\"Re-adjusted words_avg color range\"]}, \"width\": 750, \"$schema\": \"https://vega.github.io/schema/vega-lite/v4.8.1.json\"}, {\"mode\": \"vega-lite\"});\n",
       "</script>"
      ],
      "text/plain": [
       "alt.Chart(...)"
      ]
     },
     "execution_count": 57,
     "metadata": {},
     "output_type": "execute_result"
    }
   ],
   "source": [
    "domain = [1, max(users_summary_filtered['words_avg'])]\n",
    "range_ = [palette['negative'], palette['positive']]\n",
    "\n",
    "\n",
    "plot_title = alt.TitleParams(\"Zoomed users' metrics\", subtitle=[\"Re-adjusted words_avg color range\"])\n",
    "alt.Chart(users_summary_filtered, title=plot_title).mark_point(clip=True).encode(alt.X('tweets', scale=alt.Scale(domain=(0, 5000)), title='Tweets'), alt.Y('retweets', scale=alt.Scale(domain=(0, 16000)), title='Retweets'), alt.Color('words_avg', scale=alt.Scale(domain=domain, range=range_), title='Words avg')).properties(height=750, width=750).configure_point(size=10)"
   ]
  },
  {
   "cell_type": "markdown",
   "id": "legislative-cassette",
   "metadata": {},
   "source": [
    "It's not possible to identify groups of users with similar metrics, but the above chart is a visualization of the population in the dataset: Most of the users are \"normal people\", but a portion of them have a good number of retweets and a good average tweets length.\n",
    "\n",
    "Another expansion of this analysis could be a process where each user has a rank based on its metrics; based on that rank, a dedicated service \"monitors\" the users with a higher rank. This because, probably (but it's only a hypothesis), a user with a higher rank has a higher impact on the price."
   ]
  }
 ],
 "metadata": {
  "kernelspec": {
   "display_name": "Python 3",
   "language": "python",
   "name": "python3"
  },
  "language_info": {
   "codemirror_mode": {
    "name": "ipython",
    "version": 3
   },
   "file_extension": ".py",
   "mimetype": "text/x-python",
   "name": "python",
   "nbconvert_exporter": "python",
   "pygments_lexer": "ipython3",
   "version": "3.8.6"
  }
 },
 "nbformat": 4,
 "nbformat_minor": 5
}
