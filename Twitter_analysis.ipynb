{
 "cells": [
  {
   "cell_type": "markdown",
   "id": "addressed-marble",
   "metadata": {},
   "source": [
    "# Twitter analysis"
   ]
  },
  {
   "cell_type": "markdown",
   "id": "bulgarian-witness",
   "metadata": {},
   "source": [
    "### Notebook description\n",
    "\n",
    "This notebook aims to analyze the correlation between tweets and Bitcoin price over years."
   ]
  },
  {
   "cell_type": "markdown",
   "id": "appreciated-accreditation",
   "metadata": {},
   "source": [
    "### Data overview\n",
    "\n",
    "The dataset used in the notebook's charts is the result of a merge of numerous public datasets, those datasets' sources are listed in the README file.\n",
    "\n",
    "The origin of the dataset brings some problems, such as inconstancy of data per day, missing values. Some of the tweets' sentiments were already classified, but due to lack of classification process description and to classification uniformity, each tweet has been re-classified using fast-classifier from Flair framework (read the README for details about the license)."
   ]
  },
  {
   "cell_type": "markdown",
   "id": "judicial-whale",
   "metadata": {},
   "source": [
    "## Basic Analysis"
   ]
  },
  {
   "cell_type": "markdown",
   "id": "unique-lancaster",
   "metadata": {},
   "source": [
    "To achieve uniformity between charts, a project-wise colors palette has been used"
   ]
  },
  {
   "cell_type": "code",
   "execution_count": 1,
   "id": "complex-victoria",
   "metadata": {},
   "outputs": [],
   "source": [
    "from palette import palette\n",
    "import ipywidgets as widgets\n",
    "from ipywidgets import interact, interact_manual, IntSlider\n",
    "\n",
    "base_path = './Datasets/'"
   ]
  },
  {
   "cell_type": "markdown",
   "id": "computational-alexandria",
   "metadata": {},
   "source": [
    "To easily handling the large amount of data (about 26M of tweets), tweets' info has been grouped by date (view <nome notebook> for grouping details)"
   ]
  },
  {
   "cell_type": "code",
   "execution_count": 2,
   "id": "conservative-coral",
   "metadata": {},
   "outputs": [],
   "source": [
    "daily_csv = base_path + 'twitter_daily_info.csv'"
   ]
  },
  {
   "cell_type": "code",
   "execution_count": 3,
   "id": "talented-celtic",
   "metadata": {},
   "outputs": [],
   "source": [
    "import pandas as pd\n",
    "\n",
    "raw_df = pd.read_csv(daily_csv).dropna()"
   ]
  },
  {
   "cell_type": "code",
   "execution_count": 4,
   "id": "floral-indicator",
   "metadata": {},
   "outputs": [],
   "source": [
    "def avg_sentiment(group) -> float:\n",
    "    total = sum(group['count'])\n",
    "    sentiment = sum(group['count'] * group['signed_score'])/total\n",
    "    return sentiment\n",
    "\n",
    "def score_to_label(score) -> str:\n",
    "    if score == 0:\n",
    "        return 'NEUTRAL'\n",
    "    return 'POSITIVE' if score > 0 else 'NEGATIVE'\n",
    "\n",
    "def normalize(value: float, range_min: float, range_max: float) -> float:\n",
    "    return (value-range_min)/(range_max-range_min)\n",
    "\n",
    "def normalize_series(series, series_min=None, series_max=None) -> pd.Series:\n",
    "    if series_min is None:\n",
    "        series_min = min(series)\n",
    "        \n",
    "    if series_max is None:\n",
    "        series_max = max(series)\n",
    "    return series.apply(lambda x: normalize(x, series_min, series_max))"
   ]
  },
  {
   "cell_type": "code",
   "execution_count": 5,
   "id": "retained-scholar",
   "metadata": {},
   "outputs": [],
   "source": [
    "raw_df['label'] = raw_df['label'].apply(lambda x: x.replace('\"', ''))\n",
    "raw_df['signed_score'] = raw_df['conf'] * raw_df['label'].apply(lambda x: 1 if x == 'POSITIVE' else -1)"
   ]
  },
  {
   "cell_type": "markdown",
   "id": "catholic-elements",
   "metadata": {},
   "source": [
    "Common dates range is calculated intersecting the market dataframe with Twitter one"
   ]
  },
  {
   "cell_type": "code",
   "execution_count": 6,
   "id": "prospective-classroom",
   "metadata": {},
   "outputs": [],
   "source": [
    "market_daily_csv = base_path + '/market_daily_info.csv'\n",
    "market_dates = pd.read_csv(market_daily_csv).dropna()['date']\n",
    "\n",
    "dates_min = max([min(market_dates), min(raw_df['date'])])\n",
    "dates_max = min([max(market_dates), max(raw_df['date'])])\n",
    "\n",
    "dates = pd.concat([market_dates, raw_df['date']])\n",
    "    \n",
    "dates = dates.drop_duplicates().sort_values()\n",
    "dates = dates[(dates_min <= dates) & (dates <= dates_max)]"
   ]
  },
  {
   "cell_type": "code",
   "execution_count": 7,
   "id": "informal-bookmark",
   "metadata": {},
   "outputs": [],
   "source": [
    "raw_df = raw_df[(raw_df['date'] >= dates_min) & (raw_df['date'] <= dates_max)]"
   ]
  },
  {
   "cell_type": "code",
   "execution_count": 8,
   "id": "parental-relief",
   "metadata": {},
   "outputs": [],
   "source": [
    "date_grouped = raw_df.groupby('date')\n",
    "daily_df = pd.DataFrame(index=raw_df['date'].drop_duplicates())\n",
    "daily_df['sentiment'] = date_grouped.apply(avg_sentiment)\n",
    "daily_df['norm_sent'] = normalize_series(daily_df['sentiment'], -1, 1)\n",
    "daily_df['label'] = daily_df['sentiment'].apply(score_to_label)\n",
    "daily_df['count'] = date_grouped.apply(lambda x: sum(x['count']))\n",
    "daily_df['norm_count'] = normalize_series(daily_df['count'], 0)\n",
    "negatives = raw_df[raw_df['label'] == 'NEGATIVE'][['date', 'count']]\n",
    "negatives.columns= ['date', 'negatives']\n",
    "positives = raw_df[raw_df['label'] == 'POSITIVE'][['date', 'count']]\n",
    "positives.columns= ['date', 'positives']\n",
    "daily_df = daily_df.merge(negatives, on='date')\n",
    "daily_df = daily_df.merge(positives, on='date')\n",
    "daily_df = daily_df.drop_duplicates(subset=['date'])"
   ]
  },
  {
   "cell_type": "code",
   "execution_count": 9,
   "id": "expensive-thumbnail",
   "metadata": {},
   "outputs": [],
   "source": [
    "daily_df = daily_df[(daily_df['date'] >= dates_min) & (daily_df['date'] <= dates_max)]\n",
    "daily_df = daily_df[daily_df['count'] < 100000] # removing outliers\n",
    "daily_df['norm_sent'] = normalize_series(daily_df['sentiment'], -1, 1)"
   ]
  },
  {
   "cell_type": "markdown",
   "id": "ultimate-toilet",
   "metadata": {},
   "source": [
    "As for Twitter, the market infos are day grained"
   ]
  },
  {
   "cell_type": "code",
   "execution_count": 10,
   "id": "attempted-array",
   "metadata": {},
   "outputs": [],
   "source": [
    "market_daily_csv = base_path+ 'market_daily_info.csv'\n",
    "market_raw_df = pd.read_csv(market_daily_csv)\n",
    "market_raw_df = market_raw_df.dropna()\n",
    "market_df = pd.DataFrame(dates, columns=['date'])\n",
    "market_df = market_df.merge(market_raw_df, on='date')\n",
    "market_df['mid_price'] = (market_df['high'] + market_df['low'])/2\n",
    "market_df['norm_mid_price'] = normalize_series(market_df['mid_price'])\n",
    "market_df = market_df[(dates_min <= market_df['date']) & (market_df['date']<= dates_max)]"
   ]
  },
  {
   "cell_type": "code",
   "execution_count": 11,
   "id": "affected-federal",
   "metadata": {},
   "outputs": [
    {
     "data": {
      "text/plain": [
       "DataTransformerRegistry.enable('json')"
      ]
     },
     "execution_count": 11,
     "metadata": {},
     "output_type": "execute_result"
    }
   ],
   "source": [
    "import altair as alt\n",
    "\n",
    "alt.data_transformers.enable('json')"
   ]
  },
  {
   "cell_type": "markdown",
   "id": "oriental-window",
   "metadata": {},
   "source": [
    "### Weekly volume"
   ]
  },
  {
   "cell_type": "code",
   "execution_count": 12,
   "id": "fifteen-gross",
   "metadata": {},
   "outputs": [
    {
     "data": {
      "text/html": [
       "\n",
       "<div id=\"altair-viz-0f7cf4dc1809495ba5d614b0c191d6da\"></div>\n",
       "<script type=\"text/javascript\">\n",
       "  (function(spec, embedOpt){\n",
       "    let outputDiv = document.currentScript.previousElementSibling;\n",
       "    if (outputDiv.id !== \"altair-viz-0f7cf4dc1809495ba5d614b0c191d6da\") {\n",
       "      outputDiv = document.getElementById(\"altair-viz-0f7cf4dc1809495ba5d614b0c191d6da\");\n",
       "    }\n",
       "    const paths = {\n",
       "      \"vega\": \"https://cdn.jsdelivr.net/npm//vega@5?noext\",\n",
       "      \"vega-lib\": \"https://cdn.jsdelivr.net/npm//vega-lib?noext\",\n",
       "      \"vega-lite\": \"https://cdn.jsdelivr.net/npm//vega-lite@4.8.1?noext\",\n",
       "      \"vega-embed\": \"https://cdn.jsdelivr.net/npm//vega-embed@6?noext\",\n",
       "    };\n",
       "\n",
       "    function loadScript(lib) {\n",
       "      return new Promise(function(resolve, reject) {\n",
       "        var s = document.createElement('script');\n",
       "        s.src = paths[lib];\n",
       "        s.async = true;\n",
       "        s.onload = () => resolve(paths[lib]);\n",
       "        s.onerror = () => reject(`Error loading script: ${paths[lib]}`);\n",
       "        document.getElementsByTagName(\"head\")[0].appendChild(s);\n",
       "      });\n",
       "    }\n",
       "\n",
       "    function showError(err) {\n",
       "      outputDiv.innerHTML = `<div class=\"error\" style=\"color:red;\">${err}</div>`;\n",
       "      throw err;\n",
       "    }\n",
       "\n",
       "    function displayChart(vegaEmbed) {\n",
       "      vegaEmbed(outputDiv, spec, embedOpt)\n",
       "        .catch(err => showError(`Javascript Error: ${err.message}<br>This usually means there's a typo in your chart specification. See the javascript console for the full traceback.`));\n",
       "    }\n",
       "\n",
       "    if(typeof define === \"function\" && define.amd) {\n",
       "      requirejs.config({paths});\n",
       "      require([\"vega-embed\"], displayChart, err => showError(`Error loading script: ${err.message}`));\n",
       "    } else if (typeof vegaEmbed === \"function\") {\n",
       "      displayChart(vegaEmbed);\n",
       "    } else {\n",
       "      loadScript(\"vega\")\n",
       "        .then(() => loadScript(\"vega-lite\"))\n",
       "        .then(() => loadScript(\"vega-embed\"))\n",
       "        .catch(showError)\n",
       "        .then(() => displayChart(vegaEmbed));\n",
       "    }\n",
       "  })({\"config\": {\"view\": {\"continuousWidth\": 400, \"continuousHeight\": 300}}, \"data\": {\"url\": \"altair-data-4e8d42e3d498f02296f56d65d285dad8.json\", \"format\": {\"type\": \"json\"}}, \"mark\": \"area\", \"encoding\": {\"color\": {\"value\": \"#F28482\"}, \"x\": {\"type\": \"temporal\", \"field\": \"month\", \"timeUnit\": \"yearmonth\", \"title\": \"Date\"}, \"y\": {\"type\": \"quantitative\", \"field\": \"count\", \"title\": \"Volume\"}}, \"title\": \"Weekly volume\", \"$schema\": \"https://vega.github.io/schema/vega-lite/v4.8.1.json\"}, {\"mode\": \"vega-lite\"});\n",
       "</script>"
      ],
      "text/plain": [
       "alt.Chart(...)"
      ]
     },
     "execution_count": 12,
     "metadata": {},
     "output_type": "execute_result"
    }
   ],
   "source": [
    "daily_df['month'] = daily_df['date'].apply(lambda x: x[:-3])\n",
    "\n",
    "weekly_volume = daily_df[['month', 'count']].groupby(by='month', as_index=False).mean()\n",
    "\n",
    "volume_chart = alt.Chart(weekly_volume, title='Weekly volume').mark_area().encode(alt.X('yearmonth(month):T', title='Date'),\n",
    "                                                                                 alt.Y('count', title='Volume'),\n",
    "                                                                                 color=alt.value(palette['twitter']))\n",
    "\n",
    "volume_chart"
   ]
  },
  {
   "cell_type": "markdown",
   "id": "mighty-staff",
   "metadata": {},
   "source": [
    "As can be seen, the crawling rate is not constant over time, and this will create some issues during the following analysis."
   ]
  },
  {
   "cell_type": "markdown",
   "id": "gorgeous-withdrawal",
   "metadata": {},
   "source": [
    "### Basic data exploration"
   ]
  },
  {
   "cell_type": "markdown",
   "id": "marked-keeping",
   "metadata": {},
   "source": [
    "#### Sentiment"
   ]
  },
  {
   "cell_type": "code",
   "execution_count": 13,
   "id": "reverse-blanket",
   "metadata": {},
   "outputs": [
    {
     "data": {
      "text/html": [
       "\n",
       "<div id=\"altair-viz-a2e94daf44e543b486f44d7ad822c171\"></div>\n",
       "<script type=\"text/javascript\">\n",
       "  (function(spec, embedOpt){\n",
       "    let outputDiv = document.currentScript.previousElementSibling;\n",
       "    if (outputDiv.id !== \"altair-viz-a2e94daf44e543b486f44d7ad822c171\") {\n",
       "      outputDiv = document.getElementById(\"altair-viz-a2e94daf44e543b486f44d7ad822c171\");\n",
       "    }\n",
       "    const paths = {\n",
       "      \"vega\": \"https://cdn.jsdelivr.net/npm//vega@5?noext\",\n",
       "      \"vega-lib\": \"https://cdn.jsdelivr.net/npm//vega-lib?noext\",\n",
       "      \"vega-lite\": \"https://cdn.jsdelivr.net/npm//vega-lite@4.8.1?noext\",\n",
       "      \"vega-embed\": \"https://cdn.jsdelivr.net/npm//vega-embed@6?noext\",\n",
       "    };\n",
       "\n",
       "    function loadScript(lib) {\n",
       "      return new Promise(function(resolve, reject) {\n",
       "        var s = document.createElement('script');\n",
       "        s.src = paths[lib];\n",
       "        s.async = true;\n",
       "        s.onload = () => resolve(paths[lib]);\n",
       "        s.onerror = () => reject(`Error loading script: ${paths[lib]}`);\n",
       "        document.getElementsByTagName(\"head\")[0].appendChild(s);\n",
       "      });\n",
       "    }\n",
       "\n",
       "    function showError(err) {\n",
       "      outputDiv.innerHTML = `<div class=\"error\" style=\"color:red;\">${err}</div>`;\n",
       "      throw err;\n",
       "    }\n",
       "\n",
       "    function displayChart(vegaEmbed) {\n",
       "      vegaEmbed(outputDiv, spec, embedOpt)\n",
       "        .catch(err => showError(`Javascript Error: ${err.message}<br>This usually means there's a typo in your chart specification. See the javascript console for the full traceback.`));\n",
       "    }\n",
       "\n",
       "    if(typeof define === \"function\" && define.amd) {\n",
       "      requirejs.config({paths});\n",
       "      require([\"vega-embed\"], displayChart, err => showError(`Error loading script: ${err.message}`));\n",
       "    } else if (typeof vegaEmbed === \"function\") {\n",
       "      displayChart(vegaEmbed);\n",
       "    } else {\n",
       "      loadScript(\"vega\")\n",
       "        .then(() => loadScript(\"vega-lite\"))\n",
       "        .then(() => loadScript(\"vega-embed\"))\n",
       "        .catch(showError)\n",
       "        .then(() => displayChart(vegaEmbed));\n",
       "    }\n",
       "  })({\"config\": {\"view\": {\"continuousWidth\": 400, \"continuousHeight\": 300}}, \"data\": {\"url\": \"altair-data-6b2bd40a2d6180259495fcefe2deed93.json\", \"format\": {\"type\": \"json\"}}, \"mark\": \"boxplot\", \"encoding\": {\"color\": {\"value\": \"#F28482\"}, \"x\": {\"type\": \"quantitative\", \"field\": \"norm_sent\", \"title\": \"Normalized sentiment\"}}, \"height\": 200, \"title\": \"Sentiment dispersion\", \"$schema\": \"https://vega.github.io/schema/vega-lite/v4.8.1.json\"}, {\"mode\": \"vega-lite\"});\n",
       "</script>"
      ],
      "text/plain": [
       "alt.Chart(...)"
      ]
     },
     "execution_count": 13,
     "metadata": {},
     "output_type": "execute_result"
    }
   ],
   "source": [
    "sent_rounded = daily_df[['norm_sent']].copy()\n",
    "sent_rounded['norm_sent'] = sent_rounded['norm_sent'].apply(lambda x: round(x, 2))\n",
    "\n",
    "alt.Chart(sent_rounded, title='Sentiment dispersion').mark_boxplot().encode(alt.X('norm_sent', title='Normalized sentiment'), color=alt.value(palette['twitter'])).properties(height=200)"
   ]
  },
  {
   "cell_type": "markdown",
   "id": "popular-reset",
   "metadata": {},
   "source": [
    "Median is very low (0.2), this means that a large part of the tweets are very negative."
   ]
  },
  {
   "cell_type": "code",
   "execution_count": 14,
   "id": "indie-suite",
   "metadata": {},
   "outputs": [
    {
     "data": {
      "text/html": [
       "\n",
       "<div id=\"altair-viz-9b29638f610e422e9f170f2e7c50196f\"></div>\n",
       "<script type=\"text/javascript\">\n",
       "  (function(spec, embedOpt){\n",
       "    let outputDiv = document.currentScript.previousElementSibling;\n",
       "    if (outputDiv.id !== \"altair-viz-9b29638f610e422e9f170f2e7c50196f\") {\n",
       "      outputDiv = document.getElementById(\"altair-viz-9b29638f610e422e9f170f2e7c50196f\");\n",
       "    }\n",
       "    const paths = {\n",
       "      \"vega\": \"https://cdn.jsdelivr.net/npm//vega@5?noext\",\n",
       "      \"vega-lib\": \"https://cdn.jsdelivr.net/npm//vega-lib?noext\",\n",
       "      \"vega-lite\": \"https://cdn.jsdelivr.net/npm//vega-lite@4.8.1?noext\",\n",
       "      \"vega-embed\": \"https://cdn.jsdelivr.net/npm//vega-embed@6?noext\",\n",
       "    };\n",
       "\n",
       "    function loadScript(lib) {\n",
       "      return new Promise(function(resolve, reject) {\n",
       "        var s = document.createElement('script');\n",
       "        s.src = paths[lib];\n",
       "        s.async = true;\n",
       "        s.onload = () => resolve(paths[lib]);\n",
       "        s.onerror = () => reject(`Error loading script: ${paths[lib]}`);\n",
       "        document.getElementsByTagName(\"head\")[0].appendChild(s);\n",
       "      });\n",
       "    }\n",
       "\n",
       "    function showError(err) {\n",
       "      outputDiv.innerHTML = `<div class=\"error\" style=\"color:red;\">${err}</div>`;\n",
       "      throw err;\n",
       "    }\n",
       "\n",
       "    function displayChart(vegaEmbed) {\n",
       "      vegaEmbed(outputDiv, spec, embedOpt)\n",
       "        .catch(err => showError(`Javascript Error: ${err.message}<br>This usually means there's a typo in your chart specification. See the javascript console for the full traceback.`));\n",
       "    }\n",
       "\n",
       "    if(typeof define === \"function\" && define.amd) {\n",
       "      requirejs.config({paths});\n",
       "      require([\"vega-embed\"], displayChart, err => showError(`Error loading script: ${err.message}`));\n",
       "    } else if (typeof vegaEmbed === \"function\") {\n",
       "      displayChart(vegaEmbed);\n",
       "    } else {\n",
       "      loadScript(\"vega\")\n",
       "        .then(() => loadScript(\"vega-lite\"))\n",
       "        .then(() => loadScript(\"vega-embed\"))\n",
       "        .catch(showError)\n",
       "        .then(() => displayChart(vegaEmbed));\n",
       "    }\n",
       "  })({\"config\": {\"view\": {\"continuousWidth\": 400, \"continuousHeight\": 300}}, \"data\": {\"url\": \"altair-data-ea4f5fe5b6748b9d1369319885879a80.json\", \"format\": {\"type\": \"json\"}}, \"mark\": \"area\", \"encoding\": {\"color\": {\"value\": \"#F28482\"}, \"x\": {\"type\": \"quantitative\", \"field\": \"norm_sent\", \"title\": \"Normalized sentiment\"}, \"y\": {\"type\": \"quantitative\", \"field\": \"count\", \"title\": \"Count\"}}, \"title\": \"Sentiment distribution\", \"$schema\": \"https://vega.github.io/schema/vega-lite/v4.8.1.json\"}, {\"mode\": \"vega-lite\"});\n",
       "</script>"
      ],
      "text/plain": [
       "alt.Chart(...)"
      ]
     },
     "execution_count": 14,
     "metadata": {},
     "output_type": "execute_result"
    }
   ],
   "source": [
    "sent_dist = sent_rounded.groupby('norm_sent', as_index=False).size()\n",
    "sent_dist.columns = ['norm_sent', 'count']\n",
    "\n",
    "alt.Chart(sent_dist, title='Sentiment distribution').mark_area().encode(alt.X('norm_sent', title='Normalized sentiment'), alt.Y('count', title='Count'), color=alt.value(palette['twitter']))"
   ]
  },
  {
   "cell_type": "markdown",
   "id": "smart-flexibility",
   "metadata": {},
   "source": [
    "The sentiment distribution shows, again, that many of the tweets are very negative, a good part of them are near 0.5, which could for two reasons:\n",
    "- For the classification has been used the Flair fast-classifier\n",
    "- Tweets normally are not the state of the art of language, users use hashtags, acronyms, and stuffs like that."
   ]
  },
  {
   "cell_type": "markdown",
   "id": "killing-static",
   "metadata": {},
   "source": [
    "#### Volume"
   ]
  },
  {
   "cell_type": "code",
   "execution_count": 15,
   "id": "distinguished-realtor",
   "metadata": {},
   "outputs": [
    {
     "data": {
      "text/html": [
       "\n",
       "<div id=\"altair-viz-78e998f9ed774091bb42fe9223ce9aaa\"></div>\n",
       "<script type=\"text/javascript\">\n",
       "  (function(spec, embedOpt){\n",
       "    let outputDiv = document.currentScript.previousElementSibling;\n",
       "    if (outputDiv.id !== \"altair-viz-78e998f9ed774091bb42fe9223ce9aaa\") {\n",
       "      outputDiv = document.getElementById(\"altair-viz-78e998f9ed774091bb42fe9223ce9aaa\");\n",
       "    }\n",
       "    const paths = {\n",
       "      \"vega\": \"https://cdn.jsdelivr.net/npm//vega@5?noext\",\n",
       "      \"vega-lib\": \"https://cdn.jsdelivr.net/npm//vega-lib?noext\",\n",
       "      \"vega-lite\": \"https://cdn.jsdelivr.net/npm//vega-lite@4.8.1?noext\",\n",
       "      \"vega-embed\": \"https://cdn.jsdelivr.net/npm//vega-embed@6?noext\",\n",
       "    };\n",
       "\n",
       "    function loadScript(lib) {\n",
       "      return new Promise(function(resolve, reject) {\n",
       "        var s = document.createElement('script');\n",
       "        s.src = paths[lib];\n",
       "        s.async = true;\n",
       "        s.onload = () => resolve(paths[lib]);\n",
       "        s.onerror = () => reject(`Error loading script: ${paths[lib]}`);\n",
       "        document.getElementsByTagName(\"head\")[0].appendChild(s);\n",
       "      });\n",
       "    }\n",
       "\n",
       "    function showError(err) {\n",
       "      outputDiv.innerHTML = `<div class=\"error\" style=\"color:red;\">${err}</div>`;\n",
       "      throw err;\n",
       "    }\n",
       "\n",
       "    function displayChart(vegaEmbed) {\n",
       "      vegaEmbed(outputDiv, spec, embedOpt)\n",
       "        .catch(err => showError(`Javascript Error: ${err.message}<br>This usually means there's a typo in your chart specification. See the javascript console for the full traceback.`));\n",
       "    }\n",
       "\n",
       "    if(typeof define === \"function\" && define.amd) {\n",
       "      requirejs.config({paths});\n",
       "      require([\"vega-embed\"], displayChart, err => showError(`Error loading script: ${err.message}`));\n",
       "    } else if (typeof vegaEmbed === \"function\") {\n",
       "      displayChart(vegaEmbed);\n",
       "    } else {\n",
       "      loadScript(\"vega\")\n",
       "        .then(() => loadScript(\"vega-lite\"))\n",
       "        .then(() => loadScript(\"vega-embed\"))\n",
       "        .catch(showError)\n",
       "        .then(() => displayChart(vegaEmbed));\n",
       "    }\n",
       "  })({\"config\": {\"view\": {\"continuousWidth\": 400, \"continuousHeight\": 300}}, \"data\": {\"url\": \"altair-data-8dcbd5efe94756631081024256a98d4e.json\", \"format\": {\"type\": \"json\"}}, \"mark\": {\"type\": \"boxplot\", \"color\": \"#F28482\"}, \"encoding\": {\"x\": {\"type\": \"quantitative\", \"field\": \"count\", \"title\": null}}, \"height\": 200, \"title\": \"Volume dispersion\", \"$schema\": \"https://vega.github.io/schema/vega-lite/v4.8.1.json\"}, {\"mode\": \"vega-lite\"});\n",
       "</script>"
      ],
      "text/plain": [
       "alt.Chart(...)"
      ]
     },
     "execution_count": 15,
     "metadata": {},
     "output_type": "execute_result"
    }
   ],
   "source": [
    "alt.Chart(daily_df, title='Volume dispersion').mark_boxplot(color=palette['twitter']).encode(alt.X('count', title=None),).properties(height=200)"
   ]
  },
  {
   "cell_type": "markdown",
   "id": "correct-mobility",
   "metadata": {},
   "source": [
    "There are a large number of outliers, probably caused by spammers and bots; infact a good upgrade in the dataset cleaning process could be the remotion of duplicated tweets."
   ]
  },
  {
   "cell_type": "code",
   "execution_count": 16,
   "id": "polish-current",
   "metadata": {},
   "outputs": [
    {
     "data": {
      "text/html": [
       "\n",
       "<div id=\"altair-viz-93167458d3444707ae55ccd531a2fc0f\"></div>\n",
       "<script type=\"text/javascript\">\n",
       "  (function(spec, embedOpt){\n",
       "    let outputDiv = document.currentScript.previousElementSibling;\n",
       "    if (outputDiv.id !== \"altair-viz-93167458d3444707ae55ccd531a2fc0f\") {\n",
       "      outputDiv = document.getElementById(\"altair-viz-93167458d3444707ae55ccd531a2fc0f\");\n",
       "    }\n",
       "    const paths = {\n",
       "      \"vega\": \"https://cdn.jsdelivr.net/npm//vega@5?noext\",\n",
       "      \"vega-lib\": \"https://cdn.jsdelivr.net/npm//vega-lib?noext\",\n",
       "      \"vega-lite\": \"https://cdn.jsdelivr.net/npm//vega-lite@4.8.1?noext\",\n",
       "      \"vega-embed\": \"https://cdn.jsdelivr.net/npm//vega-embed@6?noext\",\n",
       "    };\n",
       "\n",
       "    function loadScript(lib) {\n",
       "      return new Promise(function(resolve, reject) {\n",
       "        var s = document.createElement('script');\n",
       "        s.src = paths[lib];\n",
       "        s.async = true;\n",
       "        s.onload = () => resolve(paths[lib]);\n",
       "        s.onerror = () => reject(`Error loading script: ${paths[lib]}`);\n",
       "        document.getElementsByTagName(\"head\")[0].appendChild(s);\n",
       "      });\n",
       "    }\n",
       "\n",
       "    function showError(err) {\n",
       "      outputDiv.innerHTML = `<div class=\"error\" style=\"color:red;\">${err}</div>`;\n",
       "      throw err;\n",
       "    }\n",
       "\n",
       "    function displayChart(vegaEmbed) {\n",
       "      vegaEmbed(outputDiv, spec, embedOpt)\n",
       "        .catch(err => showError(`Javascript Error: ${err.message}<br>This usually means there's a typo in your chart specification. See the javascript console for the full traceback.`));\n",
       "    }\n",
       "\n",
       "    if(typeof define === \"function\" && define.amd) {\n",
       "      requirejs.config({paths});\n",
       "      require([\"vega-embed\"], displayChart, err => showError(`Error loading script: ${err.message}`));\n",
       "    } else if (typeof vegaEmbed === \"function\") {\n",
       "      displayChart(vegaEmbed);\n",
       "    } else {\n",
       "      loadScript(\"vega\")\n",
       "        .then(() => loadScript(\"vega-lite\"))\n",
       "        .then(() => loadScript(\"vega-embed\"))\n",
       "        .catch(showError)\n",
       "        .then(() => displayChart(vegaEmbed));\n",
       "    }\n",
       "  })({\"config\": {\"view\": {\"continuousWidth\": 400, \"continuousHeight\": 300}}, \"data\": {\"url\": \"altair-data-a366849c5065d1901d84f538efbd7657.json\", \"format\": {\"type\": \"json\"}}, \"mark\": \"line\", \"encoding\": {\"color\": {\"value\": \"#F28482\"}, \"x\": {\"type\": \"quantitative\", \"field\": \"volume\", \"title\": null}, \"y\": {\"type\": \"quantitative\", \"field\": \"count\", \"title\": \"Count\"}}, \"title\": \"Volume distribution\", \"$schema\": \"https://vega.github.io/schema/vega-lite/v4.8.1.json\"}, {\"mode\": \"vega-lite\"});\n",
       "</script>"
      ],
      "text/plain": [
       "alt.Chart(...)"
      ]
     },
     "execution_count": 16,
     "metadata": {},
     "output_type": "execute_result"
    }
   ],
   "source": [
    "volumes = daily_df[['count']]\n",
    "\n",
    "volumes_dist = volumes.groupby('count', as_index=False).size()\n",
    "volumes_dist.columns = ['volume', 'count']\n",
    "\n",
    "alt.Chart(volumes_dist, title='Volume distribution').mark_line().encode(alt.X('volume', title=None), alt.Y('count', title='Count'), color=alt.value(palette['twitter']))"
   ]
  },
  {
   "cell_type": "code",
   "execution_count": 17,
   "id": "celtic-breakfast",
   "metadata": {},
   "outputs": [
    {
     "data": {
      "text/html": [
       "\n",
       "<div id=\"altair-viz-97e89076cc8a46cba994ad023d61c116\"></div>\n",
       "<script type=\"text/javascript\">\n",
       "  (function(spec, embedOpt){\n",
       "    let outputDiv = document.currentScript.previousElementSibling;\n",
       "    if (outputDiv.id !== \"altair-viz-97e89076cc8a46cba994ad023d61c116\") {\n",
       "      outputDiv = document.getElementById(\"altair-viz-97e89076cc8a46cba994ad023d61c116\");\n",
       "    }\n",
       "    const paths = {\n",
       "      \"vega\": \"https://cdn.jsdelivr.net/npm//vega@5?noext\",\n",
       "      \"vega-lib\": \"https://cdn.jsdelivr.net/npm//vega-lib?noext\",\n",
       "      \"vega-lite\": \"https://cdn.jsdelivr.net/npm//vega-lite@4.8.1?noext\",\n",
       "      \"vega-embed\": \"https://cdn.jsdelivr.net/npm//vega-embed@6?noext\",\n",
       "    };\n",
       "\n",
       "    function loadScript(lib) {\n",
       "      return new Promise(function(resolve, reject) {\n",
       "        var s = document.createElement('script');\n",
       "        s.src = paths[lib];\n",
       "        s.async = true;\n",
       "        s.onload = () => resolve(paths[lib]);\n",
       "        s.onerror = () => reject(`Error loading script: ${paths[lib]}`);\n",
       "        document.getElementsByTagName(\"head\")[0].appendChild(s);\n",
       "      });\n",
       "    }\n",
       "\n",
       "    function showError(err) {\n",
       "      outputDiv.innerHTML = `<div class=\"error\" style=\"color:red;\">${err}</div>`;\n",
       "      throw err;\n",
       "    }\n",
       "\n",
       "    function displayChart(vegaEmbed) {\n",
       "      vegaEmbed(outputDiv, spec, embedOpt)\n",
       "        .catch(err => showError(`Javascript Error: ${err.message}<br>This usually means there's a typo in your chart specification. See the javascript console for the full traceback.`));\n",
       "    }\n",
       "\n",
       "    if(typeof define === \"function\" && define.amd) {\n",
       "      requirejs.config({paths});\n",
       "      require([\"vega-embed\"], displayChart, err => showError(`Error loading script: ${err.message}`));\n",
       "    } else if (typeof vegaEmbed === \"function\") {\n",
       "      displayChart(vegaEmbed);\n",
       "    } else {\n",
       "      loadScript(\"vega\")\n",
       "        .then(() => loadScript(\"vega-lite\"))\n",
       "        .then(() => loadScript(\"vega-embed\"))\n",
       "        .catch(showError)\n",
       "        .then(() => displayChart(vegaEmbed));\n",
       "    }\n",
       "  })({\"config\": {\"view\": {\"continuousWidth\": 400, \"continuousHeight\": 300}}, \"data\": {\"url\": \"altair-data-ce5a896d705795d8e0e5c3f862ce4d66.json\", \"format\": {\"type\": \"json\"}}, \"mark\": \"line\", \"encoding\": {\"color\": {\"value\": \"#F28482\"}, \"x\": {\"type\": \"quantitative\", \"field\": \"volume\", \"title\": null}, \"y\": {\"type\": \"quantitative\", \"field\": \"count\", \"title\": \"Count\"}}, \"title\": {\"text\": \"Clipped volume distribution\", \"subtitle\": [\"Clipped to q3\"]}, \"$schema\": \"https://vega.github.io/schema/vega-lite/v4.8.1.json\"}, {\"mode\": \"vega-lite\"});\n",
       "</script>"
      ],
      "text/plain": [
       "alt.Chart(...)"
      ]
     },
     "execution_count": 17,
     "metadata": {},
     "output_type": "execute_result"
    }
   ],
   "source": [
    "volumes = daily_df[daily_df['count'] <= 12255][['count']]\n",
    "\n",
    "volumes_dist = volumes.groupby('count', as_index=False).size()\n",
    "volumes_dist.columns = ['volume', 'count']\n",
    "\n",
    "plot_title = alt.TitleParams('Clipped volume distribution', subtitle=['Clipped to q3'])\n",
    "alt.Chart(volumes_dist, title=plot_title).mark_line().encode(alt.X('volume', title=None), alt.Y('count', title='Count'), color=alt.value(palette['twitter'])) "
   ]
  },
  {
   "cell_type": "markdown",
   "id": "interpreted-silly",
   "metadata": {},
   "source": [
    "The volume distribution is clearly concentrated on the left, and, also removing values above q3, the distribution remains unbalanced on the left."
   ]
  },
  {
   "cell_type": "markdown",
   "id": "public-spirituality",
   "metadata": {},
   "source": [
    "### Sentiment analysis"
   ]
  },
  {
   "cell_type": "code",
   "execution_count": 18,
   "id": "official-bermuda",
   "metadata": {},
   "outputs": [
    {
     "data": {
      "text/html": [
       "\n",
       "<div id=\"altair-viz-e790990a75ad4517b78e716cfebbfd44\"></div>\n",
       "<script type=\"text/javascript\">\n",
       "  (function(spec, embedOpt){\n",
       "    let outputDiv = document.currentScript.previousElementSibling;\n",
       "    if (outputDiv.id !== \"altair-viz-e790990a75ad4517b78e716cfebbfd44\") {\n",
       "      outputDiv = document.getElementById(\"altair-viz-e790990a75ad4517b78e716cfebbfd44\");\n",
       "    }\n",
       "    const paths = {\n",
       "      \"vega\": \"https://cdn.jsdelivr.net/npm//vega@5?noext\",\n",
       "      \"vega-lib\": \"https://cdn.jsdelivr.net/npm//vega-lib?noext\",\n",
       "      \"vega-lite\": \"https://cdn.jsdelivr.net/npm//vega-lite@4.8.1?noext\",\n",
       "      \"vega-embed\": \"https://cdn.jsdelivr.net/npm//vega-embed@6?noext\",\n",
       "    };\n",
       "\n",
       "    function loadScript(lib) {\n",
       "      return new Promise(function(resolve, reject) {\n",
       "        var s = document.createElement('script');\n",
       "        s.src = paths[lib];\n",
       "        s.async = true;\n",
       "        s.onload = () => resolve(paths[lib]);\n",
       "        s.onerror = () => reject(`Error loading script: ${paths[lib]}`);\n",
       "        document.getElementsByTagName(\"head\")[0].appendChild(s);\n",
       "      });\n",
       "    }\n",
       "\n",
       "    function showError(err) {\n",
       "      outputDiv.innerHTML = `<div class=\"error\" style=\"color:red;\">${err}</div>`;\n",
       "      throw err;\n",
       "    }\n",
       "\n",
       "    function displayChart(vegaEmbed) {\n",
       "      vegaEmbed(outputDiv, spec, embedOpt)\n",
       "        .catch(err => showError(`Javascript Error: ${err.message}<br>This usually means there's a typo in your chart specification. See the javascript console for the full traceback.`));\n",
       "    }\n",
       "\n",
       "    if(typeof define === \"function\" && define.amd) {\n",
       "      requirejs.config({paths});\n",
       "      require([\"vega-embed\"], displayChart, err => showError(`Error loading script: ${err.message}`));\n",
       "    } else if (typeof vegaEmbed === \"function\") {\n",
       "      displayChart(vegaEmbed);\n",
       "    } else {\n",
       "      loadScript(\"vega\")\n",
       "        .then(() => loadScript(\"vega-lite\"))\n",
       "        .then(() => loadScript(\"vega-embed\"))\n",
       "        .catch(showError)\n",
       "        .then(() => displayChart(vegaEmbed));\n",
       "    }\n",
       "  })({\"config\": {\"view\": {\"continuousWidth\": 400, \"continuousHeight\": 300}, \"axisRight\": {\"titleColor\": \"blue\"}}, \"vconcat\": [{\"layer\": [{\"data\": {\"url\": \"altair-data-8dcbd5efe94756631081024256a98d4e.json\", \"format\": {\"type\": \"json\"}}, \"mark\": \"bar\", \"encoding\": {\"color\": {\"type\": \"quantitative\", \"field\": \"norm_sent\", \"scale\": {\"domain\": [0, 1], \"range\": [\"#e45756\", \"#54a24b\"]}}, \"x\": {\"type\": \"temporal\", \"axis\": {\"labelOverlap\": \"greedy\", \"labelSeparation\": 6}, \"bin\": {\"extent\": {\"selection\": \"selector001\"}, \"maxbins\": 100}, \"field\": \"date\", \"scale\": {\"domain\": {\"selection\": \"selector001\"}}, \"timeUnit\": \"yearmonthdate\"}, \"y\": {\"type\": \"quantitative\", \"field\": \"norm_sent\", \"scale\": {\"domain\": [0, 1]}, \"title\": \"Normalized sentiment\"}}, \"title\": {\"text\": \"Normalized sentiment vs Bitcoin price\", \"subtitle\": \"0:= negative, 1:= positive\"}}, {\"data\": {\"url\": \"altair-data-92cf55b965a5ceabc9f5d6bbb72ad3fb.json\", \"format\": {\"type\": \"json\"}}, \"mark\": {\"type\": \"line\", \"color\": \"#bab0ac\"}, \"encoding\": {\"x\": {\"type\": \"temporal\", \"axis\": null, \"field\": \"date\", \"scale\": {\"domain\": {\"selection\": \"selector001\"}}, \"timeUnit\": \"yearmonthdate\"}, \"y\": {\"type\": \"quantitative\", \"axis\": null, \"field\": \"value\", \"scale\": {\"domain\": [0, 1]}}}}, {\"data\": {\"url\": \"altair-data-90589f8307fa632c7c6b7aa4f16ef768.json\", \"format\": {\"type\": \"json\"}}, \"mark\": {\"type\": \"line\", \"color\": \"blue\"}, \"encoding\": {\"x\": {\"type\": \"temporal\", \"field\": \"date\", \"scale\": {\"domain\": {\"selection\": \"selector001\"}}, \"timeUnit\": \"yearmonthdate\", \"title\": null}, \"y\": {\"type\": \"quantitative\", \"field\": \"mid_price\", \"title\": \"Mid price\"}}}], \"resolve\": {\"scale\": {\"y\": \"independent\"}}}, {\"data\": {\"url\": \"altair-data-8dcbd5efe94756631081024256a98d4e.json\", \"format\": {\"type\": \"json\"}}, \"mark\": \"bar\", \"encoding\": {\"color\": {\"type\": \"quantitative\", \"field\": \"norm_sent\", \"scale\": {\"domain\": [0, 1], \"range\": [\"#e45756\", \"#54a24b\"]}}, \"x\": {\"type\": \"temporal\", \"axis\": {\"labelOverlap\": \"greedy\", \"labelSeparation\": 6}, \"bin\": {\"maxbins\": 100}, \"field\": \"date\", \"timeUnit\": \"yearmonthdate\", \"title\": \"Date\"}, \"y\": {\"type\": \"quantitative\", \"field\": \"norm_sent\", \"title\": null}}, \"height\": 50, \"selection\": {\"selector001\": {\"type\": \"interval\", \"encodings\": [\"x\"]}}}], \"$schema\": \"https://vega.github.io/schema/vega-lite/v4.8.1.json\"}, {\"mode\": \"vega-lite\"});\n",
       "</script>"
      ],
      "text/plain": [
       "alt.VConcatChart(...)"
      ]
     },
     "execution_count": 18,
     "metadata": {},
     "output_type": "execute_result"
    }
   ],
   "source": [
    "domain = [0, 1]\n",
    "color_range = [palette['negative'], palette['positive']]\n",
    "\n",
    "time_selector = alt.selection(type='interval', encodings=['x'])\n",
    "\n",
    "gradient = alt.Color('norm_sent', scale=alt.Scale(domain=domain, range=color_range))\n",
    "\n",
    "price_chart = alt.Chart(market_df).mark_line(color=palette['strong_price']).encode(\n",
    "    x=alt.X('yearmonthdate(date):T',\n",
    "           scale=alt.Scale(domain=time_selector),\n",
    "           title=None),\n",
    "    y=alt.Y('mid_price', title='Mid price')\n",
    ")\n",
    "\n",
    "dummy_df = daily_df[['date']].copy()\n",
    "dummy_df['value'] = 0.5\n",
    "\n",
    "dummy_chart = alt.Chart(dummy_df).mark_line(color=palette['smooth_neutral']).encode(alt.X('yearmonthdate(date):T',\n",
    "                                                       scale=alt.Scale(domain=time_selector),\n",
    "                                                       axis=None),\n",
    "                                                 alt.Y('value',\n",
    "                                                      scale=alt.Scale(domain=[0,1]),\n",
    "                                                      axis=None))\n",
    "\n",
    "plot_title = alt.TitleParams('Normalized sentiment vs Bitcoin price', subtitle='0:= negative, 1:= positive')\n",
    "histogram = alt.Chart(daily_df, title=plot_title).mark_bar().encode(alt.X('yearmonthdate(date):T',\n",
    "                                                       bin=alt.Bin(maxbins=100, extent=time_selector),\n",
    "                                                       scale=alt.Scale(domain=time_selector),\n",
    "                                                       axis=alt.Axis(labelOverlap='greedy', labelSeparation=6)),\n",
    "                                                 alt.Y('norm_sent',\n",
    "                                                      scale=alt.Scale(domain=[0,1]),\n",
    "                                                      title='Normalized sentiment'),\n",
    "                                                 color=gradient)\n",
    "\n",
    "\n",
    "\n",
    "\n",
    "selection_plot = alt.Chart(daily_df).mark_bar().encode(alt.X('yearmonthdate(date):T',\n",
    "                                                       bin=alt.Bin(maxbins=100),\n",
    "                                                            title='Date',\n",
    "                                                            axis=alt.Axis(labelOverlap='greedy', labelSeparation=6)),\n",
    "                                                       alt.Y('norm_sent', title=None),\n",
    "                                                       color=gradient).add_selection(time_selector).properties(height=50)\n",
    "\n",
    "((histogram + dummy_chart + price_chart).resolve_scale(y='independent') & selection_plot).configure_axisRight(titleColor=palette['strong_price'])"
   ]
  },
  {
   "cell_type": "markdown",
   "id": "rental-magnitude",
   "metadata": {},
   "source": [
    "Bar binning has some problems plotting the sentiment if it's in [-1, 1], for that reason the interactive version uses normalized sentiment and the static one uses original sentiment values."
   ]
  },
  {
   "cell_type": "code",
   "execution_count": 19,
   "id": "heavy-floor",
   "metadata": {},
   "outputs": [
    {
     "data": {
      "text/html": [
       "\n",
       "<div id=\"altair-viz-34c273d4609f4eafa912341616ada5cb\"></div>\n",
       "<script type=\"text/javascript\">\n",
       "  (function(spec, embedOpt){\n",
       "    let outputDiv = document.currentScript.previousElementSibling;\n",
       "    if (outputDiv.id !== \"altair-viz-34c273d4609f4eafa912341616ada5cb\") {\n",
       "      outputDiv = document.getElementById(\"altair-viz-34c273d4609f4eafa912341616ada5cb\");\n",
       "    }\n",
       "    const paths = {\n",
       "      \"vega\": \"https://cdn.jsdelivr.net/npm//vega@5?noext\",\n",
       "      \"vega-lib\": \"https://cdn.jsdelivr.net/npm//vega-lib?noext\",\n",
       "      \"vega-lite\": \"https://cdn.jsdelivr.net/npm//vega-lite@4.8.1?noext\",\n",
       "      \"vega-embed\": \"https://cdn.jsdelivr.net/npm//vega-embed@6?noext\",\n",
       "    };\n",
       "\n",
       "    function loadScript(lib) {\n",
       "      return new Promise(function(resolve, reject) {\n",
       "        var s = document.createElement('script');\n",
       "        s.src = paths[lib];\n",
       "        s.async = true;\n",
       "        s.onload = () => resolve(paths[lib]);\n",
       "        s.onerror = () => reject(`Error loading script: ${paths[lib]}`);\n",
       "        document.getElementsByTagName(\"head\")[0].appendChild(s);\n",
       "      });\n",
       "    }\n",
       "\n",
       "    function showError(err) {\n",
       "      outputDiv.innerHTML = `<div class=\"error\" style=\"color:red;\">${err}</div>`;\n",
       "      throw err;\n",
       "    }\n",
       "\n",
       "    function displayChart(vegaEmbed) {\n",
       "      vegaEmbed(outputDiv, spec, embedOpt)\n",
       "        .catch(err => showError(`Javascript Error: ${err.message}<br>This usually means there's a typo in your chart specification. See the javascript console for the full traceback.`));\n",
       "    }\n",
       "\n",
       "    if(typeof define === \"function\" && define.amd) {\n",
       "      requirejs.config({paths});\n",
       "      require([\"vega-embed\"], displayChart, err => showError(`Error loading script: ${err.message}`));\n",
       "    } else if (typeof vegaEmbed === \"function\") {\n",
       "      displayChart(vegaEmbed);\n",
       "    } else {\n",
       "      loadScript(\"vega\")\n",
       "        .then(() => loadScript(\"vega-lite\"))\n",
       "        .then(() => loadScript(\"vega-embed\"))\n",
       "        .catch(showError)\n",
       "        .then(() => displayChart(vegaEmbed));\n",
       "    }\n",
       "  })({\"config\": {\"view\": {\"continuousWidth\": 400, \"continuousHeight\": 300}, \"axisRight\": {\"titleColor\": \"blue\"}}, \"layer\": [{\"data\": {\"url\": \"altair-data-8dcbd5efe94756631081024256a98d4e.json\", \"format\": {\"type\": \"json\"}}, \"mark\": \"bar\", \"encoding\": {\"color\": {\"type\": \"quantitative\", \"field\": \"sentiment\", \"scale\": {\"domain\": [-1, 1], \"range\": [\"#e45756\", \"#54a24b\"]}, \"title\": \"Sentiment\"}, \"x\": {\"type\": \"temporal\", \"field\": \"date\", \"timeUnit\": \"yearmonthdate\", \"title\": \"Date\"}, \"y\": {\"type\": \"quantitative\", \"field\": \"sentiment\", \"scale\": {\"domain\": [-1, 1]}, \"title\": \"Sentiment\"}}, \"title\": {\"text\": \"Static sentiment vs Bitcoin price\", \"subtitle\": \"-1:= negative, 1:= positive\"}}, {\"data\": {\"url\": \"altair-data-90589f8307fa632c7c6b7aa4f16ef768.json\", \"format\": {\"type\": \"json\"}}, \"mark\": {\"type\": \"line\", \"color\": \"blue\"}, \"encoding\": {\"x\": {\"type\": \"temporal\", \"field\": \"date\", \"timeUnit\": \"yearmonthdate\"}, \"y\": {\"type\": \"quantitative\", \"field\": \"mid_price\", \"title\": \"Mid price\"}}}], \"resolve\": {\"scale\": {\"y\": \"independent\"}}, \"$schema\": \"https://vega.github.io/schema/vega-lite/v4.8.1.json\"}, {\"mode\": \"vega-lite\"});\n",
       "</script>"
      ],
      "text/plain": [
       "alt.LayerChart(...)"
      ]
     },
     "execution_count": 19,
     "metadata": {},
     "output_type": "execute_result"
    }
   ],
   "source": [
    "domain = [-1, 1]\n",
    "\n",
    "gradient = alt.Color('sentiment', scale=alt.Scale(domain=domain, range=color_range), title='Sentiment')\n",
    "\n",
    "price_chart = alt.Chart(market_df).mark_line(color=palette['strong_price']).encode(\n",
    "    x=alt.X('yearmonthdate(date):T'),\n",
    "    y=alt.Y('mid_price', title='Mid price')\n",
    ")\n",
    "\n",
    "plot_title = alt.TitleParams('Static sentiment vs Bitcoin price', subtitle='-1:= negative, 1:= positive')\n",
    "histogram = alt.Chart(daily_df, title=plot_title).mark_bar().encode(alt.X('yearmonthdate(date):T', title='Date'),\n",
    "                                                 alt.Y('sentiment',\n",
    "                                                      scale=alt.Scale(domain=[-1,1]),\n",
    "                                                      title='Sentiment'),\n",
    "                                                 color=gradient)\n",
    "\n",
    "\n",
    "\n",
    "\n",
    "(histogram + price_chart).resolve_scale(y='independent').configure_axisRight(titleColor=palette['strong_price'])"
   ]
  },
  {
   "cell_type": "markdown",
   "id": "colored-columbia",
   "metadata": {},
   "source": [
    "Plotting sentiment in [-1, 1] permit to understand immediately if price direction is the same as the sentiment one."
   ]
  },
  {
   "cell_type": "markdown",
   "id": "purple-herald",
   "metadata": {},
   "source": [
    "#### Correlation\n",
    "\n",
    "To measure the correlation between sentiment and price, two approaches will be used:\n",
    "- TLCC (Time Lagged Cross-Correlation): a measure of the correlation of the whole time series given a list of time offsets\n",
    "- Windowed TLCC: the time series are lagged as in the first case, but the correlation is calculated for each window; this is useful to understand correlation \"direction\" (so the time series' roles) over time."
   ]
  },
  {
   "cell_type": "markdown",
   "id": "clinical-newport",
   "metadata": {},
   "source": [
    "##### TLCC"
   ]
  },
  {
   "cell_type": "code",
   "execution_count": 20,
   "id": "artistic-lodge",
   "metadata": {},
   "outputs": [
    {
     "data": {
      "text/html": [
       "\n",
       "<div id=\"altair-viz-f592644dc6cd4068ae77bb730f2d2a74\"></div>\n",
       "<script type=\"text/javascript\">\n",
       "  (function(spec, embedOpt){\n",
       "    let outputDiv = document.currentScript.previousElementSibling;\n",
       "    if (outputDiv.id !== \"altair-viz-f592644dc6cd4068ae77bb730f2d2a74\") {\n",
       "      outputDiv = document.getElementById(\"altair-viz-f592644dc6cd4068ae77bb730f2d2a74\");\n",
       "    }\n",
       "    const paths = {\n",
       "      \"vega\": \"https://cdn.jsdelivr.net/npm//vega@5?noext\",\n",
       "      \"vega-lib\": \"https://cdn.jsdelivr.net/npm//vega-lib?noext\",\n",
       "      \"vega-lite\": \"https://cdn.jsdelivr.net/npm//vega-lite@4.8.1?noext\",\n",
       "      \"vega-embed\": \"https://cdn.jsdelivr.net/npm//vega-embed@6?noext\",\n",
       "    };\n",
       "\n",
       "    function loadScript(lib) {\n",
       "      return new Promise(function(resolve, reject) {\n",
       "        var s = document.createElement('script');\n",
       "        s.src = paths[lib];\n",
       "        s.async = true;\n",
       "        s.onload = () => resolve(paths[lib]);\n",
       "        s.onerror = () => reject(`Error loading script: ${paths[lib]}`);\n",
       "        document.getElementsByTagName(\"head\")[0].appendChild(s);\n",
       "      });\n",
       "    }\n",
       "\n",
       "    function showError(err) {\n",
       "      outputDiv.innerHTML = `<div class=\"error\" style=\"color:red;\">${err}</div>`;\n",
       "      throw err;\n",
       "    }\n",
       "\n",
       "    function displayChart(vegaEmbed) {\n",
       "      vegaEmbed(outputDiv, spec, embedOpt)\n",
       "        .catch(err => showError(`Javascript Error: ${err.message}<br>This usually means there's a typo in your chart specification. See the javascript console for the full traceback.`));\n",
       "    }\n",
       "\n",
       "    if(typeof define === \"function\" && define.amd) {\n",
       "      requirejs.config({paths});\n",
       "      require([\"vega-embed\"], displayChart, err => showError(`Error loading script: ${err.message}`));\n",
       "    } else if (typeof vegaEmbed === \"function\") {\n",
       "      displayChart(vegaEmbed);\n",
       "    } else {\n",
       "      loadScript(\"vega\")\n",
       "        .then(() => loadScript(\"vega-lite\"))\n",
       "        .then(() => loadScript(\"vega-embed\"))\n",
       "        .catch(showError)\n",
       "        .then(() => displayChart(vegaEmbed));\n",
       "    }\n",
       "  })({\"config\": {\"view\": {\"continuousWidth\": 400, \"continuousHeight\": 300}}, \"data\": {\"url\": \"altair-data-c3d5e08a7e8f3cfd718567d9c89e662b.json\", \"format\": {\"type\": \"json\"}}, \"mark\": \"line\", \"encoding\": {\"color\": {\"type\": \"nominal\", \"field\": \"method\", \"title\": \"Method\"}, \"x\": {\"type\": \"quantitative\", \"field\": \"offset\", \"title\": \"Offset days\"}, \"y\": {\"type\": \"quantitative\", \"field\": \"correlation\", \"title\": \"Correlation\"}}, \"title\": {\"text\": \"Twitter sentiment correlations\", \"subtitle\": [\"Positive offset: looking future prices\", \"Max correlation (0.859) with an offset of -66 days\", \"Min correlation (0.675) with an offset of 150 days\"]}, \"$schema\": \"https://vega.github.io/schema/vega-lite/v4.8.1.json\"}, {\"mode\": \"vega-lite\"});\n",
       "</script>"
      ],
      "text/plain": [
       "alt.Chart(...)"
      ]
     },
     "execution_count": 20,
     "metadata": {},
     "output_type": "execute_result"
    }
   ],
   "source": [
    "methods = ['pearson', 'kendall', 'spearman']\n",
    "offsets = list(range(-150, 151)) # list of days offset to test\n",
    "\n",
    "correlations = []\n",
    "\n",
    "sent_vs_price = pd.DataFrame(daily_df['date'], columns=['date'])\n",
    "sent_vs_price['sent'] = daily_df['norm_sent']\n",
    "sent_vs_price = sent_vs_price.merge(market_df[['date', 'mid_price']], on='date')\n",
    "\n",
    "for method in methods:\n",
    "    method_correlations = [(method, offset, sent_vs_price['sent'].corr(sent_vs_price['mid_price'].shift(-offset), method=method))\n",
    "                           for offset in offsets]\n",
    "    correlations.extend(method_correlations)\n",
    "        \n",
    "correlations_df = pd.DataFrame(correlations, columns=['method', 'offset', 'correlation'])\n",
    "\n",
    "spearman_correlations = correlations_df[correlations_df['method'] == 'spearman']\n",
    "\n",
    "max_corr = max(spearman_correlations['correlation'])\n",
    "max_corr_offset = spearman_correlations[spearman_correlations['correlation'] == max_corr]['offset'].iloc[0]\n",
    "\n",
    "min_corr = min(spearman_correlations['correlation'])\n",
    "min_corr_offset = spearman_correlations[spearman_correlations['correlation'] == min_corr]['offset'].iloc[0]\n",
    "\n",
    "max_corr_text = f'Max correlation ({round(max_corr, 3)}) with an offset of {max_corr_offset} days'\n",
    "min_corr_text = f'Min correlation ({round(min_corr, 3)}) with an offset of {min_corr_offset} days'\n",
    "\n",
    "plot_title = alt.TitleParams('Twitter sentiment correlations', subtitle=['Positive offset: looking future prices',max_corr_text, min_corr_text])\n",
    "corr_chart = alt.Chart(correlations_df, title=plot_title).mark_line().encode(alt.X('offset', title='Offset days'),\n",
    "                                                          alt.Y('correlation', title='Correlation'),\n",
    "                                                          alt.Color('method', title='Method'))\n",
    "\n",
    "corr_chart"
   ]
  },
  {
   "cell_type": "markdown",
   "id": "alert-marathon",
   "metadata": {},
   "source": [
    "For the nature of the data, the Pearson correlation should not be applied since the variables are not normally distributed.\n",
    "\n",
    "Kendal and Spearman share the information used to compute the correlation, in fact, the related charts are simply shifted.\n",
    "\n",
    "The goal of that section is to find a time offset to maximize the correlation, so the choice between Spearman and Kendall is not significant."
   ]
  },
  {
   "cell_type": "markdown",
   "id": "promotional-creation",
   "metadata": {},
   "source": [
    "##### WTLCC\n",
    "\n",
    "For semplicity, the next chart will visualiza WTLCC using Spearman correlation only."
   ]
  },
  {
   "cell_type": "code",
   "execution_count": 21,
   "id": "offensive-partnership",
   "metadata": {},
   "outputs": [
    {
     "data": {
      "text/html": [
       "\n",
       "<div id=\"altair-viz-9cf06eb615ac4fcfbc8ed7379f3653dd\"></div>\n",
       "<script type=\"text/javascript\">\n",
       "  (function(spec, embedOpt){\n",
       "    let outputDiv = document.currentScript.previousElementSibling;\n",
       "    if (outputDiv.id !== \"altair-viz-9cf06eb615ac4fcfbc8ed7379f3653dd\") {\n",
       "      outputDiv = document.getElementById(\"altair-viz-9cf06eb615ac4fcfbc8ed7379f3653dd\");\n",
       "    }\n",
       "    const paths = {\n",
       "      \"vega\": \"https://cdn.jsdelivr.net/npm//vega@5?noext\",\n",
       "      \"vega-lib\": \"https://cdn.jsdelivr.net/npm//vega-lib?noext\",\n",
       "      \"vega-lite\": \"https://cdn.jsdelivr.net/npm//vega-lite@4.8.1?noext\",\n",
       "      \"vega-embed\": \"https://cdn.jsdelivr.net/npm//vega-embed@6?noext\",\n",
       "    };\n",
       "\n",
       "    function loadScript(lib) {\n",
       "      return new Promise(function(resolve, reject) {\n",
       "        var s = document.createElement('script');\n",
       "        s.src = paths[lib];\n",
       "        s.async = true;\n",
       "        s.onload = () => resolve(paths[lib]);\n",
       "        s.onerror = () => reject(`Error loading script: ${paths[lib]}`);\n",
       "        document.getElementsByTagName(\"head\")[0].appendChild(s);\n",
       "      });\n",
       "    }\n",
       "\n",
       "    function showError(err) {\n",
       "      outputDiv.innerHTML = `<div class=\"error\" style=\"color:red;\">${err}</div>`;\n",
       "      throw err;\n",
       "    }\n",
       "\n",
       "    function displayChart(vegaEmbed) {\n",
       "      vegaEmbed(outputDiv, spec, embedOpt)\n",
       "        .catch(err => showError(`Javascript Error: ${err.message}<br>This usually means there's a typo in your chart specification. See the javascript console for the full traceback.`));\n",
       "    }\n",
       "\n",
       "    if(typeof define === \"function\" && define.amd) {\n",
       "      requirejs.config({paths});\n",
       "      require([\"vega-embed\"], displayChart, err => showError(`Error loading script: ${err.message}`));\n",
       "    } else if (typeof vegaEmbed === \"function\") {\n",
       "      displayChart(vegaEmbed);\n",
       "    } else {\n",
       "      loadScript(\"vega\")\n",
       "        .then(() => loadScript(\"vega-lite\"))\n",
       "        .then(() => loadScript(\"vega-embed\"))\n",
       "        .catch(showError)\n",
       "        .then(() => displayChart(vegaEmbed));\n",
       "    }\n",
       "  })({\"config\": {\"view\": {\"continuousWidth\": 400, \"continuousHeight\": 300}}, \"data\": {\"url\": \"altair-data-5d60c5dc4bb152da49a2294e6221b0a4.json\", \"format\": {\"type\": \"json\"}}, \"mark\": \"rect\", \"encoding\": {\"color\": {\"type\": \"quantitative\", \"field\": \"correlation\", \"scale\": {\"domain\": [-1, 1], \"range\": [\"#e45756\", \"#54a24b\"]}, \"title\": \"Correlation\"}, \"x\": {\"type\": \"ordinal\", \"field\": \"window\", \"title\": \"Window (120 days)\"}, \"y\": {\"type\": \"ordinal\", \"field\": \"offset\", \"title\": \"Offset days\"}}, \"height\": 800, \"title\": {\"text\": \"Windowed lagged correlation sentiment/price\", \"subtitle\": \"-1:= price as master, 1:= sentiment as master\"}, \"width\": 800, \"$schema\": \"https://vega.github.io/schema/vega-lite/v4.8.1.json\"}, {\"mode\": \"vega-lite\"});\n",
       "</script>"
      ],
      "text/plain": [
       "alt.Chart(...)"
      ]
     },
     "execution_count": 21,
     "metadata": {},
     "output_type": "execute_result"
    }
   ],
   "source": [
    "from math import ceil\n",
    "\n",
    "def get_window(series: pd.Series, window) -> pd.Series:\n",
    "    return series.iloc[window[0]: window[1]]\n",
    "    \n",
    "\n",
    "def windowed_corr(first: pd.Series, second: pd.Series) -> list:\n",
    "    windows = [(window * window_size, (window * window_size)+window_size) for window in range(ceil(len(second)/window_size))]\n",
    "    windows_corr = [get_window(first, window).corr(get_window(second, window), method = 'spearman') for window in windows]\n",
    "    return windows_corr, windows\n",
    "\n",
    "offsets = list(range(-66, 67, 4)) # reduced offsets for better visualization\n",
    "window_size = 120 # one window = one quarter\n",
    "\n",
    "windowed_correlations = []\n",
    "\n",
    "for offset in offsets:\n",
    "    windows_corr, windows = windowed_corr(sent_vs_price['sent'], sent_vs_price['mid_price'].shift(-offset))\n",
    "    for window, window_corr in enumerate(windows_corr):\n",
    "        windowed_correlations.append((window, window_corr, offset))\n",
    "    \n",
    "    \n",
    "windowed_correlations_df = pd.DataFrame(windowed_correlations, columns=['window', 'correlation', 'offset'])\n",
    "\n",
    "\n",
    "plot_title = alt.TitleParams('Windowed lagged correlation sentiment/price', subtitle='-1:= price as master, 1:= sentiment as master')\n",
    "color = alt.Color('correlation', scale=alt.Scale(domain=[-1, 1], range=[palette['negative'], palette['positive']]), title='Correlation')\n",
    "alt.Chart(windowed_correlations_df, height=800, width=800, title=plot_title).mark_rect().encode(alt.X('window:O', title=f'Window ({window_size} days)'), alt.Y('offset:O', title='Offset days'), color)\n"
   ]
  },
  {
   "cell_type": "markdown",
   "id": "prerequisite-reality",
   "metadata": {},
   "source": [
    "With the above heatmap, the level of details is higher; in fact, from that can be seen that:\n",
    "- In the case of windows 7 and 17 in most of the tested offsets the price acts as \"master\"\n",
    "- If we compare the sentiment with the future (positive offsets) in the same window the correlation is nearly 1 but in another is nearly -1, so the price prediction based is not so reliable or the crawling of the tweets was not consistent\n",
    "- If we compare the sentiment with the past (negative offsets) in the windows from 8 to 15 the correlation is pretty high, suggesting that the price is the master for this time range"
   ]
  },
  {
   "cell_type": "markdown",
   "id": "collaborative-latvia",
   "metadata": {},
   "source": [
    "#### Interactive WLTCC"
   ]
  },
  {
   "cell_type": "code",
   "execution_count": 22,
   "id": "organic-reflection",
   "metadata": {},
   "outputs": [
    {
     "data": {
      "application/vnd.jupyter.widget-view+json": {
       "model_id": "dfd5c03654c34fa6adb3669844fdb398",
       "version_major": 2,
       "version_minor": 0
      },
      "text/plain": [
       "interactive(children=(IntSlider(value=60, continuous_update=False, description='window_size', max=365, min=5),…"
      ]
     },
     "metadata": {},
     "output_type": "display_data"
    }
   ],
   "source": [
    "from math import ceil\n",
    "\n",
    "def get_window(series: pd.Series, window) -> pd.Series:\n",
    "    return series.iloc[window[0]: window[1]]\n",
    "    \n",
    "\n",
    "def windowed_corr(first: pd.Series, second: pd.Series, window_size: int) -> list:\n",
    "    windows = [(window * window_size, (window * window_size)+window_size) for window in range(ceil(len(second)/window_size))]\n",
    "    windows_corr = [get_window(first, window).corr(get_window(second, window), method = 'spearman') for window in windows]\n",
    "    return windows_corr, windows\n",
    "\n",
    "\n",
    "def get_plot(window_size=60):\n",
    "    size = window_size\n",
    "    windowed_correlations = []\n",
    "\n",
    "    for offset in offsets:\n",
    "        windows_corr, windows = windowed_corr(sent_vs_price['sent'], sent_vs_price['mid_price'].shift(-offset), size)\n",
    "        for window, window_corr in enumerate(windows_corr):\n",
    "            windowed_correlations.append((window, window_corr, offset))\n",
    "\n",
    "\n",
    "    windowed_correlations_df = pd.DataFrame(windowed_correlations, columns=['window', 'correlation', 'offset'])\n",
    "\n",
    "\n",
    "    plot_title = alt.TitleParams('Windowed lagged correlation sentiment/price', subtitle=['Positive offset: looking future prices',\n",
    "                                                                                       '-1:= price as master, 1:= sentiment as master'])\n",
    "    color = alt.Color('correlation', scale=alt.Scale(domain=[-1, 1], range=[palette['negative'], palette['positive']]), title='Correlation')\n",
    "    return alt.Chart(windowed_correlations_df, height=750, width=750, title=plot_title).mark_rect().encode(alt.X('window:O', title=f'Window ({window_size} days)'), alt.Y('offset:O', title='Offset days'), color)\n",
    "    # return windowed_correlations_df\n",
    "\n",
    "\n",
    "interact(get_plot, window_size=IntSlider(value=60, min=5, max=365, step=1, continuous_update=False))\n",
    "    \n",
    "offsets = list(range(-66, 67, 4)) # reduced offsets for better visualization\n"
   ]
  },
  {
   "cell_type": "markdown",
   "id": "extensive-knight",
   "metadata": {},
   "source": [
    "### Volume analysis"
   ]
  },
  {
   "cell_type": "markdown",
   "id": "injured-broadcast",
   "metadata": {},
   "source": [
    "Another aspect of data is the volume of that, in other words: is relevant that the people speak well or bad about Bitcoin or it's enough that people speak?"
   ]
  },
  {
   "cell_type": "code",
   "execution_count": 23,
   "id": "grateful-casting",
   "metadata": {},
   "outputs": [
    {
     "data": {
      "text/html": [
       "\n",
       "<div id=\"altair-viz-924f4c235b094bfc9e019d5232b7669d\"></div>\n",
       "<script type=\"text/javascript\">\n",
       "  (function(spec, embedOpt){\n",
       "    let outputDiv = document.currentScript.previousElementSibling;\n",
       "    if (outputDiv.id !== \"altair-viz-924f4c235b094bfc9e019d5232b7669d\") {\n",
       "      outputDiv = document.getElementById(\"altair-viz-924f4c235b094bfc9e019d5232b7669d\");\n",
       "    }\n",
       "    const paths = {\n",
       "      \"vega\": \"https://cdn.jsdelivr.net/npm//vega@5?noext\",\n",
       "      \"vega-lib\": \"https://cdn.jsdelivr.net/npm//vega-lib?noext\",\n",
       "      \"vega-lite\": \"https://cdn.jsdelivr.net/npm//vega-lite@4.8.1?noext\",\n",
       "      \"vega-embed\": \"https://cdn.jsdelivr.net/npm//vega-embed@6?noext\",\n",
       "    };\n",
       "\n",
       "    function loadScript(lib) {\n",
       "      return new Promise(function(resolve, reject) {\n",
       "        var s = document.createElement('script');\n",
       "        s.src = paths[lib];\n",
       "        s.async = true;\n",
       "        s.onload = () => resolve(paths[lib]);\n",
       "        s.onerror = () => reject(`Error loading script: ${paths[lib]}`);\n",
       "        document.getElementsByTagName(\"head\")[0].appendChild(s);\n",
       "      });\n",
       "    }\n",
       "\n",
       "    function showError(err) {\n",
       "      outputDiv.innerHTML = `<div class=\"error\" style=\"color:red;\">${err}</div>`;\n",
       "      throw err;\n",
       "    }\n",
       "\n",
       "    function displayChart(vegaEmbed) {\n",
       "      vegaEmbed(outputDiv, spec, embedOpt)\n",
       "        .catch(err => showError(`Javascript Error: ${err.message}<br>This usually means there's a typo in your chart specification. See the javascript console for the full traceback.`));\n",
       "    }\n",
       "\n",
       "    if(typeof define === \"function\" && define.amd) {\n",
       "      requirejs.config({paths});\n",
       "      require([\"vega-embed\"], displayChart, err => showError(`Error loading script: ${err.message}`));\n",
       "    } else if (typeof vegaEmbed === \"function\") {\n",
       "      displayChart(vegaEmbed);\n",
       "    } else {\n",
       "      loadScript(\"vega\")\n",
       "        .then(() => loadScript(\"vega-lite\"))\n",
       "        .then(() => loadScript(\"vega-embed\"))\n",
       "        .catch(showError)\n",
       "        .then(() => displayChart(vegaEmbed));\n",
       "    }\n",
       "  })({\"config\": {\"view\": {\"continuousWidth\": 400, \"continuousHeight\": 300}, \"axisLeft\": {\"titleColor\": \"#F28482\"}, \"axisRight\": {\"titleColor\": \"blue\"}}, \"vconcat\": [{\"layer\": [{\"layer\": [{\"mark\": {\"type\": \"bar\", \"color\": \"#F28482\"}, \"encoding\": {\"x\": {\"type\": \"temporal\", \"axis\": {\"labelOverlap\": \"greedy\", \"labelSeparation\": 6}, \"bin\": {\"extent\": {\"selection\": \"selector002\"}, \"maxbins\": 100}, \"field\": \"date\", \"scale\": {\"domain\": {\"selection\": \"selector002\"}}, \"timeUnit\": \"yearmonthdate\"}, \"y\": {\"type\": \"quantitative\", \"field\": \"count\", \"title\": \"Volume\"}}, \"title\": {\"text\": \"Volume vs Bitcoin price\"}}, {\"mark\": {\"type\": \"line\", \"color\": \"#995a59\"}, \"encoding\": {\"x\": {\"type\": \"temporal\", \"axis\": {\"labelOverlap\": \"greedy\", \"labelSeparation\": 6}, \"bin\": {\"extent\": {\"selection\": \"selector002\"}, \"maxbins\": 100}, \"field\": \"date\", \"scale\": {\"domain\": {\"selection\": \"selector002\"}}, \"timeUnit\": \"yearmonthdate\"}, \"y\": {\"type\": \"quantitative\", \"field\": \"count\", \"title\": \"Volume\"}}, \"title\": {\"text\": \"Volume vs Bitcoin price\"}, \"transform\": [{\"on\": \"date\", \"regression\": \"count\", \"method\": \"poly\", \"order\": 9}]}, {\"data\": {\"url\": \"altair-data-1782410ecdf80db03ef9fe8f78aecaac.json\", \"format\": {\"type\": \"json\"}}, \"mark\": {\"type\": \"line\", \"color\": \"grey\"}, \"encoding\": {\"x\": {\"type\": \"temporal\", \"field\": \"date\", \"timeUnit\": \"yearmonthdate\"}, \"y\": {\"type\": \"quantitative\", \"field\": \"count\"}}}], \"data\": {\"url\": \"altair-data-8dcbd5efe94756631081024256a98d4e.json\", \"format\": {\"type\": \"json\"}}}, {\"layer\": [{\"mark\": {\"type\": \"line\", \"color\": \"#4c78a8\"}, \"encoding\": {\"x\": {\"type\": \"temporal\", \"field\": \"date\", \"scale\": {\"domain\": {\"selection\": \"selector002\"}}, \"timeUnit\": \"yearmonthdate\", \"title\": null}, \"y\": {\"type\": \"quantitative\", \"field\": \"mid_price\", \"title\": \"Mid price\"}}}, {\"mark\": {\"type\": \"line\", \"color\": \"blue\"}, \"encoding\": {\"x\": {\"type\": \"temporal\", \"field\": \"date\", \"scale\": {\"domain\": {\"selection\": \"selector002\"}}, \"timeUnit\": \"yearmonthdate\", \"title\": null}, \"y\": {\"type\": \"quantitative\", \"field\": \"mid_price\", \"title\": \"Mid price\"}}, \"transform\": [{\"on\": \"date\", \"regression\": \"mid_price\", \"method\": \"poly\", \"order\": 9}]}], \"data\": {\"url\": \"altair-data-90589f8307fa632c7c6b7aa4f16ef768.json\", \"format\": {\"type\": \"json\"}}}], \"resolve\": {\"scale\": {\"y\": \"independent\"}}}, {\"data\": {\"url\": \"altair-data-8dcbd5efe94756631081024256a98d4e.json\", \"format\": {\"type\": \"json\"}}, \"mark\": {\"type\": \"bar\", \"color\": \"#F28482\"}, \"encoding\": {\"x\": {\"type\": \"temporal\", \"axis\": {\"labelOverlap\": \"greedy\", \"labelSeparation\": 6}, \"bin\": {\"maxbins\": 100}, \"field\": \"date\", \"timeUnit\": \"yearmonthdate\", \"title\": \"Date\"}, \"y\": {\"type\": \"quantitative\", \"field\": \"count\", \"title\": null}}, \"height\": 50, \"selection\": {\"selector002\": {\"type\": \"interval\", \"encodings\": [\"x\"]}}}], \"$schema\": \"https://vega.github.io/schema/vega-lite/v4.8.1.json\"}, {\"mode\": \"vega-lite\"});\n",
       "</script>"
      ],
      "text/plain": [
       "alt.VConcatChart(...)"
      ]
     },
     "execution_count": 23,
     "metadata": {},
     "output_type": "execute_result"
    }
   ],
   "source": [
    "time_selector = alt.selection(type='interval', encodings=['x'])\n",
    "\n",
    "dummy_df = pd.DataFrame({'date': [min(daily_df['date']), max(daily_df['date'])], 'count': [0, 0]})\n",
    "zero_line = alt.Chart(dummy_df).mark_line(color='grey').encode(x=alt.X('yearmonthdate(date):T'), y=alt.Y('count'))\n",
    "\n",
    "price = alt.Chart(market_df).mark_line(color=palette['price']).encode(\n",
    "    x=alt.X('yearmonthdate(date):T',\n",
    "           scale=alt.Scale(domain=time_selector),\n",
    "           title=None),\n",
    "    y=alt.Y('mid_price', title='Mid price')\n",
    ")\n",
    "        \n",
    "plot_title = alt.TitleParams('Volume vs Bitcoin price')\n",
    "\n",
    "histogram = alt.Chart(daily_df, title=plot_title).mark_bar(color=palette['twitter']).encode(alt.X('yearmonthdate(date):T',\n",
    "                                                       bin=alt.Bin(maxbins=100, extent=time_selector),\n",
    "                                                       scale=alt.Scale(domain=time_selector),\n",
    "                                                       axis=alt.Axis(labelOverlap='greedy', labelSeparation=6)),\n",
    "                                                 alt.Y('count',\n",
    "                                                      title='Volume'))\n",
    "\n",
    "histogram_reg = histogram.transform_regression('date', 'count', method='poly', order=9).mark_line(color=palette['strong_twitter'])\n",
    "\n",
    "volume_chart = histogram + histogram_reg + zero_line\n",
    "\n",
    "price_reg = price.transform_regression('date', 'mid_price', method='poly', order=9).mark_line(color=palette['strong_price'])\n",
    "\n",
    "\n",
    "price_chart = price + price_reg\n",
    "\n",
    "selection_plot = alt.Chart(daily_df).mark_bar(color=palette['twitter']).encode(alt.X('yearmonthdate(date):T',\n",
    "                                                       bin=alt.Bin(maxbins=100),\n",
    "                                                            title='Date',\n",
    "                                                            axis=alt.Axis(labelOverlap='greedy', labelSeparation=6)),\n",
    "                                                       alt.Y('count', title=None)).add_selection(time_selector).properties(height=50)\n",
    "\n",
    "(alt.layer(volume_chart, price_chart).resolve_scale(y='independent') & selection_plot).configure_axisRight(titleColor=palette['strong_price']).configure_axisLeft(titleColor=palette['twitter'])"
   ]
  },
  {
   "cell_type": "markdown",
   "id": "sufficient-walker",
   "metadata": {},
   "source": [
    "Trend lines make it easier to see that a correlation exists, but the time series are not synchronized."
   ]
  },
  {
   "cell_type": "markdown",
   "id": "broadband-story",
   "metadata": {},
   "source": [
    "#### Correlation"
   ]
  },
  {
   "cell_type": "markdown",
   "id": "streaming-disclaimer",
   "metadata": {},
   "source": [
    "##### TLCC"
   ]
  },
  {
   "cell_type": "code",
   "execution_count": 24,
   "id": "inner-bullet",
   "metadata": {},
   "outputs": [
    {
     "data": {
      "text/html": [
       "\n",
       "<div id=\"altair-viz-651c4ab97b864003bb1d011ec0442467\"></div>\n",
       "<script type=\"text/javascript\">\n",
       "  (function(spec, embedOpt){\n",
       "    let outputDiv = document.currentScript.previousElementSibling;\n",
       "    if (outputDiv.id !== \"altair-viz-651c4ab97b864003bb1d011ec0442467\") {\n",
       "      outputDiv = document.getElementById(\"altair-viz-651c4ab97b864003bb1d011ec0442467\");\n",
       "    }\n",
       "    const paths = {\n",
       "      \"vega\": \"https://cdn.jsdelivr.net/npm//vega@5?noext\",\n",
       "      \"vega-lib\": \"https://cdn.jsdelivr.net/npm//vega-lib?noext\",\n",
       "      \"vega-lite\": \"https://cdn.jsdelivr.net/npm//vega-lite@4.8.1?noext\",\n",
       "      \"vega-embed\": \"https://cdn.jsdelivr.net/npm//vega-embed@6?noext\",\n",
       "    };\n",
       "\n",
       "    function loadScript(lib) {\n",
       "      return new Promise(function(resolve, reject) {\n",
       "        var s = document.createElement('script');\n",
       "        s.src = paths[lib];\n",
       "        s.async = true;\n",
       "        s.onload = () => resolve(paths[lib]);\n",
       "        s.onerror = () => reject(`Error loading script: ${paths[lib]}`);\n",
       "        document.getElementsByTagName(\"head\")[0].appendChild(s);\n",
       "      });\n",
       "    }\n",
       "\n",
       "    function showError(err) {\n",
       "      outputDiv.innerHTML = `<div class=\"error\" style=\"color:red;\">${err}</div>`;\n",
       "      throw err;\n",
       "    }\n",
       "\n",
       "    function displayChart(vegaEmbed) {\n",
       "      vegaEmbed(outputDiv, spec, embedOpt)\n",
       "        .catch(err => showError(`Javascript Error: ${err.message}<br>This usually means there's a typo in your chart specification. See the javascript console for the full traceback.`));\n",
       "    }\n",
       "\n",
       "    if(typeof define === \"function\" && define.amd) {\n",
       "      requirejs.config({paths});\n",
       "      require([\"vega-embed\"], displayChart, err => showError(`Error loading script: ${err.message}`));\n",
       "    } else if (typeof vegaEmbed === \"function\") {\n",
       "      displayChart(vegaEmbed);\n",
       "    } else {\n",
       "      loadScript(\"vega\")\n",
       "        .then(() => loadScript(\"vega-lite\"))\n",
       "        .then(() => loadScript(\"vega-embed\"))\n",
       "        .catch(showError)\n",
       "        .then(() => displayChart(vegaEmbed));\n",
       "    }\n",
       "  })({\"config\": {\"view\": {\"continuousWidth\": 400, \"continuousHeight\": 300}}, \"data\": {\"url\": \"altair-data-4676333191b5fdce330ffe6ac4106fb2.json\", \"format\": {\"type\": \"json\"}}, \"mark\": \"line\", \"encoding\": {\"color\": {\"type\": \"nominal\", \"field\": \"method\", \"title\": \"Method\"}, \"x\": {\"type\": \"quantitative\", \"field\": \"offset\", \"title\": \"Offset days\"}, \"y\": {\"type\": \"quantitative\", \"field\": \"correlation\", \"title\": \"Correlation\"}}, \"title\": {\"text\": \"Twitter volume correlations\", \"subtitle\": [\"Positive offset: looking future prices\", \"Max correlation (0.825) with an offset of -6 days\", \"Min correlation (0.608) with an offset of 150 days\"]}, \"$schema\": \"https://vega.github.io/schema/vega-lite/v4.8.1.json\"}, {\"mode\": \"vega-lite\"});\n",
       "</script>"
      ],
      "text/plain": [
       "alt.Chart(...)"
      ]
     },
     "execution_count": 24,
     "metadata": {},
     "output_type": "execute_result"
    }
   ],
   "source": [
    "methods = ['pearson', 'kendall', 'spearman']\n",
    "offsets = list(range(-150, 151)) # list of days offset to test\n",
    "\n",
    "correlations = []\n",
    "\n",
    "volume_vs_price = pd.DataFrame(daily_df['date'], columns=['date'])\n",
    "volume_vs_price['volume'] = daily_df['count']\n",
    "volume_vs_price = volume_vs_price.merge(market_df[['date', 'mid_price']], on='date')\n",
    "\n",
    "for method in methods:\n",
    "    method_correlations = [(method, offset, volume_vs_price['volume'].corr(sent_vs_price['mid_price'].shift(-offset), method=method))\n",
    "                           for offset in offsets]\n",
    "    correlations.extend(method_correlations)\n",
    "        \n",
    "correlations_df = pd.DataFrame(correlations, columns=['method', 'offset', 'correlation'])\n",
    "\n",
    "spearman_correlations = correlations_df[correlations_df['method'] == 'spearman']\n",
    "\n",
    "max_corr = max(spearman_correlations['correlation'])\n",
    "max_corr_offset = spearman_correlations[spearman_correlations['correlation'] == max_corr]['offset'].iloc[0]\n",
    "\n",
    "min_corr = min(spearman_correlations['correlation'])\n",
    "min_corr_offset = spearman_correlations[spearman_correlations['correlation'] == min_corr]['offset'].iloc[0]\n",
    "\n",
    "max_corr_text = f'Max correlation ({round(max_corr, 3)}) with an offset of {max_corr_offset} days'\n",
    "min_corr_text = f'Min correlation ({round(min_corr, 3)}) with an offset of {min_corr_offset} days'\n",
    "\n",
    "plot_title = alt.TitleParams('Twitter volume correlations', subtitle=['Positive offset: looking future prices',max_corr_text, min_corr_text])\n",
    "corr_chart = alt.Chart(correlations_df, title=plot_title).mark_line().encode(alt.X('offset', title='Offset days'),\n",
    "                                                          alt.Y('correlation', title='Correlation'),\n",
    "                                                          alt.Color('method', title='Method'))\n",
    "\n",
    "corr_chart"
   ]
  },
  {
   "cell_type": "markdown",
   "id": "danish-civilization",
   "metadata": {},
   "source": [
    "As for sentiment, Pearson correlation is not applicable, but this time its trend is more similar to the other two indices than before.\n",
    "\n",
    "An interesting thing is that the max correlation is slightly lower than max sentiment correlation, but this time with an offset of only 6 days in the past, volume more significant than sentiment?"
   ]
  },
  {
   "cell_type": "markdown",
   "id": "specified-costa",
   "metadata": {},
   "source": [
    "#### WLTCC"
   ]
  },
  {
   "cell_type": "code",
   "execution_count": 25,
   "id": "photographic-consultancy",
   "metadata": {},
   "outputs": [
    {
     "data": {
      "text/html": [
       "\n",
       "<div id=\"altair-viz-e85d402016e144249e87dc8544f3babd\"></div>\n",
       "<script type=\"text/javascript\">\n",
       "  (function(spec, embedOpt){\n",
       "    let outputDiv = document.currentScript.previousElementSibling;\n",
       "    if (outputDiv.id !== \"altair-viz-e85d402016e144249e87dc8544f3babd\") {\n",
       "      outputDiv = document.getElementById(\"altair-viz-e85d402016e144249e87dc8544f3babd\");\n",
       "    }\n",
       "    const paths = {\n",
       "      \"vega\": \"https://cdn.jsdelivr.net/npm//vega@5?noext\",\n",
       "      \"vega-lib\": \"https://cdn.jsdelivr.net/npm//vega-lib?noext\",\n",
       "      \"vega-lite\": \"https://cdn.jsdelivr.net/npm//vega-lite@4.8.1?noext\",\n",
       "      \"vega-embed\": \"https://cdn.jsdelivr.net/npm//vega-embed@6?noext\",\n",
       "    };\n",
       "\n",
       "    function loadScript(lib) {\n",
       "      return new Promise(function(resolve, reject) {\n",
       "        var s = document.createElement('script');\n",
       "        s.src = paths[lib];\n",
       "        s.async = true;\n",
       "        s.onload = () => resolve(paths[lib]);\n",
       "        s.onerror = () => reject(`Error loading script: ${paths[lib]}`);\n",
       "        document.getElementsByTagName(\"head\")[0].appendChild(s);\n",
       "      });\n",
       "    }\n",
       "\n",
       "    function showError(err) {\n",
       "      outputDiv.innerHTML = `<div class=\"error\" style=\"color:red;\">${err}</div>`;\n",
       "      throw err;\n",
       "    }\n",
       "\n",
       "    function displayChart(vegaEmbed) {\n",
       "      vegaEmbed(outputDiv, spec, embedOpt)\n",
       "        .catch(err => showError(`Javascript Error: ${err.message}<br>This usually means there's a typo in your chart specification. See the javascript console for the full traceback.`));\n",
       "    }\n",
       "\n",
       "    if(typeof define === \"function\" && define.amd) {\n",
       "      requirejs.config({paths});\n",
       "      require([\"vega-embed\"], displayChart, err => showError(`Error loading script: ${err.message}`));\n",
       "    } else if (typeof vegaEmbed === \"function\") {\n",
       "      displayChart(vegaEmbed);\n",
       "    } else {\n",
       "      loadScript(\"vega\")\n",
       "        .then(() => loadScript(\"vega-lite\"))\n",
       "        .then(() => loadScript(\"vega-embed\"))\n",
       "        .catch(showError)\n",
       "        .then(() => displayChart(vegaEmbed));\n",
       "    }\n",
       "  })({\"config\": {\"view\": {\"continuousWidth\": 400, \"continuousHeight\": 300}}, \"data\": {\"url\": \"altair-data-615dbb8b2e717338c29e1301e9c9240d.json\", \"format\": {\"type\": \"json\"}}, \"mark\": \"rect\", \"encoding\": {\"color\": {\"type\": \"quantitative\", \"field\": \"correlation\", \"scale\": {\"domain\": [-1, 1], \"range\": [\"#e45756\", \"#54a24b\"]}, \"title\": \"Correlation\"}, \"x\": {\"type\": \"ordinal\", \"field\": \"window\", \"title\": \"Window (120 days)\"}, \"y\": {\"type\": \"ordinal\", \"field\": \"offset\", \"title\": \"Offset days\"}}, \"height\": 800, \"title\": {\"text\": \"Windowed lagged correlation volume/price\", \"subtitle\": \"-1:= price as master, 1:= volume as master\"}, \"width\": 800, \"$schema\": \"https://vega.github.io/schema/vega-lite/v4.8.1.json\"}, {\"mode\": \"vega-lite\"});\n",
       "</script>"
      ],
      "text/plain": [
       "alt.Chart(...)"
      ]
     },
     "execution_count": 25,
     "metadata": {},
     "output_type": "execute_result"
    }
   ],
   "source": [
    "from math import ceil\n",
    "\n",
    "def get_window(series: pd.Series, window) -> pd.Series:\n",
    "    return series.iloc[window[0]: window[1]]\n",
    "    \n",
    "\n",
    "def windowed_corr(first: pd.Series, second: pd.Series) -> list:\n",
    "    windows = [(window * window_size, (window * window_size)+window_size) for window in range(ceil(len(second)/window_size))]\n",
    "    windows_corr = [get_window(first, window).corr(get_window(second, window), method = 'spearman') for window in windows]\n",
    "    return windows_corr, windows\n",
    "\n",
    "offsets = list(range(-66, 67, 4)) # reduced offsets for better visualization\n",
    "window_size = 120 # one window = one quarter\n",
    "\n",
    "windowed_correlations = []\n",
    "\n",
    "for offset in offsets:\n",
    "    windows_corr, windows = windowed_corr(volume_vs_price['volume'], volume_vs_price['mid_price'].shift(-offset))\n",
    "    for window, window_corr in enumerate(windows_corr):\n",
    "        windowed_correlations.append((window, window_corr, offset))\n",
    "    \n",
    "    \n",
    "windowed_correlations_df = pd.DataFrame(windowed_correlations, columns=['window', 'correlation', 'offset'])\n",
    "\n",
    "\n",
    "plot_title = alt.TitleParams('Windowed lagged correlation volume/price', subtitle='-1:= price as master, 1:= volume as master')\n",
    "color = alt.Color('correlation', scale=alt.Scale(domain=[-1, 1], range=[palette['negative'], palette['positive']]), title='Correlation')\n",
    "alt.Chart(windowed_correlations_df, height=800, width=800, title=plot_title).mark_rect().encode(alt.X('window:O', title=f'Window ({window_size} days)'), alt.Y('offset:O', title='Offset days'), color)\n"
   ]
  },
  {
   "cell_type": "markdown",
   "id": "lesser-microphone",
   "metadata": {},
   "source": [
    "It's simple to note that the right half of the heatmap is more or less green, this corresponds to the time range where the data crawling is better.\n",
    "\n",
    "In addition, if we look in the near future (positive offsets) the average correlation is not so bad compared to the maximum correlation."
   ]
  },
  {
   "cell_type": "markdown",
   "id": "modified-upset",
   "metadata": {},
   "source": [
    "#### Interactive WLTCC"
   ]
  },
  {
   "cell_type": "code",
   "execution_count": 26,
   "id": "departmental-gathering",
   "metadata": {},
   "outputs": [
    {
     "data": {
      "application/vnd.jupyter.widget-view+json": {
       "model_id": "88110eeceaca48b3bd76c1d965e708d9",
       "version_major": 2,
       "version_minor": 0
      },
      "text/plain": [
       "interactive(children=(IntSlider(value=60, continuous_update=False, description='window_size', max=365, min=5),…"
      ]
     },
     "metadata": {},
     "output_type": "display_data"
    }
   ],
   "source": [
    "from math import ceil\n",
    "\n",
    "def get_window(series: pd.Series, window) -> pd.Series:\n",
    "    return series.iloc[window[0]: window[1]]\n",
    "    \n",
    "\n",
    "def windowed_corr(first: pd.Series, second: pd.Series, window_size: int) -> list:\n",
    "    windows = [(window * window_size, (window * window_size)+window_size) for window in range(ceil(len(second)/window_size))]\n",
    "    windows_corr = [get_window(first, window).corr(get_window(second, window), method = 'spearman') for window in windows]\n",
    "    return windows_corr, windows\n",
    "\n",
    "\n",
    "def get_plot(window_size=60):\n",
    "    size = window_size\n",
    "    windowed_correlations = []\n",
    "\n",
    "    for offset in offsets:\n",
    "        windows_corr, windows = windowed_corr(volume_vs_price['volume'], volume_vs_price['mid_price'].shift(-offset), size)\n",
    "        for window, window_corr in enumerate(windows_corr):\n",
    "            windowed_correlations.append((window, window_corr, offset))\n",
    "\n",
    "\n",
    "    windowed_correlations_df = pd.DataFrame(windowed_correlations, columns=['window', 'correlation', 'offset'])\n",
    "\n",
    "\n",
    "    plot_title = alt.TitleParams('Windowed lagged correlation volume/price', subtitle=['Positive offset: looking future prices',\n",
    "                                                                                       '-1:= price as master, 1:= volume as master'])\n",
    "    color = alt.Color('correlation', scale=alt.Scale(domain=[-1, 1], range=[palette['negative'], palette['positive']]), title='Correlation')\n",
    "    return alt.Chart(windowed_correlations_df, height=750, width=750, title=plot_title).mark_rect().encode(alt.X('window:O', title=f'Window ({window_size} days)'), alt.Y('offset:O', title='Offset days'), color)\n",
    "    # return windowed_correlations_df\n",
    "\n",
    "\n",
    "interact(get_plot, window_size=IntSlider(value=60, min=5, max=365, step=1, continuous_update=False))\n",
    "    \n",
    "offsets = list(range(-66, 67, 4)) # reduced offsets for better visualization\n",
    "\n",
    "\n"
   ]
  }
 ],
 "metadata": {
  "kernelspec": {
   "display_name": "Python 3",
   "language": "python",
   "name": "python3"
  },
  "language_info": {
   "codemirror_mode": {
    "name": "ipython",
    "version": 3
   },
   "file_extension": ".py",
   "mimetype": "text/x-python",
   "name": "python",
   "nbconvert_exporter": "python",
   "pygments_lexer": "ipython3",
   "version": "3.8.6"
  }
 },
 "nbformat": 4,
 "nbformat_minor": 5
}
